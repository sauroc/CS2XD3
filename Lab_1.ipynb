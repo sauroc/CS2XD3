{
 "cells": [
  {
   "cell_type": "markdown",
   "metadata": {},
   "source": [
    "# Computer Science 2XC3 -  Lab I"
   ]
  },
  {
   "cell_type": "markdown",
   "metadata": {},
   "source": [
    "The goal of this lab to help you form your groups and understand how to use Jupyter Notebook and Git on your machines. These tools will be essential to write all software individually and in teams. Download this lab assignment from Avenue and complete the below tasks.\n",
    "\n",
    "1. Form a group of 2-3 students within your own lab section. Feel free to use the class MS Teams channel to reach out to potential members. When you post a message on Teams, make sure to include your Lab Section in the message and the number of members you are seeking. You can also ask the TA of your lab section to help you find your group mates. Do not wait until the last minute to do this.\n",
    "\n",
    "1. Discuss within the team, a) the expectations from each member on being a **team player**, as well as an **individual contributor**, b) culture and norms on handling unexpected issues such as health and personal crisis, c) protocols for providing timely and constructive feedback on each other's performance to ensure team success.\n",
    "\n",
    "1. Register your group with the TA by giving them the MAC IDs of all your group members. They will create a group on Avenue, where you will submit this completed document (and all other future documents). Instructions on submission are included at the end of this document.\n",
    "\n",
    "1. Complete the below Team Contract by briefly answering all the questions. **Please ensure that each response reflects the opinions and thoughts of all members with considerable agreement amongst the group members**."
   ]
  },
  {
   "cell_type": "markdown",
   "metadata": {},
   "source": [
    "### Team Contract"
   ]
  },
  {
   "cell_type": "markdown",
   "metadata": {},
   "source": [
    "**Part 1**: What will be your group’s communication protocol? Discuss about the tools/technology that you will use (e.g. email, text, Teams, etc.) and a reasonable timeline of expecting a response? For instance, when there is no submission deadline, replying to an email withing 1-2 business days might be reasonable. However, this delay will hamper team progress when your work is due tonight. Pleas discuss these expectations and your short response below."
   ]
  },
  {
   "cell_type": "markdown",
   "metadata": {},
   "source": [
    "We're going to be communicating through Instagram, and expecting a response within 1-2 business days. Communication will be much more frequent (like during the day or a day between) when the deadline is closer."
   ]
  },
  {
   "cell_type": "markdown",
   "metadata": {},
   "source": [
    "**Part 2**: Describe below, what would be a reasonable penalty if team members **repeatedly** fail to adhere to the above communication agreement. This penalty is not to single out individuals and penalize them but to ensure that every individual is aware of the consequences of not communicating timely with their team. The penalty you suggest below will be imposed on the entire team in circumstances when individuals fail to communicate with each other."
   ]
  },
  {
   "cell_type": "markdown",
   "metadata": {},
   "source": [
    "We'll reach out on the communication platform as needed, and more frequently if they fail to respond. If they do not, we'll reach out to our TA."
   ]
  },
  {
   "cell_type": "markdown",
   "metadata": {},
   "source": [
    "**Part 3**: Describe below the technology you will use to **collaborate** with each other (e.g Colab, VS code extensions) and **maintain version control** (e.g Git, SVN)."
   ]
  },
  {
   "cell_type": "markdown",
   "metadata": {},
   "source": [
    "We'll use Git for version control."
   ]
  },
  {
   "cell_type": "markdown",
   "metadata": {},
   "source": [
    "**Part 4**: What would be the team's policy when a team member fails to work due to a legitimate reason (MSAF)? In this class, if a student submits a MSAF for an assessment, the corresponding grade weight will shift to final exam. For instance, if you submit an MSAF for a graded lab with 10% grade weight, your final exam will weigh 40% instead of 30%. \n",
    "\n",
    "However, it is unfair distribution of workload when only a few team members submit the assessment while others MSAF it. Therefore, the lab weight will be shifted for the entire team or will not be shifted for anyone. Please explicitly state what will be your team strategy to respectfully handle such situations. Some options are:\n",
    "\n",
    "-\tThe team submits the assessment, and the person who is MSAF-ing it will take up x% workload for the next assessment.\n",
    "-\tThe team will vote and decide whether to submit or MSAF it.\n"
   ]
  },
  {
   "cell_type": "markdown",
   "metadata": {},
   "source": [
    "We agreed to handle this depending on the situation. If the lab seems doable by one group member, the person who did not MSAF the lab can complete it. However, if the lab seems like both team members need to be working on it, both team members will submit the MSAF to have the weighting moved. "
   ]
  },
  {
   "cell_type": "markdown",
   "metadata": {},
   "source": [
    "**Part 5**: Describe below how would you resolve team disputes. The TA team and me will be available to resolve disputes that are beyond your control. However, the team members should make an honest attempt to respectfully resolve the issue amongst themselved before you email me or the TAs. Please describe below what that attempt would look like"
   ]
  },
  {
   "cell_type": "markdown",
   "metadata": {},
   "source": [
    "Since there's only two of us, we can discuss the problem over the communication platform or in-person at labs. "
   ]
  },
  {
   "cell_type": "markdown",
   "metadata": {},
   "source": [
    "\n",
    "**Part 6**: In the box below, state any other material you wish to include in your team contract.\n"
   ]
  },
  {
   "cell_type": "markdown",
   "metadata": {},
   "source": []
  },
  {
   "cell_type": "markdown",
   "metadata": {},
   "source": [
    "### Submitting the Notebook"
   ]
  },
  {
   "cell_type": "markdown",
   "metadata": {},
   "source": [
    "**Covert your jupyter notebook into a PDF file and submitted the PDF file**. You will be performing this step to submit ALL your lab work, mid-terms and your final project, so make sure you are able to execute this effciently. Please take help from a TA to understand how to convert a Jupyter Notebook to PDF files. Please try this step ASAP and report any issues you face."
   ]
  },
  {
   "cell_type": "markdown",
   "metadata": {},
   "source": [
    "Please include your team names and Mac Ids in this section.\n",
    "\n",
    "Team Member 1: Christina Sauro (sauroc)\n",
    "\n",
    "Team Member 2: Bakhtawar Daud (daudb)\n",
    "\n",
    "Team Member 3 (optional):"
   ]
  }
 ],
 "metadata": {
  "kernelspec": {
   "display_name": "Python 3 (ipykernel)",
   "language": "python",
   "name": "python3"
  },
  "language_info": {
   "codemirror_mode": {
    "name": "ipython",
    "version": 3
   },
   "file_extension": ".py",
   "mimetype": "text/x-python",
   "name": "python",
   "nbconvert_exporter": "python",
   "pygments_lexer": "ipython3",
   "version": "3.9.12"
  }
 },
 "nbformat": 4,
 "nbformat_minor": 2
}
