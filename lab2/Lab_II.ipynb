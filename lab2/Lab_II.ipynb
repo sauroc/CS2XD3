{
  "cells": [
    {
      "cell_type": "markdown",
      "metadata": {
        "id": "nzShy_5g9GKl"
      },
      "source": [
        "# Computer Science 2XC3 - Graded Lab II"
      ]
    },
    {
      "cell_type": "markdown",
      "metadata": {
        "id": "DvVKViRa9GKn"
      },
      "source": [
        "In this day and age, it is very easy to generate automated solutions to any problem, not necessarily becuase of AI, but because of vast online communities that exist to find solution to popular/common problems. Whether or not that solution is correct and applicable to our context,  can be assessed only if we understand the concepts and can critically evaluate them. The goal of this lab is to motivate you to not only produce the correct solution to problems, but also to reflect about why, how and when your solution will likely succeed/fail.\n",
        "\n",
        "In this lab you will design experiments with sorting and search algorithms. Please read all instructions carefully. Seek the help of TA's if you need clarifications on the task. Do not hard code any results."
      ]
    },
    {
      "cell_type": "code",
      "execution_count": 2,
      "metadata": {
        "id": "UTLtaT8F9GKo"
      },
      "outputs": [],
      "source": [
        "import random\n",
        "import time\n",
        "import timeit\n",
        "import matplotlib.pyplot as plt\n",
        "import numpy as np"
      ]
    },
    {
      "cell_type": "markdown",
      "metadata": {
        "id": "V4MpOFky9GKo"
      },
      "source": [
        "---\n",
        "---"
      ]
    },
    {
      "cell_type": "markdown",
      "metadata": {
        "id": "rVsq1YTq9GKp"
      },
      "source": [
        "### Part A"
      ]
    },
    {
      "cell_type": "markdown",
      "metadata": {
        "id": "1yuoqa549GKp"
      },
      "source": [
        "##### A1. Implement three classes with the following sorting algorithms:\n",
        "- Bubble Sort\n",
        "- Insertion Sort\n",
        "- Selection Sort"
      ]
    },
    {
      "cell_type": "code",
      "execution_count": 3,
      "metadata": {
        "id": "NHklj0jP9GKp"
      },
      "outputs": [],
      "source": [
        "class BubbleSort:\n",
        "    def __init__(self, items_to_sort):\n",
        "        self.items = items_to_sort\n",
        "        self.sorted_items=[]\n",
        "\n",
        "        for item in self.items:\n",
        "            self.sorted_items.append(item)\n",
        "\n",
        "        for i in range(len(self.sorted_items)-1, 0, -1):\n",
        "            for j in range(i):\n",
        "                if self.sorted_items[j] > self.sorted_items[j + 1]:\n",
        "                    self.sorted_items[j], self.sorted_items[j + 1] = self.sorted_items[j + 1], self.sorted_items[j]\n",
        "\n",
        "\n",
        "\n",
        "    def get_sorted(self,):\n",
        "        return self.sorted_items\n",
        "\n",
        "\n",
        "\n",
        "# test = BubbleSort([6, 2, 3, 1, 4])\n",
        "# print(test.get_sorted())\n"
      ]
    },
    {
      "cell_type": "code",
      "execution_count": 4,
      "metadata": {
        "id": "WENb3a3r9GKq"
      },
      "outputs": [],
      "source": [
        "class InsertionSort:\n",
        "    def __init__(self, items_to_sort):\n",
        "        self.items = items_to_sort\n",
        "        self.sorted_items=[]\n",
        "\n",
        "        for item in self.items:\n",
        "            self.sorted_items.append(item)\n",
        "\n",
        "        for i in range(1, len(self.sorted_items)):\n",
        "            while i > 0 and self.sorted_items[i] < self.sorted_items[i - 1]:\n",
        "                self.sorted_items[i], self.sorted_items[i - 1] = self.sorted_items[i - 1], self.sorted_items[i]\n",
        "                i -= 1\n",
        "\n",
        "\n",
        "\n",
        "\n",
        "    def get_sorted(self,):\n",
        "        return self.sorted_items\n",
        "\n",
        "# test = InsertionSort([6, 2, 3, 1, 4])\n",
        "# print(test.get_sorted())"
      ]
    },
    {
      "cell_type": "code",
      "execution_count": 5,
      "metadata": {
        "id": "qkG8Y0jJ9GKq"
      },
      "outputs": [],
      "source": [
        "class SelectionSort:\n",
        "    def __init__(self, items_to_sort):\n",
        "        self.items = items_to_sort\n",
        "        self.sorted_items=[]\n",
        "\n",
        "        for item in self.items:\n",
        "            self.sorted_items.append(item)\n",
        "\n",
        "        index = 0\n",
        "        while index < len(self.sorted_items):\n",
        "            # Using a variable to keep track of the minimum item of the list, default to the first element being examined\n",
        "            smallest = index\n",
        "\n",
        "            # From the index position to the end of the list, find the smallest element\n",
        "\n",
        "            for j in range(index + 1, len(self.sorted_items)):\n",
        "                if self.sorted_items[smallest] > self.sorted_items[j]:\n",
        "                    smallest = j\n",
        "\n",
        "            # Swapping the index element and the smallest element\n",
        "            # Since the index variable is being incremented, and everything before index is assumed to be sorted,\n",
        "            # This action moves the smallest found element to the beginning of the subarray, increasing the already sorted portion\n",
        "            self.sorted_items[index], self.sorted_items[smallest] = self.sorted_items[smallest], self.sorted_items[index]\n",
        "\n",
        "            # Incrementing the index variable so that the bounds of the right subarray examined is now smaller\n",
        "            index += 1\n",
        "\n",
        "\n",
        "\n",
        "    def get_sorted(self,):\n",
        "        return self.sorted_items\n",
        "\n",
        "# test = SelectionSort([6, 2, 3, 1, 4])\n",
        "# print(test.get_sorted())"
      ]
    },
    {
      "cell_type": "markdown",
      "metadata": {
        "id": "vhQETOWD9GKr"
      },
      "source": [
        "___"
      ]
    },
    {
      "cell_type": "markdown",
      "metadata": {
        "id": "dm5cRFLn9GKr"
      },
      "source": [
        "##### A2. Compute the performance of above 3 algorithms on a single list of real numbers.\n",
        "\n",
        "First generate a custom random list using function <code> create_custom_list()</code>. Execute each of the above algorithm for N trials ( select N >= 75) on the list and plot the timing of each execution on a bar chart. Also calculate the average execution time for the entire batch of N trials ( you can either display it on the chart or simply <code> print()</code> it). For larger values of N, consider breaking N trials into mini batches of n executions and plotting execution times for each mini batch. For instance, if you select N=1000, to plot execution timings for 1000 trials, you may break them into mini batch of n=10 trials and display average of each mini batch. This will reduce clutter in your bar charts while still enabling you to perform extensive testing with higher N.\n",
        "\n",
        "Execute each of the above algorithm on the same set of integers. The outcome of your code should be 3 charts for each algorithm run on your list N times. Few utility functions are given below. You do not have to necessarily use the <code> draw_plot()</code> function. You can plot your timings using an excel sheet and paste the image of your timings here. Refer to [Markdown Guide](https://www.markdownguide.org/basic-syntax/) on how to add images in the jupyter notebook or ask your TA."
      ]
    },
    {
      "cell_type": "code",
      "execution_count": null,
      "metadata": {
        "id": "4bE1vIau9GKr"
      },
      "outputs": [],
      "source": [
        "def create_custom_list(length, max_value, item=None, item_index=None):\n",
        "    random_list = [random.randint(0,max_value) for i in range(length)]\n",
        "    if item!= None:\n",
        "        random_list.insert(item_index,item)\n",
        "    return random_list"
      ]
    },
    {
      "cell_type": "code",
      "execution_count": null,
      "metadata": {
        "id": "Du-WuIG29GKs"
      },
      "outputs": [],
      "source": [
        "def draw_plot(run_arr):\n",
        "    x = np.arange(0, len(run_arr),1)\n",
        "    fig=plt.figure(figsize=(20,8))\n",
        "    plt.bar(x,run_arr)\n",
        "    plt.axhline(np.mean(run_arr),color=\"red\",linestyle=\"--\",label=\"Avg\")\n",
        "    plt.xlabel(\"Iterations\")\n",
        "    plt.ylabel(\"Run time in ms order of 1e-6\")\n",
        "    plt.title(\"Run time for retrieval\")\n",
        "    plt.show()"
      ]
    },
    {
      "cell_type": "code",
      "execution_count": null,
      "metadata": {
        "id": "1Tr5LPb-9GKs"
      },
      "outputs": [],
      "source": [
        "### Bubble sort experiment code goes here\n",
        "\n",
        "runs = 100\n",
        "run_times = []\n",
        "test_list = create_custom_list(10, 50)\n",
        "\n",
        "for i in range(runs):\n",
        "    start = timeit.default_timer()\n",
        "\n",
        "    test_case = BubbleSort(test_list)\n",
        "\n",
        "    stop = timeit.default_timer()\n",
        "\n",
        "    run_times.append(stop-start)\n",
        "\n",
        "draw_plot(run_times)"
      ]
    },
    {
      "cell_type": "code",
      "execution_count": null,
      "metadata": {
        "id": "7lXSqcGl9GKs"
      },
      "outputs": [],
      "source": [
        "### Insertion sort experiment code goes here"
      ]
    },
    {
      "cell_type": "code",
      "execution_count": null,
      "metadata": {
        "id": "G1R2Vezw9GKs"
      },
      "outputs": [],
      "source": [
        "### Selection sort experiment code goes here"
      ]
    },
    {
      "cell_type": "markdown",
      "metadata": {
        "id": "vEnW1XbS9GKt"
      },
      "source": [
        "You would notice that certain sorting algorithms have better time complexity (or performance) than others. Write below a reflection of your observations. Can you confidently compare the performance across the 3 algorithms? Why does certain algorithm perform better than the other? What are the various factors impacting the best performing and the worst performing algorithm. Write a few sentences answering each of the above questions. Also describe any other observation you found important.\n",
        "\n",
        "**Reflection**:\n"
      ]
    },
    {
      "cell_type": "markdown",
      "metadata": {
        "id": "zHlaEZ4i9GKt"
      },
      "source": [
        "---"
      ]
    },
    {
      "cell_type": "markdown",
      "metadata": {
        "id": "m13diWXz9GKt"
      },
      "source": [
        "##### A3. Compute the performance of above 3 algorithms on a different list sizes.\n",
        "\n",
        "The <code> create_custom_list()</code> helps you create lists of varying lengths and range of numbers. Plot a **line chart** that shows the performance of each algorithm on different list sizes ranging between 1 - 100,000 integers. If you think about this question, you are essentially plotting the time complexity on various list sizes."
      ]
    },
    {
      "cell_type": "code",
      "execution_count": null,
      "metadata": {
        "id": "_tVg-gus9GKt"
      },
      "outputs": [],
      "source": [
        "### Bubble sort experiment code goes here"
      ]
    },
    {
      "cell_type": "code",
      "execution_count": null,
      "metadata": {
        "id": "VxgpwWOu9GKt"
      },
      "outputs": [],
      "source": [
        "### Insertion sort experiment code goes here"
      ]
    },
    {
      "cell_type": "code",
      "execution_count": null,
      "metadata": {
        "id": "rglJmlcG9GKu"
      },
      "outputs": [],
      "source": [
        "### Selection sort experiment code goes here"
      ]
    },
    {
      "cell_type": "markdown",
      "metadata": {
        "id": "Pw_Yl2cK9GKu"
      },
      "source": [
        "Describe you results here. What did you observe when comparing the charts? Which algorithm was more performant and why?\n",
        "\n",
        "**Reflection** :"
      ]
    },
    {
      "cell_type": "markdown",
      "metadata": {
        "id": "aMbbQdxJ9GKu"
      },
      "source": [
        "---"
      ]
    },
    {
      "cell_type": "markdown",
      "metadata": {
        "id": "iEWp2gT29GKu"
      },
      "source": [
        "##### A4. Compute the performance of above 3 algorithms on a different list \"states\".\n",
        "\n",
        "Using the same above list generation function (or writing a function of your own), create two different lists states:\n",
        "\n",
        "- A state where the list is **near** sorted.\n",
        "- A state where the list is completely unsorted.\n",
        "\n",
        "HINTS:\n",
        "\n",
        "- You can implement a \"controlled\" Quicksort algorithm for such a function. While you can find many implementations of such a function online, significant number of those solutions originate from this psuedocode [Generating Sorted Lists of Random Numbers](https://dl.acm.org/doi/pdf/10.1145/355900.355907).\n",
        "\n",
        "- You can modify the list generation code given above to create the above list examples.\n",
        "\n",
        "Compare the performance of all 3 sorting algorithms on these two lists. Plot their performance on bar chart and display them here."
      ]
    },
    {
      "cell_type": "code",
      "execution_count": null,
      "metadata": {
        "id": "LdeVt38T9GKu"
      },
      "outputs": [],
      "source": [
        "### Bubble sort experiment code goes here"
      ]
    },
    {
      "cell_type": "code",
      "execution_count": null,
      "metadata": {
        "id": "EhirAH7p9GKu"
      },
      "outputs": [],
      "source": [
        "### Selection sort experiment code goes here"
      ]
    },
    {
      "cell_type": "code",
      "execution_count": null,
      "metadata": {
        "id": "kuKBcaXU9GKu"
      },
      "outputs": [],
      "source": [
        "### Insertion sort experiment code goes here"
      ]
    },
    {
      "cell_type": "markdown",
      "metadata": {
        "id": "KwDmHdgi9GKv"
      },
      "source": [
        "Describe you observations here. Which algorithm performs best / worst for sorted/near sorted lists and why? Does the performance vary significantly? Describe which runs times were higher and why do you think that is? You woul\n",
        "\n",
        "**Reflection** :"
      ]
    },
    {
      "cell_type": "markdown",
      "metadata": {
        "id": "2mM9KDKY9GKv"
      },
      "source": [
        "---\n",
        "---"
      ]
    },
    {
      "cell_type": "markdown",
      "metadata": {
        "id": "nGZsRIKV9GKv"
      },
      "source": [
        "### Part B"
      ]
    },
    {
      "cell_type": "markdown",
      "metadata": {
        "id": "Q9pMcr9q9GKv"
      },
      "source": [
        "In the class, we discussed three implementations of Binary Search."
      ]
    },
    {
      "cell_type": "code",
      "execution_count": 6,
      "metadata": {
        "id": "-Y-fcizg9GKv"
      },
      "outputs": [],
      "source": [
        "def binary_search_1(item_list, to_find):\n",
        "    lower=0\n",
        "    upper=len(item_list)-1\n",
        "    while lower < upper:\n",
        "        mid = (lower+upper)//2\n",
        "        if item_list[mid] == to_find:\n",
        "            return True\n",
        "        if item_list[mid] < to_find:\n",
        "            lower = mid+1\n",
        "        else:\n",
        "            upper=mid\n",
        "    return item_list[lower]==to_find"
      ]
    },
    {
      "cell_type": "code",
      "execution_count": 7,
      "metadata": {
        "id": "ax2eJMtV9GKv"
      },
      "outputs": [],
      "source": [
        "def binary_search_2(item_list, to_find):\n",
        "    lower=0\n",
        "    upper=len(item_list)-1\n",
        "    while lower <= upper:\n",
        "        mid = (lower+upper)//2\n",
        "        if item_list[mid] == to_find:\n",
        "            return True\n",
        "        if item_list[mid] < to_find:\n",
        "            lower = mid+1\n",
        "        else:\n",
        "            upper=mid-1\n",
        "    return item_list[lower]==to_find"
      ]
    },
    {
      "cell_type": "code",
      "execution_count": 8,
      "metadata": {
        "id": "QehQ57OW9GKv"
      },
      "outputs": [],
      "source": [
        "def binary_search_3(item_list, to_find):\n",
        "    left=0\n",
        "    right=len(item_list)-1\n",
        "    while left != right:\n",
        "        mid = (left+right)//2\n",
        "        if item_list[mid] < to_find:\n",
        "            left = mid+1\n",
        "        elif item_list[mid] > to_find:\n",
        "            right = mid\n",
        "        else:\n",
        "            return True\n",
        "    return item_list[left]==to_find"
      ]
    },
    {
      "cell_type": "markdown",
      "metadata": {
        "id": "JVzfJcYe9GKv"
      },
      "source": [
        "Compare the performance of each implementation (or variation) with two lists:\n",
        "\n",
        "1. List is odd numbered (minimum 1000 integers)\n",
        "1. List is even numbered (minimum 1000 integers)\n",
        "\n",
        "Run the above experiments when the item to be found is:\n",
        "1. At the begining of the list.\n",
        "1. Towards the end of the list.\n",
        "1. Right at the middle of the list.\n",
        "\n",
        "The above three combinations would yield 3X2 experiments. Provide detailed outline of the experiments, plots, and a brief description of the observations in the reflections section."
      ]
    },
    {
      "cell_type": "code",
      "source": [
        "def draw_show_plot(run_arr):\n",
        "    x = np.arange(0, len(run_arr),1)\n",
        "    fig=plt.figure(figsize=(20,8))\n",
        "    plt.bar(x,run_arr)\n",
        "    plt.axhline(np.mean(run_arr),color=\"red\",linestyle=\"--\",label=\"Avg\")\n",
        "    plt.xlabel(\"Tests\")\n",
        "    plt.ylabel(\"Run time in ms order of 1e-6\")\n",
        "    plt.title(\"Run time for retrieval\")\n",
        "    plt.show()"
      ],
      "metadata": {
        "id": "a2s5YUPz-g_a"
      },
      "execution_count": 9,
      "outputs": []
    },
    {
      "cell_type": "code",
      "execution_count": 10,
      "metadata": {
        "id": "ZP-8Ny5n9GKw"
      },
      "outputs": [],
      "source": [
        "def create_custom_list(length, max_value, item=None, item_index=None):\n",
        "    random_list = [random.randint(0,max_value) for i in range(length)]\n",
        "    if item!= None:\n",
        "        random_list.insert(item_index,item)\n",
        "    return random_list"
      ]
    },
    {
      "cell_type": "code",
      "source": [
        "#make both lists\n",
        "evenList = create_custom_list(1000, 2000, 1, 0)\n",
        "oddList = create_custom_list(1001, 2000, 1, 0)\n",
        "\n",
        "#sort both lists\n",
        "evenList.sort()\n",
        "oddList.sort()\n"
      ],
      "metadata": {
        "id": "t5SkdcET9T6C"
      },
      "execution_count": 11,
      "outputs": []
    },
    {
      "cell_type": "code",
      "source": [
        "#use bs1 to find whatever number is at index 2 in both lists\n",
        "#use bs1 to find whatever number is at index 997 in both lists\n",
        "#use bs1 to find whatever number is at index 500 in both lists\n",
        "#append the run time of each search attempt to run_times_1\n",
        "\n",
        "#test\n",
        "'''print(evenList[2])\n",
        "print(oddList[2])\n",
        "print(evenList[997])\n",
        "print(oddList[997])\n",
        "print(evenList[500])\n",
        "print(oddList[500])'''\n",
        "\n",
        "\n",
        "run_times_1 = []\n",
        "\n",
        "start= timeit.default_timer()\n",
        "binary_search_1(evenList, evenList[2])\n",
        "stop=timeit.default_timer()\n",
        "run_times_1.append(stop-start)\n",
        "\n",
        "start= timeit.default_timer()\n",
        "binary_search_1(oddList, oddList[2])\n",
        "stop=timeit.default_timer()\n",
        "run_times_1.append(stop-start)\n",
        "\n",
        "start= timeit.default_timer()\n",
        "binary_search_1(evenList, evenList[997])\n",
        "stop=timeit.default_timer()\n",
        "run_times_1.append(stop-start)\n",
        "\n",
        "start= timeit.default_timer()\n",
        "binary_search_1(oddList, oddList[997])\n",
        "stop=timeit.default_timer()\n",
        "run_times_1.append(stop-start)\n",
        "\n",
        "start= timeit.default_timer()\n",
        "binary_search_1(evenList, evenList[500])\n",
        "stop=timeit.default_timer()\n",
        "run_times_1.append(stop-start)\n",
        "\n",
        "start= timeit.default_timer()\n",
        "binary_search_1(oddList, oddList[500])\n",
        "stop=timeit.default_timer()\n",
        "run_times_1.append(stop-start)\n",
        "\n",
        "print(run_times_1)\n"
      ],
      "metadata": {
        "colab": {
          "base_uri": "https://localhost:8080/"
        },
        "id": "_DO2kKVv9Vct",
        "outputId": "d72cdb3e-1ecb-4e20-8b95-7356554d6573"
      },
      "execution_count": 12,
      "outputs": [
        {
          "output_type": "stream",
          "name": "stdout",
          "text": [
            "[0.00010578699999541641, 8.64410000076532e-05, 9.237500000836008e-05, 9.060100001079263e-05, 7.665300000780917e-05, 7.73309999999583e-05]\n"
          ]
        }
      ]
    },
    {
      "cell_type": "code",
      "source": [
        "#do the same with bs2\n",
        "run_times_2 = []\n",
        "\n",
        "start= timeit.default_timer()\n",
        "binary_search_2(evenList, evenList[2])\n",
        "stop=timeit.default_timer()\n",
        "run_times_2.append(stop-start)\n",
        "\n",
        "start= timeit.default_timer()\n",
        "binary_search_2(oddList, oddList[2])\n",
        "stop=timeit.default_timer()\n",
        "run_times_2.append(stop-start)\n",
        "\n",
        "start= timeit.default_timer()\n",
        "binary_search_2(evenList, evenList[997])\n",
        "stop=timeit.default_timer()\n",
        "run_times_2.append(stop-start)\n",
        "\n",
        "start= timeit.default_timer()\n",
        "binary_search_2(oddList, oddList[997])\n",
        "stop=timeit.default_timer()\n",
        "run_times_2.append(stop-start)\n",
        "\n",
        "start= timeit.default_timer()\n",
        "binary_search_2(evenList, evenList[500])\n",
        "stop=timeit.default_timer()\n",
        "run_times_2.append(stop-start)\n",
        "\n",
        "start= timeit.default_timer()\n",
        "binary_search_2(oddList, oddList[500])\n",
        "stop=timeit.default_timer()\n",
        "run_times_2.append(stop-start)\n",
        "\n",
        "print(run_times_2)"
      ],
      "metadata": {
        "colab": {
          "base_uri": "https://localhost:8080/"
        },
        "id": "QUn7Raa69XWG",
        "outputId": "75f4e684-9753-4086-be68-b79fa6254c5b"
      },
      "execution_count": 13,
      "outputs": [
        {
          "output_type": "stream",
          "name": "stdout",
          "text": [
            "[0.00012113799999724506, 0.001725477999997338, 0.000123089999988224, 0.00011517900000512782, 8.797699999263386e-05, 0.00011944299998845054]\n"
          ]
        }
      ]
    },
    {
      "cell_type": "code",
      "source": [
        "#do the same with bs3\n",
        "run_times_3 = []\n",
        "\n",
        "start= timeit.default_timer()\n",
        "binary_search_3(evenList, evenList[2])\n",
        "stop=timeit.default_timer()\n",
        "run_times_3.append(stop-start)\n",
        "\n",
        "start= timeit.default_timer()\n",
        "binary_search_3(oddList, oddList[2])\n",
        "stop=timeit.default_timer()\n",
        "run_times_3.append(stop-start)\n",
        "\n",
        "start= timeit.default_timer()\n",
        "binary_search_3(evenList, evenList[997])\n",
        "stop=timeit.default_timer()\n",
        "run_times_3.append(stop-start)\n",
        "\n",
        "start= timeit.default_timer()\n",
        "binary_search_3(oddList, oddList[997])\n",
        "stop=timeit.default_timer()\n",
        "run_times_3.append(stop-start)\n",
        "\n",
        "start= timeit.default_timer()\n",
        "binary_search_3(evenList, evenList[500])\n",
        "stop=timeit.default_timer()\n",
        "run_times_3.append(stop-start)\n",
        "\n",
        "start= timeit.default_timer()\n",
        "binary_search_3(oddList, oddList[500])\n",
        "stop=timeit.default_timer()\n",
        "run_times_3.append(stop-start)\n",
        "\n",
        "print(run_times_3)\n"
      ],
      "metadata": {
        "colab": {
          "base_uri": "https://localhost:8080/"
        },
        "id": "QJ9wuaEq9ZFg",
        "outputId": "557a94a0-8cfe-4c11-ad49-ca234e3eb6fc"
      },
      "execution_count": 14,
      "outputs": [
        {
          "output_type": "stream",
          "name": "stdout",
          "text": [
            "[0.0002304170000115846, 0.00011264700000879202, 0.00011073999999666739, 0.00010921399999119785, 9.256600000639992e-05, 9.343199999989338e-05]\n"
          ]
        }
      ]
    },
    {
      "cell_type": "code",
      "source": [
        "'''draw_show_plot(run_times_1)\n",
        "draw_show_plot(run_times_2)\n",
        "draw_show_plot(run_times_3)'''"
      ],
      "metadata": {
        "colab": {
          "base_uri": "https://localhost:8080/",
          "height": 36
        },
        "id": "vca3OSnE-xd1",
        "outputId": "d2ad024f-1da5-4a3a-89b0-7e37ea95c2b7"
      },
      "execution_count": 15,
      "outputs": [
        {
          "output_type": "execute_result",
          "data": {
            "text/plain": [
              "'draw_show_plot(run_times_1)\\ndraw_show_plot(run_times_2)\\ndraw_show_plot(run_times_3)'"
            ],
            "application/vnd.google.colaboratory.intrinsic+json": {
              "type": "string"
            }
          },
          "metadata": {},
          "execution_count": 15
        }
      ]
    },
    {
      "cell_type": "markdown",
      "metadata": {
        "id": "S3J6adG_9GKw"
      },
      "source": [
        "**Reflection**:"
      ]
    },
    {
      "cell_type": "markdown",
      "source": [
        "(reflection)"
      ],
      "metadata": {
        "id": "008SsmYPkkbh"
      }
    },
    {
      "cell_type": "markdown",
      "metadata": {
        "id": "by-AAyr49GKw"
      },
      "source": [
        "---\n",
        "---"
      ]
    },
    {
      "cell_type": "markdown",
      "metadata": {
        "id": "sP1LUJ0L9GKw"
      },
      "source": [
        "### Part C"
      ]
    },
    {
      "cell_type": "markdown",
      "metadata": {
        "id": "RneLfbuN9GKw"
      },
      "source": [
        "Recall that I discussed in the class, the possibility of \"reducing the comparisons\" in Binary Search implementation. One solution came up is to remove the comparison with \"mid\". If you design an experiment to test this, you will soon realize that while this speeds up the execution time by reducing the number of comparisons needed, it fails when the element to be searched is right in the middle.  So are there any ways to improve the speed of Binary Search that is not dependent on data? The answer is recursion! In this section, implement a Binary Search recursively."
      ]
    },
    {
      "cell_type": "code",
      "execution_count": null,
      "metadata": {
        "id": "iOpcT7vr9GKw"
      },
      "outputs": [],
      "source": [
        "def binary_search_4(item_list, to_find):\n",
        "    return False"
      ]
    },
    {
      "cell_type": "markdown",
      "metadata": {
        "id": "syD2Xh9A9GKw"
      },
      "source": [
        "Run all the experiments in Part B comapring all 4 implementations under all 6 cases. Plot the timings, and describe the results in the below section. Write a short description of your observation; why is recursion better in this case?"
      ]
    },
    {
      "cell_type": "code",
      "execution_count": null,
      "metadata": {
        "id": "r7CWgUON9GKx"
      },
      "outputs": [],
      "source": [
        "# your implementation and experiments go here."
      ]
    },
    {
      "cell_type": "markdown",
      "metadata": {
        "id": "3C-XWj1Z9GKx"
      },
      "source": [
        "##### Result Discussion:"
      ]
    },
    {
      "cell_type": "markdown",
      "metadata": {
        "id": "aK2ThK8_9GKx"
      },
      "source": [
        "---\n",
        "---"
      ]
    },
    {
      "cell_type": "markdown",
      "metadata": {
        "id": "aWcfK29g9GKx"
      },
      "source": [
        "### PART D"
      ]
    },
    {
      "cell_type": "markdown",
      "metadata": {
        "id": "rRh-CUnU9GKx"
      },
      "source": [
        "Now that you are comfortable in designing experiments, in this section, use the implementations of **Heap**, **Merge**, and **Quick** sort discussed in class and run suitable experiments to compare the runtimes of these three algorithms.\n",
        "\n",
        "Hint: it should become clear where Quick sort gets its name."
      ]
    },
    {
      "cell_type": "code",
      "execution_count": null,
      "metadata": {
        "id": "EVUhpT5M9GKx"
      },
      "outputs": [],
      "source": [
        "# your implementation and experiments go here."
      ]
    },
    {
      "cell_type": "markdown",
      "metadata": {
        "id": "M-L8VVTP9GKy"
      },
      "source": [
        "In this section, provide a detailed outline of:\n",
        "- The experiments you ran, length values of the list you chose, number of runs, etc.\n",
        "- The plots showing the run times corresponding to each algorithm.\n",
        "- A brief discussion and conclusion regarding the results. A few sentences are fine here."
      ]
    },
    {
      "cell_type": "markdown",
      "metadata": {
        "id": "qlDTUPyg9GKy"
      },
      "source": [
        "---\n",
        "---"
      ]
    },
    {
      "cell_type": "markdown",
      "metadata": {
        "id": "jcZRMfDr9GKy"
      },
      "source": [
        "### PART E"
      ]
    },
    {
      "cell_type": "markdown",
      "metadata": {
        "id": "1nxVTLFj9GKy"
      },
      "source": [
        "E1. In previous experiments you also saw that not all algorithms are suitable for all scenarios. For instance, Merge Sort is better than Quick sort for certain situations. In this section, design a experiment to compare the scenarios where Merge Sort is better/worse than Quick Sort. You can use the traditional version of Merge Sort or use improved version ( maybe via recursion) to compare this performance."
      ]
    },
    {
      "cell_type": "code",
      "execution_count": null,
      "metadata": {
        "id": "L8ASWB399GKy"
      },
      "outputs": [],
      "source": [
        "# your implementation and experiments go here."
      ]
    },
    {
      "cell_type": "markdown",
      "metadata": {
        "id": "9uH3oubT9GKz"
      },
      "source": [
        "In this section, provide a detailed outline of:\n",
        "- The experiments you ran, length values of the list you chose, number of runs, etc.\n",
        "- The plots showing the run times corresponding to each algorithm.\n",
        "- A brief discussion and conclusion regarding the results. A few sentences are fine here."
      ]
    },
    {
      "cell_type": "markdown",
      "metadata": {
        "id": "tpHhE7xf9GKz"
      },
      "source": [
        "---"
      ]
    },
    {
      "cell_type": "markdown",
      "metadata": {
        "id": "O32O6ywS9GKz"
      },
      "source": [
        "E2. Recall that on the first day of class I asked which two algorithms have similar complexity - Merge Sort and Quick Sort under (O(nlogn)) are likely to perform similar under average cases. However, under worst case, the complexity of quick sort is much worse (O(n^2). Design an experiment to show this behavior. Plot this behavior on a bar/line chart.\n",
        "\n",
        "Next, count the number of \"swaps\" after which Quick sort starts behaving comparable to Merge sort.\n",
        "\n",
        "HINT: This will be a threshold at which the quick sort algorithm picks up again.\n"
      ]
    },
    {
      "cell_type": "code",
      "execution_count": null,
      "metadata": {
        "id": "-0jAsrlP9GKz"
      },
      "outputs": [],
      "source": [
        "## your implementation and code goes here"
      ]
    },
    {
      "cell_type": "markdown",
      "metadata": {
        "id": "eBWsMZho9GKz"
      },
      "source": [
        "In this section, provide a detailed outline of:\n",
        "- The experiments you ran and the rationale behind your worst case scenario.\n",
        "- The plots showing the run times.\n",
        "\n",
        "Further explain how you computed the swaps and verify that you calculation is correct, by applying it on a diifferent list under same experimental conditions."
      ]
    },
    {
      "cell_type": "markdown",
      "metadata": {
        "id": "WEABrZnK9GKz"
      },
      "source": [
        "**Reflection**:"
      ]
    },
    {
      "cell_type": "markdown",
      "metadata": {
        "id": "VKeWtPj_9GK0"
      },
      "source": [
        "---\n",
        "---"
      ]
    },
    {
      "cell_type": "markdown",
      "metadata": {
        "id": "Zt5c1KwV9GK0"
      },
      "source": [
        "### PART F"
      ]
    },
    {
      "cell_type": "markdown",
      "metadata": {
        "id": "teFu7kxn9GK0"
      },
      "source": [
        "Traditionally, Insertion Sort is worst than Heap Sort and Merge Sort. Now that you are a master at critical evaluation of sorting and searching algorithms, design an experiment to show that this may not be universally true. That is, there maybe scenarios where insertion sort is better than merge and heap sort.\n",
        "\n",
        "HINT: Think about the Best Case of insertion sort.\n",
        "\n",
        "Again, provide:\n",
        "- An explicit outline of the experiments you ran. That is, list length values, how many “runs”, etc.\n",
        "- A graph of list length vs time displaying the appropriate three curves showing. List lengths should be small here.\n",
        "- A brief discussion and conclusion regarding the results. A few sentences are fine here.\n",
        "- Reflect on why these are experiments are important.\n",
        "\n",
        "HINT: Can you create some sort of \"hybrid\" sort that would be better?"
      ]
    },
    {
      "cell_type": "code",
      "execution_count": null,
      "metadata": {
        "id": "-ze6nTW69GK0"
      },
      "outputs": [],
      "source": [
        "## your implementation and code goes here"
      ]
    },
    {
      "cell_type": "markdown",
      "metadata": {
        "id": "MqHVsqN19GK0"
      },
      "source": [
        "**Reflection**:"
      ]
    },
    {
      "cell_type": "markdown",
      "metadata": {
        "id": "tD6vQR749GK0"
      },
      "source": [
        "---\n",
        "---"
      ]
    },
    {
      "cell_type": "markdown",
      "metadata": {
        "id": "lYOZdkAX9GK1"
      },
      "source": [
        "**Team Contributions**: In below section describe in detail how you distributed the workload and contributions of each member in the task."
      ]
    },
    {
      "cell_type": "markdown",
      "metadata": {
        "id": "q_5Eou2q9GK1"
      },
      "source": []
    },
    {
      "cell_type": "markdown",
      "metadata": {
        "id": "ns5V0OgO9GK1"
      },
      "source": [
        "---\n",
        "---"
      ]
    },
    {
      "cell_type": "markdown",
      "metadata": {
        "id": "WqQt3Atx9GK1"
      },
      "source": []
    }
  ],
  "metadata": {
    "kernelspec": {
      "display_name": "base",
      "language": "python",
      "name": "python3"
    },
    "language_info": {
      "codemirror_mode": {
        "name": "ipython",
        "version": 3
      },
      "file_extension": ".py",
      "mimetype": "text/x-python",
      "name": "python",
      "nbconvert_exporter": "python",
      "pygments_lexer": "ipython3",
      "version": "3.9.12"
    },
    "colab": {
      "provenance": []
    }
  },
  "nbformat": 4,
  "nbformat_minor": 0
}