{
 "cells": [
  {
   "cell_type": "markdown",
   "metadata": {},
   "source": [
    "# Computer Science 2XC3 - Graded Lab II"
   ]
  },
  {
   "cell_type": "markdown",
   "metadata": {},
   "source": [
    "In this day and age, it is very easy to generate automated solutions to any problem, not necessarily becuase of AI, but because of vast online communities that exist to find solution to popular/common problems. Whether or not that solution is correct and applicable to our context,  can be assessed only if we understand the concepts and can critically evaluate them. The goal of this lab is to motivate you to not only produce the correct solution to problems, but also to reflect about why, how and when your solution will likely succeed/fail. \n",
    "\n",
    "In this lab you will design experiments with sorting and search algorithms. Please read all instructions carefully. Seek the help of TA's if you need clarifications on the task. Do not hard code any results."
   ]
  },
  {
   "cell_type": "code",
   "execution_count": 5,
   "metadata": {},
   "outputs": [],
   "source": [
    "import random\n",
    "import time\n",
    "import timeit \n",
    "import matplotlib.pyplot as plt\n",
    "import numpy as np"
   ]
  },
  {
   "cell_type": "markdown",
   "metadata": {},
   "source": [
    "---\n",
    "---"
   ]
  },
  {
   "cell_type": "markdown",
   "metadata": {},
   "source": [
    "### Part A"
   ]
  },
  {
   "cell_type": "markdown",
   "metadata": {},
   "source": [
    "##### A1. Implement three classes with the following sorting algorithms:\n",
    "- Bubble Sort\n",
    "- Insertion Sort\n",
    "- Selection Sort"
   ]
  },
  {
   "cell_type": "code",
   "execution_count": 6,
   "metadata": {},
   "outputs": [],
   "source": [
    "class BubbleSort:\n",
    "    def __init__(self, items_to_sort):\n",
    "        self.items = items_to_sort\n",
    "        self.sorted_items=[]\n",
    "\n",
    "        for item in self.items:\n",
    "            self.sorted_items.append(item)\n",
    "\n",
    "        for i in range(len(self.sorted_items)-1, 0, -1):\n",
    "            for j in range(i):\n",
    "                if self.sorted_items[j] > self.sorted_items[j + 1]:\n",
    "                    self.sorted_items[j], self.sorted_items[j + 1] = self.sorted_items[j + 1], self.sorted_items[j]\n",
    "\n",
    "\n",
    "\n",
    "    def get_sorted(self,):\n",
    "        return self.sorted_items\n",
    "\n",
    "\n",
    "\n",
    "# test = BubbleSort([6, 2, 3, 1, 4])\n",
    "# print(test.get_sorted())\n"
   ]
  },
  {
   "cell_type": "code",
   "execution_count": 7,
   "metadata": {},
   "outputs": [],
   "source": [
    "class InsertionSort:\n",
    "    def __init__(self, items_to_sort):\n",
    "        self.items = items_to_sort\n",
    "        self.sorted_items=[]\n",
    "\n",
    "        for item in self.items:\n",
    "            self.sorted_items.append(item)\n",
    "\n",
    "        for i in range(1, len(self.sorted_items)):\n",
    "            while i > 0 and self.sorted_items[i] < self.sorted_items[i - 1]:\n",
    "                self.sorted_items[i], self.sorted_items[i - 1] = self.sorted_items[i - 1], self.sorted_items[i]\n",
    "                i -= 1\n",
    "        \n",
    "        \n",
    "\n",
    "\n",
    "    def get_sorted(self,):\n",
    "        return self.sorted_items\n",
    "    \n",
    "# test = InsertionSort([6, 2, 3, 1, 4])\n",
    "# print(test.get_sorted())"
   ]
  },
  {
   "cell_type": "code",
   "execution_count": 8,
   "metadata": {},
   "outputs": [],
   "source": [
    "class SelectionSort:\n",
    "    def __init__(self, items_to_sort):\n",
    "        self.items = items_to_sort\n",
    "        self.sorted_items=[]\n",
    "\n",
    "        for item in self.items:\n",
    "            self.sorted_items.append(item)\n",
    "\n",
    "        index = 0\n",
    "        while index < len(self.sorted_items):\n",
    "            # Using a variable to keep track of the minimum item of the list, default to the first element being examined\n",
    "            smallest = index\n",
    "\n",
    "            # From the index position to the end of the list, find the smallest element\n",
    "            \n",
    "            for j in range(index + 1, len(self.sorted_items)):\n",
    "                if self.sorted_items[smallest] > self.sorted_items[j]:\n",
    "                    smallest = j\n",
    "\n",
    "            # Swapping the index element and the smallest element\n",
    "            # Since the index variable is being incremented, and everything before index is assumed to be sorted, \n",
    "            # This action moves the smallest found element to the beginning of the subarray, increasing the already sorted portion\n",
    "            self.sorted_items[index], self.sorted_items[smallest] = self.sorted_items[smallest], self.sorted_items[index]\n",
    "\n",
    "            # Incrementing the index variable so that the bounds of the right subarray examined is now smaller\n",
    "            index += 1\n",
    "\n",
    "        \n",
    "\n",
    "    def get_sorted(self,):\n",
    "        return self.sorted_items\n",
    "    \n",
    "# test = SelectionSort([6, 2, 3, 1, 4])\n",
    "# print(test.get_sorted())"
   ]
  },
  {
   "cell_type": "markdown",
   "metadata": {},
   "source": [
    "___"
   ]
  },
  {
   "cell_type": "markdown",
   "metadata": {},
   "source": [
    "##### A2. Compute the performance of above 3 algorithms on a single list of real numbers.\n",
    "\n",
    "First generate a custom random list using function <code> create_custom_list()</code>. Execute each of the above algorithm for N trials ( select N >= 75) on the list and plot the timing of each execution on a bar chart. Also calculate the average execution time for the entire batch of N trials ( you can either display it on the chart or simply <code> print()</code> it). For larger values of N, consider breaking N trials into mini batches of n executions and plotting execution times for each mini batch. For instance, if you select N=1000, to plot execution timings for 1000 trials, you may break them into mini batch of n=10 trials and display average of each mini batch. This will reduce clutter in your bar charts while still enabling you to perform extensive testing with higher N.\n",
    "\n",
    "Execute each of the above algorithm on the same set of integers. The outcome of your code should be 3 charts for each algorithm run on your list N times. Few utility functions are given below. You do not have to necessarily use the <code> draw_plot()</code> function. You can plot your timings using an excel sheet and paste the image of your timings here. Refer to [Markdown Guide](https://www.markdownguide.org/basic-syntax/) on how to add images in the jupyter notebook or ask your TA."
   ]
  },
  {
   "cell_type": "code",
   "execution_count": 12,
   "metadata": {},
   "outputs": [],
   "source": [
    "def create_custom_list(length, max_value, item=None, item_index=None):\n",
    "    random_list = [random.randint(0,max_value) for i in range(length)]\n",
    "    if item!= None:\n",
    "        random_list.insert(item_index,item)\n",
    "    return random_list\n",
    "\n",
    "test_list = create_custom_list(20, 100)"
   ]
  },
  {
   "cell_type": "code",
   "execution_count": 13,
   "metadata": {},
   "outputs": [],
   "source": [
    "def draw_plot(run_arr):\n",
    "    x = np.arange(0, len(run_arr),1)\n",
    "    fig=plt.figure(figsize=(20,8))\n",
    "    plt.bar(x,run_arr)\n",
    "    plt.axhline(np.mean(run_arr),color=\"red\",linestyle=\"--\",label=\"Avg\")\n",
    "    plt.xlabel(\"Iterations\")\n",
    "    plt.ylabel(\"Run time in ms order of 1e-6\")\n",
    "    plt.title(\"Run time for retrieval\")\n",
    "    plt.show()"
   ]
  },
  {
   "cell_type": "code",
   "execution_count": 14,
   "metadata": {},
   "outputs": [
    {
     "data": {
      "image/png": "[encoded data removed]",
      "text/plain": [
       "<Figure size 1440x576 with 1 Axes>"
      ]
     },
     "metadata": {
      "needs_background": "light"
     },
     "output_type": "display_data"
    }
   ],
   "source": [
    "runs = 100\n",
    "run_times = []\n",
    "\n",
    "for i in range(runs):\n",
    "    start = timeit.default_timer()\n",
    "\n",
    "    test_case = BubbleSort(test_list)\n",
    "\n",
    "    stop = timeit.default_timer()\n",
    "\n",
    "    run_times.append(stop-start)\n",
    "\n",
    "draw_plot(run_times)\n"
   ]
  },
  {
   "cell_type": "code",
   "execution_count": 15,
   "metadata": {},
   "outputs": [
    {
     "data": {
      "image/png": "[encoded data removed]",
      "text/plain": [
       "<Figure size 1440x576 with 1 Axes>"
      ]
     },
     "metadata": {
      "needs_background": "light"
     },
     "output_type": "display_data"
    }
   ],
   "source": [
    "runs = 100\n",
    "run_times = []\n",
    "\n",
    "for i in range(runs):\n",
    "    start = timeit.default_timer()\n",
    "\n",
    "    test_case = InsertionSort(test_list)\n",
    "\n",
    "    stop = timeit.default_timer()\n",
    "\n",
    "    run_times.append(stop-start)\n",
    "\n",
    "draw_plot(run_times)"
   ]
  },
  {
   "cell_type": "code",
   "execution_count": 16,
   "metadata": {},
   "outputs": [
    {
     "data": {
      "image/png": "[encoded data removed]",
      "text/plain": [
       "<Figure size 1440x576 with 1 Axes>"
      ]
     },
     "metadata": {
      "needs_background": "light"
     },
     "output_type": "display_data"
    }
   ],
   "source": [
    "runs = 100\n",
    "run_times = []\n",
    "\n",
    "for i in range(runs):\n",
    "    start = timeit.default_timer()\n",
    "\n",
    "    test_case = SelectionSort(test_list)\n",
    "\n",
    "    stop = timeit.default_timer()\n",
    "\n",
    "    run_times.append(stop-start)\n",
    "\n",
    "draw_plot(run_times)"
   ]
  },
  {
   "cell_type": "markdown",
   "metadata": {},
   "source": [
    "You would notice that certain sorting algorithms have better time complexity (or performance) than others. Write below a reflection of your observations. Can you confidently compare the performance across the 3 algorithms? Why does certain algorithm perform better than the other? What are the various factors impacting the best performing and the worst performing algorithm. Write a few sentences answering each of the above questions. Also describe any other observation you found important.\n",
    "\n",
    "**Reflection**:\n"
   ]
  },
  {
   "cell_type": "markdown",
   "metadata": {},
   "source": [
    "a.) The given plots show that the bubblesort algorithm has an average performance of about 0.00005 ms, the insertion sort algorithm has an average performance of about 0.000055 ms, and the selection sort algorithm has an average performance of about 0.00004 ms. For each algorithm, the performance is relatively consistent except for a few iterations. \n",
    "\n",
    "b.) Since we used each algorithm on the same array (test_list), we can confidently compare performance across each algorithm. Every parameter of our experiements is the same except for the sorting algorithm used. \n",
    "\n",
    "c. & d.) One algorithm would perform better than the other based on how it iterates through the array. For example, even though both selection sort and bubble sort have two iteration loops, the former involves only iterating through a subarray that is decreasing in length. On the other hand, bubble sort involves consistently checking two adjacent elements in an array during every pass, accounting for its longer average time complexity. Some algorithms also might handle edge cases differently (ex. an array already being sorted, in descending order, etc.) Another factor that can impact performance could be how the algorithm divides the given array. For example, insertion sort and selection sort focus on building an already sorted array portion and targeting the remaining unsorted portion on each iteration. This approach is more efficient than repetitively going over the array elements as done in bubble sort. \n",
    "\n",
    "We also wanted to record that the insertion sort algorithm had a unique performance plot, with the time complexity rising after about 30 iterations. "
   ]
  },
  {
   "cell_type": "markdown",
   "metadata": {},
   "source": [
    "---"
   ]
  },
  {
   "cell_type": "markdown",
   "metadata": {},
   "source": [
    "##### A3. Compute the performance of above 3 algorithms on a different list sizes.\n",
    "\n",
    "The <code> create_custom_list()</code> helps you create lists of varying lengths and range of numbers. Plot a **line chart** that shows the performance of each algorithm on different list sizes ranging between 1 - 100,000 integers. If you think about this question, you are essentially plotting the time complexity on various list sizes. "
   ]
  },
  {
   "cell_type": "code",
   "execution_count": 21,
   "metadata": {},
   "outputs": [
    {
     "ename": "KeyboardInterrupt",
     "evalue": "",
     "output_type": "error",
     "traceback": [
      "\u001b[1;31m---------------------------------------------------------------------------\u001b[0m",
      "\u001b[1;31mKeyboardInterrupt\u001b[0m                         Traceback (most recent call last)",
      "Input \u001b[1;32mIn [21]\u001b[0m, in \u001b[0;36m<cell line: 4>\u001b[1;34m()\u001b[0m\n\u001b[0;32m      6\u001b[0m test_list \u001b[38;5;241m=\u001b[39m create_custom_list(random\u001b[38;5;241m.\u001b[39mrandint(\u001b[38;5;241m1\u001b[39m, \u001b[38;5;241m100000\u001b[39m), \u001b[38;5;241m100\u001b[39m)\n\u001b[0;32m      7\u001b[0m start \u001b[38;5;241m=\u001b[39m timeit\u001b[38;5;241m.\u001b[39mdefault_timer()\n\u001b[1;32m----> 9\u001b[0m test_case \u001b[38;5;241m=\u001b[39m \u001b[43mBubbleSort\u001b[49m\u001b[43m(\u001b[49m\u001b[43mtest_list\u001b[49m\u001b[43m)\u001b[49m\n\u001b[0;32m     11\u001b[0m stop \u001b[38;5;241m=\u001b[39m timeit\u001b[38;5;241m.\u001b[39mdefault_timer()\n\u001b[0;32m     13\u001b[0m run_times\u001b[38;5;241m.\u001b[39mappend(stop\u001b[38;5;241m-\u001b[39mstart)\n",
      "Input \u001b[1;32mIn [6]\u001b[0m, in \u001b[0;36mBubbleSort.__init__\u001b[1;34m(self, items_to_sort)\u001b[0m\n\u001b[0;32m      9\u001b[0m \u001b[38;5;28;01mfor\u001b[39;00m i \u001b[38;5;129;01min\u001b[39;00m \u001b[38;5;28mrange\u001b[39m(\u001b[38;5;28mlen\u001b[39m(\u001b[38;5;28mself\u001b[39m\u001b[38;5;241m.\u001b[39msorted_items)\u001b[38;5;241m-\u001b[39m\u001b[38;5;241m1\u001b[39m, \u001b[38;5;241m0\u001b[39m, \u001b[38;5;241m-\u001b[39m\u001b[38;5;241m1\u001b[39m):\n\u001b[0;32m     10\u001b[0m     \u001b[38;5;28;01mfor\u001b[39;00m j \u001b[38;5;129;01min\u001b[39;00m \u001b[38;5;28mrange\u001b[39m(i):\n\u001b[1;32m---> 11\u001b[0m         \u001b[38;5;28;01mif\u001b[39;00m \u001b[38;5;28mself\u001b[39m\u001b[38;5;241m.\u001b[39msorted_items[j] \u001b[38;5;241m>\u001b[39m \u001b[38;5;28mself\u001b[39m\u001b[38;5;241m.\u001b[39msorted_items[\u001b[43mj\u001b[49m\u001b[43m \u001b[49m\u001b[38;5;241;43m+\u001b[39;49m\u001b[43m \u001b[49m\u001b[38;5;241;43m1\u001b[39;49m]:\n\u001b[0;32m     12\u001b[0m             \u001b[38;5;28mself\u001b[39m\u001b[38;5;241m.\u001b[39msorted_items[j], \u001b[38;5;28mself\u001b[39m\u001b[38;5;241m.\u001b[39msorted_items[j \u001b[38;5;241m+\u001b[39m \u001b[38;5;241m1\u001b[39m] \u001b[38;5;241m=\u001b[39m \u001b[38;5;28mself\u001b[39m\u001b[38;5;241m.\u001b[39msorted_items[j \u001b[38;5;241m+\u001b[39m \u001b[38;5;241m1\u001b[39m], \u001b[38;5;28mself\u001b[39m\u001b[38;5;241m.\u001b[39msorted_items[j]\n",
      "\u001b[1;31mKeyboardInterrupt\u001b[0m: "
     ]
    }
   ],
   "source": [
    "runs = 80\n",
    "run_times = []\n",
    "\n",
    "for i in range(runs):\n",
    "\n",
    "    test_list = create_custom_list(random.randint(1, 100000), 100)\n",
    "    start = timeit.default_timer()\n",
    "    \n",
    "    test_case = BubbleSort(test_list)\n",
    "\n",
    "    stop = timeit.default_timer()\n",
    "\n",
    "    run_times.append(stop-start)\n",
    "\n",
    "draw_plot(run_times)\n"
   ]
  },
  {
   "cell_type": "code",
   "execution_count": null,
   "metadata": {},
   "outputs": [],
   "source": [
    "### Insertion sort experiment code goes here"
   ]
  },
  {
   "cell_type": "code",
   "execution_count": null,
   "metadata": {},
   "outputs": [],
   "source": [
    "### Selection sort experiment code goes here"
   ]
  },
  {
   "cell_type": "markdown",
   "metadata": {},
   "source": [
    "Describe you results here. What did you observe when comparing the charts? Which algorithm was more performant and why?\n",
    "\n",
    "**Reflection** :"
   ]
  },
  {
   "cell_type": "markdown",
   "metadata": {},
   "source": [
    "---"
   ]
  },
  {
   "cell_type": "markdown",
   "metadata": {},
   "source": [
    "##### A4. Compute the performance of above 3 algorithms on a different list \"states\".\n",
    "\n",
    "Using the same above list generation function (or writing a function of your own), create two different lists states: \n",
    "\n",
    "- A state where the list is **near** sorted.\n",
    "- A state where the list is completely unsorted.\n",
    "\n",
    "HINTS: \n",
    "\n",
    "- You can implement a \"controlled\" Quicksort algorithm for such a function. While you can find many implementations of such a function online, significant number of those solutions originate from this psuedocode [Generating Sorted Lists of Random Numbers](https://dl.acm.org/doi/pdf/10.1145/355900.355907). \n",
    "\n",
    "- You can modify the list generation code given above to create the above list examples.\n",
    "\n",
    "Compare the performance of all 3 sorting algorithms on these two lists. Plot their performance on bar chart and display them here. "
   ]
  },
  {
   "cell_type": "code",
   "execution_count": null,
   "metadata": {},
   "outputs": [],
   "source": [
    "### Bubble sort experiment code goes here"
   ]
  },
  {
   "cell_type": "code",
   "execution_count": null,
   "metadata": {},
   "outputs": [],
   "source": [
    "### Selection sort experiment code goes here"
   ]
  },
  {
   "cell_type": "code",
   "execution_count": null,
   "metadata": {},
   "outputs": [],
   "source": [
    "### Insertion sort experiment code goes here"
   ]
  },
  {
   "cell_type": "markdown",
   "metadata": {},
   "source": [
    "Describe you observations here. Which algorithm performs best / worst for sorted/near sorted lists and why? Does the performance vary significantly? Describe which runs times were higher and why do you think that is? You woul\n",
    "\n",
    "**Reflection** :"
   ]
  },
  {
   "cell_type": "markdown",
   "metadata": {},
   "source": [
    "---\n",
    "---"
   ]
  },
  {
   "cell_type": "markdown",
   "metadata": {},
   "source": [
    "### Part B"
   ]
  },
  {
   "cell_type": "markdown",
   "metadata": {},
   "source": [
    "In the class, we discussed three implementations of Binary Search. "
   ]
  },
  {
   "cell_type": "code",
   "execution_count": 2,
   "metadata": {},
   "outputs": [],
   "source": [
    "def binary_search_1(item_list, to_find):\n",
    "    lower=0\n",
    "    upper=len(item_list)-1\n",
    "    while lower < upper:\n",
    "        mid = (lower+upper)//2\n",
    "        if item_list[mid] == to_find:\n",
    "            return True\n",
    "        if item_list[mid] < to_find:\n",
    "            lower = mid+1\n",
    "        else:\n",
    "            upper=mid\n",
    "    return item_list[lower]==to_find"
   ]
  },
  {
   "cell_type": "code",
   "execution_count": 3,
   "metadata": {},
   "outputs": [],
   "source": [
    "def binary_search_2(item_list, to_find):\n",
    "    lower=0\n",
    "    upper=len(item_list)-1\n",
    "    while lower <= upper:\n",
    "        mid = (lower+upper)//2\n",
    "        if item_list[mid] == to_find:\n",
    "            return True\n",
    "        if item_list[mid] < to_find:\n",
    "            lower = mid+1\n",
    "        else:\n",
    "            upper=mid-1\n",
    "    return item_list[lower]==to_find"
   ]
  },
  {
   "cell_type": "code",
   "execution_count": null,
   "metadata": {},
   "outputs": [],
   "source": [
    "def binary_search_3(item_list, to_find):\n",
    "    left=0\n",
    "    right=len(item_list)-1\n",
    "    while left != right:\n",
    "        mid = (left+right)//2\n",
    "        if item_list[mid] < to_find:\n",
    "            left = mid+1\n",
    "        elif item_list[mid] > to_find:\n",
    "            right = mid\n",
    "        else:\n",
    "            return True\n",
    "    return item_list[left]==to_find"
   ]
  },
  {
   "cell_type": "markdown",
   "metadata": {},
   "source": [
    "Compare the performance of each implementation (or variation) with two lists:\n",
    "\n",
    "1. List is odd numbered (minimum 1000 integers)\n",
    "1. List is even numbered (minimum 1000 integers)\n",
    "\n",
    "Run the above experiments when the item to be found is:\n",
    "1. At the begining of the list.\n",
    "1. Towards the end of the list.\n",
    "1. Right at the middle of the list.\n",
    "\n",
    "The above three combinations would yield 3X2 experiments. Provide detailed outline of the experiments, plots, and a brief description of the observations in the reflections section."
   ]
  },
  {
   "cell_type": "code",
   "execution_count": null,
   "metadata": {},
   "outputs": [],
   "source": [
    "## you experiment code goes here"
   ]
  },
  {
   "cell_type": "markdown",
   "metadata": {},
   "source": [
    "**Reflection**:"
   ]
  },
  {
   "cell_type": "markdown",
   "metadata": {},
   "source": [
    "---\n",
    "---"
   ]
  },
  {
   "cell_type": "markdown",
   "metadata": {},
   "source": [
    "### Part C"
   ]
  },
  {
   "cell_type": "markdown",
   "metadata": {},
   "source": [
    "Recall that I discussed in the class, the possibility of \"reducing the comparisons\" in Binary Search implementation. One solution came up is to remove the comparison with \"mid\". If you design an experiment to test this, you will soon realize that while this speeds up the execution time by reducing the number of comparisons needed, it fails when the element to be searched is right in the middle.  So are there any ways to improve the speed of Binary Search that is not dependent on data? The answer is recursion! In this section, implement a Binary Search recursively."
   ]
  },
  {
   "cell_type": "code",
   "execution_count": 4,
   "metadata": {},
   "outputs": [],
   "source": [
    "def binary_search_4(item_list, to_find):\n",
    "    return False"
   ]
  },
  {
   "cell_type": "markdown",
   "metadata": {},
   "source": [
    "Run all the experiments in Part B comapring all 4 implementations under all 6 cases. Plot the timings, and describe the results in the below section. Write a short description of your observation; why is recursion better in this case?"
   ]
  },
  {
   "cell_type": "code",
   "execution_count": null,
   "metadata": {},
   "outputs": [],
   "source": [
    "# your implementation and experiments go here."
   ]
  },
  {
   "cell_type": "markdown",
   "metadata": {},
   "source": [
    "##### Result Discussion:"
   ]
  },
  {
   "cell_type": "markdown",
   "metadata": {},
   "source": [
    "---\n",
    "---"
   ]
  },
  {
   "cell_type": "markdown",
   "metadata": {},
   "source": [
    "### PART D"
   ]
  },
  {
   "cell_type": "markdown",
   "metadata": {},
   "source": [
    "Now that you are comfortable in designing experiments, in this section, use the implementations of **Heap**, **Merge**, and **Quick** sort discussed in class and run suitable experiments to compare the runtimes of these three algorithms. \n",
    "\n",
    "Hint: it should become clear where Quick sort gets its name."
   ]
  },
  {
   "cell_type": "code",
   "execution_count": null,
   "metadata": {},
   "outputs": [],
   "source": [
    "# your implementation and experiments go here."
   ]
  },
  {
   "cell_type": "markdown",
   "metadata": {},
   "source": [
    "In this section, provide a detailed outline of:\n",
    "- The experiments you ran, length values of the list you chose, number of runs, etc.\n",
    "- The plots showing the run times corresponding to each algorithm.\n",
    "- A brief discussion and conclusion regarding the results. A few sentences are fine here."
   ]
  },
  {
   "cell_type": "markdown",
   "metadata": {},
   "source": [
    "---\n",
    "---"
   ]
  },
  {
   "cell_type": "markdown",
   "metadata": {},
   "source": [
    "### PART E"
   ]
  },
  {
   "cell_type": "markdown",
   "metadata": {},
   "source": [
    "E1. In previous experiments you also saw that not all algorithms are suitable for all scenarios. For instance, Merge Sort is better than Quick sort for certain situations. In this section, design a experiment to compare the scenarios where Merge Sort is better/worse than Quick Sort. You can use the traditional version of Merge Sort or use improved version ( maybe via recursion) to compare this performance."
   ]
  },
  {
   "cell_type": "code",
   "execution_count": null,
   "metadata": {},
   "outputs": [],
   "source": [
    "# your implementation and experiments go here."
   ]
  },
  {
   "cell_type": "markdown",
   "metadata": {},
   "source": [
    "In this section, provide a detailed outline of:\n",
    "- The experiments you ran, length values of the list you chose, number of runs, etc.\n",
    "- The plots showing the run times corresponding to each algorithm.\n",
    "- A brief discussion and conclusion regarding the results. A few sentences are fine here."
   ]
  },
  {
   "cell_type": "markdown",
   "metadata": {},
   "source": [
    "---"
   ]
  },
  {
   "cell_type": "markdown",
   "metadata": {},
   "source": [
    "E2. Recall that on the first day of class I asked which two algorithms have similar complexity - Merge Sort and Quick Sort under (O(nlogn)) are likely to perform similar under average cases. However, under worst case, the complexity of quick sort is much worse (O(n^2). Design an experiment to show this behavior. Plot this behavior on a bar/line chart. \n",
    "\n",
    "Next, count the number of \"swaps\" after which Quick sort starts behaving comparable to Merge sort. \n",
    "\n",
    "HINT: This will be a threshold at which the quick sort algorithm picks up again.\n"
   ]
  },
  {
   "cell_type": "code",
   "execution_count": 1,
   "metadata": {},
   "outputs": [],
   "source": [
    "## your implementation and code goes here"
   ]
  },
  {
   "cell_type": "markdown",
   "metadata": {},
   "source": [
    "In this section, provide a detailed outline of:\n",
    "- The experiments you ran and the rationale behind your worst case scenario.\n",
    "- The plots showing the run times.\n",
    "\n",
    "Further explain how you computed the swaps and verify that you calculation is correct, by applying it on a diifferent list under same experimental conditions."
   ]
  },
  {
   "cell_type": "markdown",
   "metadata": {},
   "source": [
    "**Reflection**:"
   ]
  },
  {
   "cell_type": "markdown",
   "metadata": {},
   "source": [
    "---\n",
    "---"
   ]
  },
  {
   "cell_type": "markdown",
   "metadata": {},
   "source": [
    "### PART F"
   ]
  },
  {
   "cell_type": "markdown",
   "metadata": {},
   "source": [
    "Traditionally, Insertion Sort is worst than Heap Sort and Merge Sort. Now that you are a master at critical evaluation of sorting and searching algorithms, design an experiment to show that this may not be universally true. That is, there maybe scenarios where insertion sort is better than merge and heap sort.\n",
    "\n",
    "HINT: Think about the Best Case of insertion sort.\n",
    "\n",
    "Again, provide:\n",
    "- An explicit outline of the experiments you ran. That is, list length values, how many “runs”, etc.\n",
    "- A graph of list length vs time displaying the appropriate three curves showing. List lengths should be small here.\n",
    "- A brief discussion and conclusion regarding the results. A few sentences are fine here.\n",
    "- Reflect on why these are experiments are important. \n",
    "\n",
    "HINT: Can you create some sort of \"hybrid\" sort that would be better?"
   ]
  },
  {
   "cell_type": "code",
   "execution_count": null,
   "metadata": {},
   "outputs": [],
   "source": [
    "## your implementation and code goes here"
   ]
  },
  {
   "cell_type": "markdown",
   "metadata": {},
   "source": [
    "**Reflection**:"
   ]
  },
  {
   "cell_type": "markdown",
   "metadata": {},
   "source": [
    "---\n",
    "---"
   ]
  },
  {
   "cell_type": "markdown",
   "metadata": {},
   "source": [
    "**Team Contributions**: In below section describe in detail how you distributed the workload and contributions of each member in the task."
   ]
  },
  {
   "cell_type": "markdown",
   "metadata": {},
   "source": []
  },
  {
   "cell_type": "markdown",
   "metadata": {},
   "source": [
    "---\n",
    "---"
   ]
  },
  {
   "cell_type": "markdown",
   "metadata": {},
   "source": []
  }
 ],
 "metadata": {
  "kernelspec": {
   "display_name": "base",
   "language": "python",
   "name": "python3"
  },
  "language_info": {
   "codemirror_mode": {
    "name": "ipython",
    "version": 3
   },
   "file_extension": ".py",
   "mimetype": "text/x-python",
   "name": "python",
   "nbconvert_exporter": "python",
   "pygments_lexer": "ipython3",
   "version": "3.9.12"
  }
 },
 "nbformat": 4,
 "nbformat_minor": 2
}
