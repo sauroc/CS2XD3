{
  "cells": [
    {
      "cell_type": "code",
      "execution_count": 77,
      "metadata": {
        "id": "UIzAl6G8DssS"
      },
      "outputs": [],
      "source": [
        "class RBNode:\n",
        "\n",
        "    def __init__(self, value):\n",
        "        self.value = value\n",
        "        self.left = None\n",
        "        self.right = None\n",
        "        self.parent = None\n",
        "        self.colour = \"R\"\n",
        "\n",
        "    def get_uncle(self):\n",
        "        return\n",
        "\n",
        "    def is_leaf(self):\n",
        "        return self.left == None and self.right == None\n",
        "\n",
        "    def is_left_child(self):\n",
        "        return self == self.parent.left\n",
        "\n",
        "    def is_right_child(self):\n",
        "        return not self.is_left_child()\n",
        "\n",
        "    def is_red(self):\n",
        "        return self.colour == \"R\"\n",
        "\n",
        "    def is_black(self):\n",
        "        return not self.is_red()\n",
        "\n",
        "    def make_black(self):\n",
        "        self.colour = \"B\"\n",
        "\n",
        "    def make_red(self):\n",
        "        self.colour = \"R\"\n",
        "\n",
        "    def get_brother(self):\n",
        "        if self.parent.right == self:\n",
        "            return self.parent.left\n",
        "        return self.parent.right\n",
        "\n",
        "    def get_uncle(self):\n",
        "        return self.parent.get_brother()\n",
        "\n",
        "    def uncle_is_black(self):\n",
        "        if self.get_uncle() == None:\n",
        "            return True\n",
        "        return self.get_uncle().is_black()\n",
        "\n",
        "    def __str__(self):\n",
        "        return \"(\" + str(self.value) + \",\" + self.colour + \")\"\n",
        "\n",
        "    def __repr__(self):\n",
        "         return \"(\" + str(self.value) + \",\" + self.colour + \")\"\n",
        "\n",
        "    def rotate_right(self, tree):\n",
        "        y = self.left\n",
        "        self.left = y.right\n",
        "        if y.right != None:\n",
        "          y.right.parent = self\n",
        "        y.parent = self.parent\n",
        "        if self.parent == None:\n",
        "          tree.root = y\n",
        "        elif self == self.parent.right:\n",
        "          self.parent.right = y\n",
        "        else:\n",
        "          self.parent.left = y\n",
        "        y.right = self\n",
        "        self.parent = y\n",
        "\n",
        "        return tree\n",
        "\n",
        "    def rotate_left(self, tree):\n",
        "        y = self.right\n",
        "        self.right = y.left\n",
        "        if y.left != None:\n",
        "          y.left.parent = self\n",
        "        y.parent = self.parent\n",
        "        if self.parent == None:\n",
        "          tree.root = y\n",
        "        elif self == self.parent.left:\n",
        "          self.parent.left = y\n",
        "        else:\n",
        "          self.parent.right = y\n",
        "        y.left = self\n",
        "        self.parent = y\n",
        "        return tree"
      ]
    },
    {
      "cell_type": "code",
      "execution_count": 78,
      "metadata": {
        "id": "ZkbK_QiUDyd4"
      },
      "outputs": [],
      "source": [
        "class RBTree:\n",
        "\n",
        "    def __init__(self,):\n",
        "        self.root = None\n",
        "\n",
        "    def is_empty(self,):\n",
        "        return self.root == None\n",
        "\n",
        "    def get_height(self,):\n",
        "        if self.is_empty():\n",
        "            return 0\n",
        "        return self.__get_height(self.root)\n",
        "\n",
        "    def __get_height(self, node):\n",
        "        if node == None:\n",
        "            return 0\n",
        "        return 1 + max(self.__get_height(node.left), self.__get_height(node.right))\n",
        "\n",
        "    def insert(self, value):\n",
        "        if self.is_empty():\n",
        "            self.root = RBNode(value)\n",
        "            self.root.make_black()\n",
        "        else:\n",
        "             self = self.__insert(self.root, value)\n",
        "        return self\n",
        "\n",
        "    def __insert(self, node, value):\n",
        "        if value < node.value:\n",
        "            if node.left == None:\n",
        "                node.left = RBNode(value)\n",
        "                node.left.parent = node\n",
        "                self = self.fix(node.left)\n",
        "\n",
        "            else:\n",
        "                self = self.__insert(node.left, value)\n",
        "        else:\n",
        "            if node.right == None:\n",
        "                node.right = RBNode(value)\n",
        "                node.right.parent = node\n",
        "                self = self.fix(node.right)\n",
        "            else:\n",
        "                self = self.__insert(node.right, value)\n",
        "\n",
        "        return self\n",
        "\n",
        "    def fix(self, node):\n",
        "        if node.parent == None:\n",
        "            node.make_black()\n",
        "        while node != None and node.parent != None and node.parent.is_red() and node.is_red():\n",
        "            #if there are two red nodes in a row\n",
        "            P = node.parent\n",
        "            C = node\n",
        "            G = P.parent\n",
        "            U = C.get_uncle()\n",
        "\n",
        "            if U == None:\n",
        "              #check if the nodes are in a straight line or not and rotate/double rotate accordingly\n",
        "              if P.is_right_child() and C.is_right_child():\n",
        "                #rotate left G\n",
        "                #G = red, P = black\n",
        "                self = G.rotate_left(self)\n",
        "\n",
        "                G.make_red()\n",
        "                P.make_black()\n",
        "              elif P.is_left_child() and C.is_left_child():\n",
        "                #rotate right G\n",
        "                #G = red, P = black\n",
        "                self = G.rotate_right(self)\n",
        "\n",
        "                G.make_red()\n",
        "                P.make_black()\n",
        "              elif P.is_left_child() and C.is_right_child():\n",
        "                #rotate left P\n",
        "                #rotate right G\n",
        "                #C = black, G = red\n",
        "\n",
        "                self = P.rotate_left(self)\n",
        "                self = G.rotate_right(self)\n",
        "\n",
        "                C.make_black()\n",
        "                G.make_red()\n",
        "\n",
        "              elif P.is_right_child() and C.is_left_child():\n",
        "                #rotate right P\n",
        "                #rotate left G\n",
        "                #C = black, G = red\n",
        "                self = P.rotate_right(self)\n",
        "                self = G.rotate_left(self)\n",
        "\n",
        "                C.make_black()\n",
        "                G.make_red()\n",
        "            elif U.is_black():\n",
        "              #check if the nodes are in a straight line or not and rotate/double rotate accordingly\n",
        "              if P.is_right_child() and C.is_right_child():\n",
        "                #rotate left G\n",
        "                #G = red, P = black\n",
        "                self = G.rotate_left(self)\n",
        "\n",
        "                G.make_red()\n",
        "                P.make_black()\n",
        "              elif P.is_left_child() and C.is_left_child():\n",
        "                #rotate right G\n",
        "                #G = red, P = black\n",
        "                self = G.rotate_right(self)\n",
        "\n",
        "                G.make_red()\n",
        "                P.make_black()\n",
        "              elif P.is_left_child() and C.is_right_child():\n",
        "                #rotate left P\n",
        "                #rotate right G\n",
        "                #C = black, G = red\n",
        "                self = P.rotate_left(self)\n",
        "                self = G.rotate_right(self)\n",
        "\n",
        "                C.make_black()\n",
        "                G.make_red()\n",
        "              elif P.is_right_child() and C.is_left_child():\n",
        "                #rotate right P\n",
        "                #rotate left G\n",
        "                #C = black, G = red\n",
        "                self = P.rotate_right(self)\n",
        "                self = G.rotate_left(self)\n",
        "\n",
        "                C.make_black()\n",
        "                G.make_red()\n",
        "            else:\n",
        "              #G = red\n",
        "              #P = black, U = black\n",
        "              G.make_red()\n",
        "              P.make_black()\n",
        "              U.make_black()\n",
        "\n",
        "            if G.parent != None:\n",
        "              if G.is_red() and G.parent.is_red():\n",
        "                self = self.fix(G)\n",
        "\n",
        "        self.root.make_black()\n",
        "        return self\n",
        "\n",
        "    def __str__(self):\n",
        "        if self.is_empty():\n",
        "            return \"[]\"\n",
        "        return \"[\" + self.__str_helper(self.root) + \"]\"\n",
        "\n",
        "    def __str_helper(self, node):\n",
        "        if node.is_leaf():\n",
        "            return \"[\" + str(node) + \"]\"\n",
        "        if node.left == None:\n",
        "            return \"[\" + str(node) + \" -> \" + self.__str_helper(node.right) + \"]\"\n",
        "        if node.right == None:\n",
        "            return \"[\" +  self.__str_helper(node.left) + \" <- \" + str(node) + \"]\"\n",
        "        return \"[\" + self.__str_helper(node.left) + \" <- \" + str(node) + \" -> \" + self.__str_helper(node.right) + \"]\"\n"
      ]
    },
    {
      "cell_type": "code",
      "execution_count": null,
      "metadata": {},
      "outputs": [],
      "source": [
        "#examples from online to test RBTree:"
      ]
    },
    {
      "cell_type": "code",
      "execution_count": 79,
      "metadata": {
        "colab": {
          "base_uri": "https://localhost:8080/"
        },
        "id": "x953VNnsJpS9",
        "outputId": "07425aa1-f233-490a-d001-f494a578f41c"
      },
      "outputs": [
        {
          "name": "stdout",
          "output_type": "stream",
          "text": [
            "(21,B)\n",
            "(3,B)\n",
            "(32,B)\n",
            "(15,R)\n"
          ]
        }
      ],
      "source": [
        "# tree1 = RBTree()\n",
        "# tree1 = tree1.insert(3)\n",
        "# tree1 = tree1.insert(21)\n",
        "# tree1 = tree1.insert(32)\n",
        "# tree1 = tree1.insert(15)\n",
        "\n",
        "# # print(tree1)\n",
        "# print(tree1.root)\n",
        "# print(tree1.root.left)\n",
        "# print(tree1.root.right)\n",
        "# print(tree1.root.left.right)\n"
      ]
    },
    {
      "cell_type": "code",
      "execution_count": 80,
      "metadata": {
        "colab": {
          "base_uri": "https://localhost:8080/"
        },
        "id": "2r8Dp_PeEB1v",
        "outputId": "b4ddcb7b-2953-4359-9e03-589e287f26d5"
      },
      "outputs": [
        {
          "name": "stdout",
          "output_type": "stream",
          "text": [
            "(17,B)\n",
            "(8,R)\n",
            "(25,R)\n",
            "(5,B)\n",
            "(15,B)\n",
            "(18,B)\n",
            "(40,B)\n",
            "None\n",
            "(80,R)\n",
            "None\n"
          ]
        }
      ],
      "source": [
        "# tree2 = RBTree()\n",
        "# tree2 = tree2.insert(8)\n",
        "# tree2 = tree2.insert(18)\n",
        "# tree2 = tree2.insert(5)\n",
        "# tree2 = tree2.insert(15)\n",
        "# tree2 = tree2.insert(17)\n",
        "# tree2 = tree2.insert(25)\n",
        "# tree2 = tree2.insert(40)\n",
        "# tree2 = tree2.insert(80)\n",
        "\n",
        "# print(tree2.root)\n",
        "# print(tree2.root.left)\n",
        "# print(tree2.root.right)\n",
        "# print(tree2.root.left.left)\n",
        "# print(tree2.root.left.right)\n",
        "# print(tree2.root.right.left)\n",
        "# print(tree2.root.right.right)\n",
        "# print(tree2.root.right.right.left)\n",
        "# print(tree2.root.right.right.right)\n",
        "# print(tree2.root.right.right.right.right)"
      ]
    },
    {
      "cell_type": "code",
      "execution_count": 81,
      "metadata": {
        "colab": {
          "base_uri": "https://localhost:8080/"
        },
        "id": "XLfoges9JrFi",
        "outputId": "332b27a4-0bd8-4410-9f76-37695ec6cc4f"
      },
      "outputs": [
        {
          "name": "stdout",
          "output_type": "stream",
          "text": [
            "(40,B)\n",
            "(20,B)\n",
            "(50,B)\n",
            "(10,R)\n",
            "(30,R)\n"
          ]
        }
      ],
      "source": [
        "# tree3 = RBTree()\n",
        "# tree3 = tree3.insert(30)\n",
        "# tree3 = tree3.insert(50)\n",
        "# tree3 = tree3.insert(40)\n",
        "# tree3 = tree3.insert(20)\n",
        "# tree3 = tree3.insert(10)\n",
        "\n",
        "# print(tree3.root)\n",
        "# print(tree3.root.left)\n",
        "# print(tree3.root.right)\n",
        "# print(tree3.root.left.left)\n",
        "# print(tree3.root.left.right)"
      ]
    },
    {
      "cell_type": "code",
      "execution_count": 82,
      "metadata": {
        "colab": {
          "base_uri": "https://localhost:8080/"
        },
        "id": "rJ2lrvDgtNV8",
        "outputId": "a1c5e718-e48b-4cd7-fd93-f026e2a3eb62"
      },
      "outputs": [
        {
          "name": "stdout",
          "output_type": "stream",
          "text": [
            "(2,B)\n",
            "(1,B)\n",
            "(5,R)\n",
            "(4,B)\n",
            "(7,B)\n",
            "(3,R)\n",
            "(6,R)\n",
            "(9,R)\n"
          ]
        }
      ],
      "source": [
        "# tree4 = RBTree()\n",
        "# tree4 = tree4.insert(2)\n",
        "# tree4 = tree4.insert(1)\n",
        "# tree4 = tree4.insert(4)\n",
        "# tree4 = tree4.insert(5)\n",
        "# tree4 = tree4.insert(9)\n",
        "# tree4 = tree4.insert(3)\n",
        "# tree4 = tree4.insert(6)\n",
        "# tree4 = tree4.insert(7)\n",
        "\n",
        "# print(tree4.root)\n",
        "# print(tree4.root.left)\n",
        "# print(tree4.root.right)\n",
        "# print(tree4.root.right.left)\n",
        "# print(tree4.root.right.right)\n",
        "# print(tree4.root.right.left.left)\n",
        "# print(tree4.root.right.right.left)\n",
        "# print(tree4.root.right.right.right)\n"
      ]
    },
    {
      "cell_type": "code",
      "execution_count": 89,
      "metadata": {
        "colab": {
          "base_uri": "https://localhost:8080/"
        },
        "id": "z94U4c802IcV",
        "outputId": "c8d2b7e4-bc6d-4852-e69e-10fae354c871"
      },
      "outputs": [
        {
          "name": "stdout",
          "output_type": "stream",
          "text": [
            "(38,B)\n",
            "(19,R)\n",
            "(41,B)\n",
            "(12,B)\n",
            "(31,B)\n",
            "(8,R)\n"
          ]
        }
      ],
      "source": [
        "# tree5 = RBTree()\n",
        "# tree5 = tree5.insert(41)\n",
        "# tree5 = tree5.insert(38)\n",
        "# tree5 = tree5.insert(31)\n",
        "# tree5 = tree5.insert(12)\n",
        "# tree5 = tree5.insert(19)\n",
        "# tree5 = tree5.insert(8)\n",
        "\n",
        "# print(tree5.root)\n",
        "# print(tree5.root.left)\n",
        "# print(tree5.root.right)\n",
        "# print(tree5.root.left.left)\n",
        "# print(tree5.root.left.right)\n",
        "# print(tree5.root.left.left.left)"
      ]
    }
  ],
  "metadata": {
    "colab": {
      "provenance": []
    },
    "kernelspec": {
      "display_name": "Python 3",
      "name": "python3"
    },
    "language_info": {
      "name": "python"
    }
  },
  "nbformat": 4,
  "nbformat_minor": 0
}
