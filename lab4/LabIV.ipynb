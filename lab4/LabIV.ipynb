{
  "nbformat": 4,
  "nbformat_minor": 0,
  "metadata": {
    "colab": {
      "provenance": []
    },
    "kernelspec": {
      "name": "python3",
      "display_name": "Python 3"
    },
    "language_info": {
      "name": "python"
    }
  },
  "cells": [
    {
      "cell_type": "code",
      "source": [
        "import random\n",
        "import timeit\n",
        "import matplotlib.pyplot as plt\n",
        "import numpy as np\n",
        "import math"
      ],
      "metadata": {
        "id": "g8bZE4uRKV65"
      },
      "execution_count": 2,
      "outputs": []
    },
    {
      "cell_type": "code",
      "source": [
        "class BSTNode:\n",
        "  def __init__(self, value):\n",
        "        self.value = value\n",
        "        self.left = None\n",
        "        self.right = None\n",
        "        self.parent = None\n",
        "\n",
        "# BST insert function to avoid recursion\n",
        "def BSTInsertIterative(root, value):\n",
        "    node = BSTNode(value)\n",
        "    if root is None:\n",
        "        return node\n",
        "    current = root\n",
        "    while True:\n",
        "        if value < current.value:\n",
        "            if current.left is None:\n",
        "                current.left = node\n",
        "                break\n",
        "            current = current.left\n",
        "        else:\n",
        "            if current.right is None:\n",
        "                current.right = node\n",
        "                break\n",
        "            current = current.right\n",
        "    return root\n",
        "\n",
        "# BST height calculation to avoid recursion limit\n",
        "def BSTHeightIterative(root):\n",
        "    if root is None:\n",
        "        return 0\n",
        "    max_height = 0\n",
        "    node_stack = [(root, 1)] # stores nodes along with their depth\n",
        "    while node_stack:\n",
        "        node, depth = node_stack.pop()\n",
        "        if node is not None:\n",
        "            max_height = max(max_height, depth)\n",
        "            node_stack.append((node.left, depth + 1))\n",
        "            node_stack.append((node.right, depth + 1))\n",
        "    return max_height\n",
        "\n",
        "def BSTSearch(node, value):\n",
        "  if node == None:\n",
        "    return None\n",
        "\n",
        "  if value > node.value:\n",
        "    return BSTSearch(node.right, value)\n",
        "\n",
        "  if value < node.value:\n",
        "    return BSTSearch(node.left, value)\n",
        "\n",
        "  return node.value\n",
        "\n",
        "def BSTInsert(root, value):\n",
        "  node = BSTNode(value)\n",
        "  return BSTInsertNode(root, node)\n",
        "\n",
        "def BSTInsertNode(root, node):\n",
        "  if root == None:\n",
        "    return node\n",
        "\n",
        "  if node.value == root.value:\n",
        "    return root\n",
        "  elif node.value < root.value:\n",
        "    root.left = BSTInsertNode(root.left, node)\n",
        "  elif node.value > root.value:\n",
        "    root.right = BSTInsertNode(root.right, node)\n",
        "\n",
        "  return root\n",
        "\n",
        "def BSTHeight(node):\n",
        "    if node == None:\n",
        "        return 0\n",
        "    return BSTGetHeight(node)\n",
        "\n",
        "def BSTGetHeight(node):\n",
        "    if node == None:\n",
        "        return 0\n",
        "\n",
        "    return 1 + max(BSTGetHeight(node.left), BSTGetHeight(node.right))\n"
      ],
      "metadata": {
        "id": "NdojtIrx6JfE"
      },
      "execution_count": 13,
      "outputs": []
    },
    {
      "cell_type": "code",
      "execution_count": 4,
      "metadata": {
        "id": "UIzAl6G8DssS"
      },
      "outputs": [],
      "source": [
        "class RBNode:\n",
        "\n",
        "    def __init__(self, value):\n",
        "        self.value = value\n",
        "        self.left = None\n",
        "        self.right = None\n",
        "        self.parent = None\n",
        "        self.colour = \"R\"\n",
        "\n",
        "    def get_uncle(self):\n",
        "        return\n",
        "\n",
        "    def is_leaf(self):\n",
        "        return self.left == None and self.right == None\n",
        "\n",
        "    def is_left_child(self):\n",
        "        return self == self.parent.left\n",
        "\n",
        "    def is_right_child(self):\n",
        "        return not self.is_left_child()\n",
        "\n",
        "    def is_red(self):\n",
        "        return self.colour == \"R\"\n",
        "\n",
        "    def is_black(self):\n",
        "        return not self.is_red()\n",
        "\n",
        "    def make_black(self):\n",
        "        self.colour = \"B\"\n",
        "\n",
        "    def make_red(self):\n",
        "        self.colour = \"R\"\n",
        "\n",
        "    def get_brother(self):\n",
        "        if self.parent.right == self:\n",
        "            return self.parent.left\n",
        "        return self.parent.right\n",
        "\n",
        "    def get_uncle(self):\n",
        "        return self.parent.get_brother()\n",
        "\n",
        "    def uncle_is_black(self):\n",
        "        if self.get_uncle() == None:\n",
        "            return True\n",
        "        return self.get_uncle().is_black()\n",
        "\n",
        "    def __str__(self):\n",
        "        return \"(\" + str(self.value) + \",\" + self.colour + \")\"\n",
        "\n",
        "    def __repr__(self):\n",
        "         return \"(\" + str(self.value) + \",\" + self.colour + \")\"\n",
        "\n",
        "    def rotate_right(self, tree):\n",
        "        y = self.left\n",
        "        self.left = y.right\n",
        "        if y.right != None:\n",
        "          y.right.parent = self\n",
        "        y.parent = self.parent\n",
        "        if self.parent == None:\n",
        "          tree.root = y\n",
        "        elif self == self.parent.right:\n",
        "          self.parent.right = y\n",
        "        else:\n",
        "          self.parent.left = y\n",
        "        y.right = self\n",
        "        self.parent = y\n",
        "\n",
        "        return tree\n",
        "\n",
        "    def rotate_left(self, tree):\n",
        "        y = self.right\n",
        "        self.right = y.left\n",
        "        if y.left != None:\n",
        "          y.left.parent = self\n",
        "        y.parent = self.parent\n",
        "        if self.parent == None:\n",
        "          tree.root = y\n",
        "        elif self == self.parent.left:\n",
        "          self.parent.left = y\n",
        "        else:\n",
        "          self.parent.right = y\n",
        "        y.left = self\n",
        "        self.parent = y\n",
        "        return tree\n"
      ]
    },
    {
      "cell_type": "code",
      "source": [
        "class RBTree:\n",
        "\n",
        "    def __init__(self,):\n",
        "        self.root = None\n",
        "\n",
        "    def is_empty(self,):\n",
        "        return self.root == None\n",
        "\n",
        "    def get_height(self,):\n",
        "        if self.is_empty():\n",
        "            return 0\n",
        "        return self.__get_height(self.root)\n",
        "\n",
        "    def __get_height(self, node):\n",
        "        if node == None:\n",
        "            return 0\n",
        "        return 1 + max(self.__get_height(node.left), self.__get_height(node.right))\n",
        "\n",
        "    def insert(self, value):\n",
        "        if self.is_empty():\n",
        "            self.root = RBNode(value)\n",
        "            self.root.make_black()\n",
        "        else:\n",
        "             self = self.__insert(self.root, value)\n",
        "        return self\n",
        "\n",
        "    def __insert(self, node, value):\n",
        "        if value < node.value:\n",
        "            if node.left == None:\n",
        "                node.left = RBNode(value)\n",
        "                node.left.parent = node\n",
        "                self = self.fix(node.left)\n",
        "\n",
        "            else:\n",
        "                self = self.__insert(node.left, value)\n",
        "        else:\n",
        "            if node.right == None:\n",
        "                node.right = RBNode(value)\n",
        "                node.right.parent = node\n",
        "                self = self.fix(node.right)\n",
        "            else:\n",
        "                self = self.__insert(node.right, value)\n",
        "\n",
        "        return self\n",
        "\n",
        "    def fix(self, node):\n",
        "        if node.parent == None:\n",
        "            node.make_black()\n",
        "        while node != None and node.parent != None and node.parent.is_red() and node.is_red():\n",
        "            #if there are two red nodes in a row\n",
        "            P = node.parent\n",
        "            C = node\n",
        "            G = P.parent\n",
        "            U = C.get_uncle()\n",
        "\n",
        "            if U == None:\n",
        "              #check if the nodes are in a straight line or not and rotate/double rotate accordingly\n",
        "              if P.is_right_child() and C.is_right_child():\n",
        "                #rotate left G\n",
        "                #G = red, P = black\n",
        "                self = G.rotate_left(self)\n",
        "\n",
        "                G.make_red()\n",
        "                P.make_black()\n",
        "              elif P.is_left_child() and C.is_left_child():\n",
        "                #rotate right G\n",
        "                #G = red, P = black\n",
        "                self = G.rotate_right(self)\n",
        "\n",
        "                G.make_red()\n",
        "                P.make_black()\n",
        "              elif P.is_left_child() and C.is_right_child():\n",
        "                #rotate left P\n",
        "                #rotate right G\n",
        "                #C = black, G = red\n",
        "\n",
        "                self = P.rotate_left(self)\n",
        "                self = G.rotate_right(self)\n",
        "\n",
        "                C.make_black()\n",
        "                G.make_red()\n",
        "\n",
        "              elif P.is_right_child() and C.is_left_child():\n",
        "                #rotate right P\n",
        "                #rotate left G\n",
        "                #C = black, G = red\n",
        "                self = P.rotate_right(self)\n",
        "                self = G.rotate_left(self)\n",
        "\n",
        "                C.make_black()\n",
        "                G.make_red()\n",
        "            elif U.is_black():\n",
        "              #check if the nodes are in a straight line or not and rotate/double rotate accordingly\n",
        "              if P.is_right_child() and C.is_right_child():\n",
        "                #rotate left G\n",
        "                #G = red, P = black\n",
        "                self = G.rotate_left(self)\n",
        "\n",
        "                G.make_red()\n",
        "                P.make_black()\n",
        "              elif P.is_left_child() and C.is_left_child():\n",
        "                #rotate right G\n",
        "                #G = red, P = black\n",
        "                self = G.rotate_right(self)\n",
        "\n",
        "                G.make_red()\n",
        "                P.make_black()\n",
        "              elif P.is_left_child() and C.is_right_child():\n",
        "                #rotate left P\n",
        "                #rotate right G\n",
        "                #C = black, G = red\n",
        "                self = P.rotate_left(self)\n",
        "                self = G.rotate_right(self)\n",
        "\n",
        "                C.make_black()\n",
        "                G.make_red()\n",
        "              elif P.is_right_child() and C.is_left_child():\n",
        "                #rotate right P\n",
        "                #rotate left G\n",
        "                #C = black, G = red\n",
        "                self = P.rotate_right(self)\n",
        "                self = G.rotate_left(self)\n",
        "\n",
        "                C.make_black()\n",
        "                G.make_red()\n",
        "            else:\n",
        "              #G = red\n",
        "              #P = black, U = black\n",
        "              G.make_red()\n",
        "              P.make_black()\n",
        "              U.make_black()\n",
        "\n",
        "            if G.parent != None:\n",
        "              if G.is_red() and G.parent.is_red():\n",
        "                self = self.fix(G)\n",
        "\n",
        "        self.root.make_black()\n",
        "        return self\n",
        "\n",
        "    def __str__(self):\n",
        "        if self.is_empty():\n",
        "            return \"[]\"\n",
        "        return \"[\" + self.__str_helper(self.root) + \"]\"\n",
        "\n",
        "    def __str_helper(self, node):\n",
        "        if node.is_leaf():\n",
        "            return \"[\" + str(node) + \"]\"\n",
        "        if node.left == None:\n",
        "            return \"[\" + str(node) + \" -> \" + self.__str_helper(node.right) + \"]\"\n",
        "        if node.right == None:\n",
        "            return \"[\" +  self.__str_helper(node.left) + \" <- \" + str(node) + \"]\"\n",
        "        return \"[\" + self.__str_helper(node.left) + \" <- \" + str(node) + \" -> \" + self.__str_helper(node.right) + \"]\"\n"
      ],
      "metadata": {
        "id": "ZkbK_QiUDyd4"
      },
      "execution_count": 5,
      "outputs": []
    },
    {
      "cell_type": "code",
      "source": [
        "def draw_show_plot(run_arr, ylabel, title):\n",
        "    x = np.arange(0, len(run_arr), 1)\n",
        "    fig = plt.figure(figsize = (20,8))\n",
        "    plt.bar(x,run_arr)\n",
        "    plt.axhline(np.mean(run_arr), color = \"red\", linestyle=\"--\", label = \"Avg\")\n",
        "    plt.xlabel(\"Test #\")\n",
        "    plt.ylabel(ylabel)\n",
        "    plt.title(title)\n",
        "    plt.show()"
      ],
      "metadata": {
        "id": "TbTVWVUmPBQs"
      },
      "execution_count": 6,
      "outputs": []
    },
    {
      "cell_type": "code",
      "source": [
        "#50 random lists will be generated\n",
        "runs = 50\n",
        "#the 50 differences in height (BST height - RBT height) will be stored in differences to print later\n",
        "differences = []\n",
        "BSTHeights = []\n",
        "RBTHeights = []\n",
        "\n",
        "for _ in range(runs):\n",
        "  #generate a random number between 1 and 20,000 to create the BST and RBT\n",
        "  temp = random.randrange(1, 20000)\n",
        "  BST = BSTNode(temp)\n",
        "  RBT = RBTree()\n",
        "  RBT.insert(temp)\n",
        "\n",
        "  #generate the remaining random 9999 numbers and add them to both trees\n",
        "  for _ in range(9999):\n",
        "    temp = random.randrange(1, 20000)\n",
        "    RBT.insert(temp)\n",
        "    BSTInsert(BST, temp)\n",
        "\n",
        "  bstheight = BSTHeight(BST)\n",
        "  rbtheight = RBT.get_height()\n",
        "\n",
        "  differences.append(bstheight - rbtheight)\n",
        "  BSTHeights.append(bstheight)\n",
        "  RBTHeights.append(rbtheight)\n",
        "\n",
        "# print(differences)\n",
        "draw_show_plot(differences, \"Difference (BST - RBT)\", \"Height Difference\")\n",
        "draw_show_plot(BSTHeights, \"Height\", \"BST Heights\")\n",
        "draw_show_plot(RBTHeights, \"Height\", \"RBT Heights\")"
      ],
      "metadata": {
        "colab": {
          "base_uri": "https://localhost:8080/",
          "height": 1000
        },
        "id": "Sl14YYFkJ0Yx",
        "outputId": "06988d25-0d1c-4ba1-e43c-bd37681745a5"
      },
      "execution_count": 7,
      "outputs": [
        {
          "output_type": "display_data",
          "data": {
            "text/plain": [
              "<Figure size 2000x800 with 1 Axes>"
            ],
            "image/png": "[encoded data removed]"
          },
          "metadata": {}
        },
        {
          "output_type": "display_data",
          "data": {
            "text/plain": [
              "<Figure size 2000x800 with 1 Axes>"
            ],
            "image/png": "[encoded data removed]"
          },
          "metadata": {}
        },
        {
          "output_type": "display_data",
          "data": {
            "text/plain": [
              "<Figure size 2000x800 with 1 Axes>"
            ],
            "image/png": "[encoded data removed]"
          },
          "metadata": {}
        }
      ]
    },
    {
      "cell_type": "markdown",
      "source": [
        "**Reflection**\n",
        "\n",
        "Outline of Experiment:\n",
        "- 10 000 random integers between 1 and 20,000 are generated and inserted into both a red-black tree and a binary search tree.\n",
        "- After all of the integers have been added to the trees, the difference in their heights is found using (height of BST) - (height of RBT), as the BST should have a larger height since RBTs are self-balancing.\n",
        "- This is repeated 50 times to find the average height difference, as well as the average heights of the trees.\n",
        "\n",
        "Results:\n",
        "- It can be seen in the three graphs that on average, the height of an RBT with 10 000 elements is 14 less than the height of a BST with the same elements.\n",
        "- On average, the heights for the BSTs were around 30, while the heights for the RBTs were around 16.\n",
        "\n",
        "Why is this difference important? How can this be used to select between RBTs and BSTs?\n",
        "- This difference is important as it shows that depending on the input values, BSTs can start to lean towards their worst case easily, making them more comparable to a list and reducing the usefullness of the tree/binary search. This can be seen as their heights were twice the size of the RBT heights.\n",
        "- Since RBTs are self-balancing, they keep their perfect black balance, so searching through them is always more efficient. They never start approaching linear time as regular BSTs do.\n",
        "- This can be used to select between RBTs and BSTs as it can clearly be seen that RBTs will continue to maintain balance, no matter the size of the tree, so searching and inserting will always be faster, whereas with BSTs the balance is easily lost, and it only gets worse as more elements are added. This makes red-black trees a better option."
      ],
      "metadata": {
        "id": "ab1SpfcjS8L3"
      }
    },
    {
      "cell_type": "markdown",
      "source": [
        "**Section 1.3:**\n",
        "- **Step 1:** Generate a perfectly sorted list\n"
      ],
      "metadata": {
        "id": "LpDLasO7ZBlI"
      }
    },
    {
      "cell_type": "code",
      "source": [
        "sorted_list = list(range(1, 10001))  # list of numbers from 1 to 10000\n"
      ],
      "metadata": {
        "id": "EPGHsNxUVmi6"
      },
      "execution_count": 14,
      "outputs": []
    },
    {
      "cell_type": "markdown",
      "source": [
        "- **Step 2:** Insert elements from the sorted list into BST and RBT\n"
      ],
      "metadata": {
        "id": "FgkaAH8HZTiG"
      }
    },
    {
      "cell_type": "code",
      "source": [
        "\n",
        "bst_root = None\n",
        "rbt = RBTree()\n",
        "\n",
        "# insert elements into BST and RBT and record their heights\n",
        "for value in sorted_list:\n",
        "    bst_root = BSTInsertIterative(bst_root, value)\n",
        "    rbt.insert(value)\n",
        "\n",
        "# calculate heights of both trees using the iterative height function for BST\n",
        "bst_height = BSTHeightIterative(bst_root)\n",
        "rbt_height = rbt.get_height()\n",
        "\n",
        "# record the height difference\n",
        "height_difference = bst_height - rbt_height\n",
        "\n",
        "# print the heights and the height difference\n",
        "print(\"BST Height:\", bst_height)\n",
        "print(\"RBT Height:\", rbt_height)\n",
        "print(\"Height Difference:\", height_difference)\n"
      ],
      "metadata": {
        "id": "S3pHRr-MZTRa",
        "outputId": "06d19f34-31bc-4dc9-f6ba-938e9dc6e303",
        "colab": {
          "base_uri": "https://localhost:8080/"
        }
      },
      "execution_count": 15,
      "outputs": [
        {
          "output_type": "stream",
          "name": "stdout",
          "text": [
            "BST Height: 10000\n",
            "RBT Height: 24\n",
            "Height Difference: 9976\n"
          ]
        }
      ]
    },
    {
      "cell_type": "markdown",
      "source": [
        "**Explanation for Steps 1 and 2**\n",
        "\n",
        "In this section, we generated a perfectly sorted list of numbers ranging from 1 to 10,000. We then inserted these numbers into both a Binary Search Tree (BST) and a Red-Black Tree (RBT). To avoid the Python recursion limit, we implemented an iterative version of both the insertion and height calculation functions for the BST.\n",
        "\n",
        "The height of the BST reached 10,000, indicating that the tree became a degenerate linked list due to the sequential insertion of sorted numbers, which is the worst case for a BST. On the other hand, the RBT maintained a much lower height of 24, showcasing its self-balancing properties. The significant height difference of 9976 between the two trees highlights the importance of self-balancing in maintaining efficient tree operations, which is a critical advantage of Red-Black Trees over simple Binary Search Trees.\n"
      ],
      "metadata": {
        "id": "k7nER9xXZtWt"
      }
    },
    {
      "cell_type": "markdown",
      "source": [
        "### Controlled Quicksort Function\n",
        "\n",
        "The `controlled_quicksort` function is designed to sort a list while also keeping track of the number of swaps performed during the sort. This function employs the quicksort algorithm, which is an efficient, in-place sorting algorithm. It works by selecting a 'pivot' element from the array and partitioning the other elements into two sub-arrays, according to whether they are less than or greater than the pivot. The swaps are counted to provide a measure of the list's \"sortedness.\" This function is useful for creating lists with varying degrees of sortedness for experimentation.\n"
      ],
      "metadata": {
        "id": "G35_JKMubBVP"
      }
    },
    {
      "cell_type": "code",
      "source": [
        "# Function to perform the partitioning step in quicksort\n",
        "def partition(arr, start, end):\n",
        "    global swap_count\n",
        "    pivot = arr[end]\n",
        "    p_index = start\n",
        "    for i in range(start, end):\n",
        "        if arr[i] <= pivot:\n",
        "            arr[i], arr[p_index] = arr[p_index], arr[i]\n",
        "            swap_count += 1\n",
        "            p_index += 1\n",
        "    arr[p_index], arr[end] = arr[end], arr[p_index]\n",
        "    swap_count += 1\n",
        "    return p_index\n",
        "\n",
        "# The main function that implements controlled quicksort\n",
        "def controlled_quicksort(arr, start, end):\n",
        "    global swap_count\n",
        "    if start < end:\n",
        "        p_index = partition(arr, start, end)\n",
        "        controlled_quicksort(arr, start, p_index - 1)\n",
        "        controlled_quicksort(arr, p_index + 1, end)\n",
        "\n",
        "# Example usage\n",
        "swap_count = 0  # Initialize swap count\n",
        "sample_list = [x for x in range(1, 10001)]  # List of numbers from 1 to 10000\n",
        "random.shuffle(sample_list)  # Shuffle the list to simulate unsortedness\n",
        "controlled_quicksort(sample_list, 0, len(sample_list) - 1)  # Sort the list and count swaps\n",
        "\n",
        "# Output the total swaps to sort the list\n",
        "print(f\"Total swaps to sort the list: {swap_count}\")\n"
      ],
      "metadata": {
        "id": "-D5SfNIrbMxS",
        "outputId": "5b8f0866-db9d-4aaf-c78a-466cf23eef79",
        "colab": {
          "base_uri": "https://localhost:8080/"
        }
      },
      "execution_count": 20,
      "outputs": [
        {
          "output_type": "stream",
          "name": "stdout",
          "text": [
            "Total swaps to sort the list: 94995\n"
          ]
        }
      ]
    },
    {
      "cell_type": "code",
      "source": [
        "#repeats\n",
        "def controlled_quicksort(arr, start, end):\n",
        "    global swap_count\n",
        "    if start < end:\n",
        "        p_index = partition(arr, start, end)\n",
        "        controlled_quicksort(arr, start, p_index - 1)\n",
        "        controlled_quicksort(arr, p_index + 1, end)\n",
        "\n",
        "def partition(arr, start, end):\n",
        "    global swap_count\n",
        "    pivot = arr[end]\n",
        "    p_index = start\n",
        "    for i in range(start, end):\n",
        "        if arr[i] <= pivot:\n",
        "            arr[i], arr[p_index] = arr[p_index], arr[i]\n",
        "            swap_count += 1\n",
        "            p_index += 1\n",
        "    arr[p_index], arr[end] = arr[end], arr[p_index]\n",
        "    swap_count += 1\n",
        "    return p_index\n",
        "\n",
        "# Example usage:\n",
        "# Initialize swap count\n",
        "swap_count = 0\n",
        "sample_list = [x for x in range(1, 10001)]  # Replace with your list\n",
        "random.shuffle(sample_list)  # Shuffle the list to simulate unsortedness\n",
        "controlled_quicksort(sample_list, 0, len(sample_list) - 1)\n",
        "\n",
        "print(f\"Total swaps to sort the list: {swap_count}\")\n"
      ],
      "metadata": {
        "id": "yib_0gJabiFn",
        "outputId": "2f2727a7-46af-4df2-bb0e-b96d2e0e57d5",
        "colab": {
          "base_uri": "https://localhost:8080/"
        }
      },
      "execution_count": 22,
      "outputs": [
        {
          "output_type": "stream",
          "name": "stdout",
          "text": [
            "Total swaps to sort the list: 86682\n"
          ]
        }
      ]
    },
    {
      "cell_type": "markdown",
      "source": [
        "Markdown Explanation:\n",
        "This code block demonstrates a controlled quicksort algorithm, which is an efficient sorting method featuring a pivot to partition the array into two halves recursively. The swap_count variable tracks the total number of swaps made during the sorting process, providing a measure of the algorithm's complexity for a given list. The output Total swaps to sort the list: 94995 indicates the list's unsortedness level and the effort required to sort it completely."
      ],
      "metadata": {
        "id": "GiGTxZDTbo63"
      }
    },
    {
      "cell_type": "code",
      "source": [
        "def controlled_quicksort_with_limit(arr, start, end, swap_limit):\n",
        "    global swap_count\n",
        "    if start < end and swap_count < swap_limit:\n",
        "        p_index = partition_with_limit(arr, start, end, swap_limit)\n",
        "        controlled_quicksort_with_limit(arr, start, p_index - 1, swap_limit)\n",
        "        controlled_quicksort_with_limit(arr, p_index + 1, end, swap_limit)\n",
        "\n",
        "def partition_with_limit(arr, start, end, swap_limit):\n",
        "    global swap_count\n",
        "    pivot = arr[end]\n",
        "    p_index = start\n",
        "    for i in range(start, end):\n",
        "        if arr[i] <= pivot:\n",
        "            arr[i], arr[p_index] = arr[p_index], arr[i]\n",
        "            swap_count += 1\n",
        "            if swap_count >= swap_limit:\n",
        "                return p_index\n",
        "            p_index += 1\n",
        "    arr[p_index], arr[end] = arr[end], arr[p_index]\n",
        "    swap_count += 1\n",
        "    return p_index\n",
        "\n",
        "# Function to generate a list with a given degree of sortedness\n",
        "def generate_partially_sorted_list(size, swap_limit):\n",
        "    global swap_count\n",
        "    swap_count = 0\n",
        "    shuffled_list = list(range(1, size + 1))\n",
        "    random.shuffle(shuffled_list)\n",
        "    controlled_quicksort_with_limit(shuffled_list, 0, size - 1, swap_limit)\n",
        "    return shuffled_list, swap_count\n",
        "\n",
        "# Example usage: Generate lists with different swap limits\n",
        "swap_limits = [100, 1000, 5000, 10000, 25000, 50000, 75000]  # Swap limits to simulate different levels of sortedness\n",
        "sortedness_data = []\n",
        "\n",
        "for limit in swap_limits:\n",
        "    partial_list, swaps_used = generate_partially_sorted_list(10000, limit)\n",
        "    sortedness_data.append((limit, swaps_used, partial_list))\n",
        "\n",
        "for data in sortedness_data:\n",
        "    print(f\"Swap limit: {data[0]}, Swaps used: {data[1]}, First 10 elements: {data[2][:10]}\")\n"
      ],
      "metadata": {
        "id": "jGzaaA03a0kU",
        "outputId": "0ddea4a2-b8e9-416c-ecd4-bcdc2f10fa01",
        "colab": {
          "base_uri": "https://localhost:8080/"
        }
      },
      "execution_count": 17,
      "outputs": [
        {
          "output_type": "stream",
          "name": "stdout",
          "text": [
            "Swap limit: 100, Swaps used: 100, First 10 elements: [1921, 3136, 1156, 2165, 3353, 4165, 2976, 4030, 4131, 3854]\n",
            "Swap limit: 1000, Swaps used: 1000, First 10 elements: [5622, 5391, 1157, 1264, 712, 4665, 2481, 6074, 1381, 4513]\n",
            "Swap limit: 5000, Swaps used: 5000, First 10 elements: [1, 2, 3, 4, 5, 6, 7, 8, 9, 10]\n",
            "Swap limit: 10000, Swaps used: 10000, First 10 elements: [1, 2, 3, 4, 5, 6, 7, 8, 9, 10]\n",
            "Swap limit: 25000, Swaps used: 25000, First 10 elements: [1, 2, 3, 4, 5, 6, 7, 8, 9, 10]\n",
            "Swap limit: 50000, Swaps used: 50000, First 10 elements: [1, 2, 3, 4, 5, 6, 7, 8, 9, 10]\n",
            "Swap limit: 75000, Swaps used: 75000, First 10 elements: [1, 2, 3, 4, 5, 6, 7, 8, 9, 10]\n"
          ]
        }
      ]
    },
    {
      "cell_type": "code",
      "source": [
        "def controlled_quicksort_with_limit(arr, start, end, swap_limit):\n",
        "    global swap_count\n",
        "    if start < end and swap_count < swap_limit:\n",
        "        p_index = partition_with_limit(arr, start, end, swap_limit)\n",
        "        controlled_quicksort_with_limit(arr, start, p_index - 1, swap_limit)\n",
        "        controlled_quicksort_with_limit(arr, p_index + 1, end, swap_limit)\n",
        "\n",
        "def partition_with_limit(arr, start, end, swap_limit):\n",
        "    global swap_count\n",
        "    pivot = arr[end]\n",
        "    p_index = start\n",
        "    for i in range(start, end):\n",
        "        if arr[i] <= pivot:\n",
        "            arr[i], arr[p_index] = arr[p_index], arr[i]\n",
        "            swap_count += 1\n",
        "            if swap_count >= swap_limit:\n",
        "                return p_index\n",
        "            p_index += 1\n",
        "    arr[p_index], arr[end] = arr[end], arr[p_index]\n",
        "    swap_count += 1\n",
        "    return p_index\n",
        "\n",
        "# Function to generate a list with a given degree of sortedness\n",
        "def generate_partially_sorted_list(size, swap_limit):\n",
        "    global swap_count\n",
        "    swap_count = 0\n",
        "    shuffled_list = list(range(1, size + 1))\n",
        "    random.shuffle(shuffled_list)\n",
        "    controlled_quicksort_with_limit(shuffled_list, 0, size - 1, swap_limit)\n",
        "    return shuffled_list, swap_count\n",
        "\n",
        "# Example usage: Generate lists with different swap limits\n",
        "swap_limits = [100, 1000, 5000, 10000, 25000, 50000, 75000]\n",
        "sortedness_data = []\n",
        "\n",
        "for limit in swap_limits:\n",
        "    partial_list, swaps_used = generate_partially_sorted_list(10000, limit)\n",
        "    sortedness_data.append((limit, swaps_used, partial_list))\n",
        "\n",
        "for data in sortedness_data:\n",
        "    print(f\"Swap limit: {data[0]}, Swaps used: {data[1]}, First 10 elements: {data[2][:10]}\")\n"
      ],
      "metadata": {
        "id": "MqTBZKoSbrR6",
        "outputId": "9e778004-64b3-49b2-a6bf-f533dfb90ac0",
        "colab": {
          "base_uri": "https://localhost:8080/"
        }
      },
      "execution_count": 23,
      "outputs": [
        {
          "output_type": "stream",
          "name": "stdout",
          "text": [
            "Swap limit: 100, Swaps used: 100, First 10 elements: [244, 1505, 3563, 6331, 5501, 3477, 4391, 2331, 944, 271]\n",
            "Swap limit: 1000, Swaps used: 1000, First 10 elements: [5739, 4232, 3750, 1048, 640, 1008, 541, 3132, 1635, 1632]\n",
            "Swap limit: 5000, Swaps used: 5000, First 10 elements: [4707, 449, 6556, 8580, 1688, 741, 4865, 4718, 6924, 7252]\n",
            "Swap limit: 10000, Swaps used: 10000, First 10 elements: [6406, 706, 1388, 506, 7324, 5493, 1507, 1301, 2374, 7477]\n",
            "Swap limit: 25000, Swaps used: 25000, First 10 elements: [1, 2, 3, 4, 5, 6, 7, 8, 9, 10]\n",
            "Swap limit: 50000, Swaps used: 50000, First 10 elements: [1, 2, 3, 4, 5, 6, 7, 8, 9, 10]\n",
            "Swap limit: 75000, Swaps used: 74715, First 10 elements: [1, 2, 3, 4, 5, 6, 7, 8, 9, 10]\n"
          ]
        }
      ]
    },
    {
      "cell_type": "markdown",
      "source": [
        "This section introduces a variation of the controlled quicksort algorithm, modified to halt after a specific number of swaps, denoted by swap_limit. This approach allows us to generate lists with varying degrees of sortedness, simulating different real-world scenarios. The output illustrates how the lists' first ten elements change as the swap_limit increases, reflecting different stages from nearly unsorted to almost completely sorted. The progression from a swap_limit of 100 swaps, resulting in a highly unsorted list, to 75,000 swaps, producing a sorted list, showcases the method's utility in creating datasets with controlled degrees of sortedness for analysis."
      ],
      "metadata": {
        "id": "83IcR5mfbwE-"
      }
    },
    {
      "cell_type": "code",
      "source": [
        "# Assume BSTInsertIterative and BSTHeightIterative are already defined as per previous instructions\n",
        "\n",
        "# Function to insert elements into a BST and return its height\n",
        "def insert_and_get_height_bst(list_to_insert):\n",
        "    bst_root = None\n",
        "    for value in list_to_insert:\n",
        "        bst_root = BSTInsertIterative(bst_root, value)\n",
        "    return BSTHeightIterative(bst_root)\n",
        "\n",
        "# Function to insert elements into an RBT and return its height\n",
        "def insert_and_get_height_rbt(list_to_insert):\n",
        "    rbt = RBTree()\n",
        "    for value in list_to_insert:\n",
        "        rbt.insert(value)\n",
        "    return rbt.get_height()\n",
        "\n",
        "# Recording heights for each degree of sortedness\n",
        "heights_data = []\n",
        "for data in sortedness_data:\n",
        "    swap_limit, swaps_used, partial_list = data\n",
        "    bst_height = insert_and_get_height_bst(partial_list)\n",
        "    rbt_height = insert_and_get_height_rbt(partial_list)\n",
        "    heights_data.append((swap_limit, swaps_used, bst_height, rbt_height))\n",
        "\n",
        "# Displaying the collected data\n",
        "for height_data in heights_data:\n",
        "    print(f\"Swap limit: {height_data[0]}, Swaps used: {height_data[1]}, BST Height: {height_data[2]}, RBT Height: {height_data[3]}\")\n"
      ],
      "metadata": {
        "id": "bwPNuqPob6SC",
        "outputId": "5b037fd4-86a4-4973-8ac3-4a7da037bec4",
        "colab": {
          "base_uri": "https://localhost:8080/"
        }
      },
      "execution_count": 24,
      "outputs": [
        {
          "output_type": "stream",
          "name": "stdout",
          "text": [
            "Swap limit: 100, Swaps used: 100, BST Height: 31, RBT Height: 17\n",
            "Swap limit: 1000, Swaps used: 1000, BST Height: 37, RBT Height: 17\n",
            "Swap limit: 5000, Swaps used: 5000, BST Height: 29, RBT Height: 16\n",
            "Swap limit: 10000, Swaps used: 10000, BST Height: 36, RBT Height: 16\n",
            "Swap limit: 25000, Swaps used: 25000, BST Height: 2248, RBT Height: 20\n",
            "Swap limit: 50000, Swaps used: 50000, BST Height: 5630, RBT Height: 22\n",
            "Swap limit: 75000, Swaps used: 74715, BST Height: 10000, RBT Height: 24\n"
          ]
        }
      ]
    },
    {
      "cell_type": "code",
      "source": [
        "import matplotlib.pyplot as plt\n",
        "\n",
        "# Extracting data for plotting\n",
        "swap_limits, swaps_used, bst_heights, rbt_heights = zip(*[(d[0], d[1], d[2], d[3]) for d in heights_data])\n",
        "\n",
        "# Plotting\n",
        "plt.figure(figsize=(12, 8))\n",
        "plt.plot(swap_limits, bst_heights, label='BST Heights', marker='o')\n",
        "plt.plot(swap_limits, rbt_heights, label='RBT Heights', marker='x')\n",
        "plt.title('Impact of Sortedness on Tree Heights')\n",
        "plt.xlabel('Swap Limit (Degree of Sortedness)')\n",
        "plt.ylabel('Tree Height')\n",
        "plt.legend()\n",
        "plt.grid(True)\n",
        "plt.show()\n"
      ],
      "metadata": {
        "id": "oYklt171cO2P",
        "outputId": "a1f2893f-300d-46b1-fcd0-1137a99e2c1e",
        "colab": {
          "base_uri": "https://localhost:8080/",
          "height": 718
        }
      },
      "execution_count": 25,
      "outputs": [
        {
          "output_type": "display_data",
          "data": {
            "text/plain": [
              "<Figure size 1200x800 with 1 Axes>"
            ],
            "image/png": "[encoded data removed]"
          },
          "metadata": {}
        }
      ]
    },
    {
      "cell_type": "markdown",
      "source": [
        "The graph you've provided aligns with the expected outcomes from the experiment.\n",
        "\n",
        "For the BST, as the degree of sortedness increases (indicated by the increasing swap limit), the tree height rises significantly. This dramatic rise occurs because the BST does not have any mechanisms to self-balance, and thus, when inserting sorted or nearly sorted data, the tree degenerates into a structure resembling a linked list, with its height increasing linearly with the number of elements.\n",
        "\n",
        "On the other hand, the RBT height remains relatively low and consistent, only slightly increasing as the degree of sortedness increases. This stability in height despite the data being increasingly sorted showcases the self-balancing properties of Red-Black Trees. The RBT operations (rotations and color changes) ensure that the tree remains approximately balanced at all times, resulting in a height of \\( O(\\log n) \\) even with sorted data.\n",
        "\n",
        "The experiment's findings and the graph demonstrate the importance of using self-balancing trees when there's a possibility of encountering sorted or nearly sorted data. It also highlights how critical these properties are for maintaining efficient operations (insertion, deletion, and lookup) that are reliably close to \\( O(\\log n) \\) in complexity, preventing the performance degradation seen with unbalanced BSTs.\n",
        "\n",
        "This data should serve as a compelling argument for choosing Red-Black Trees over simple Binary Search Trees in applications where data can vary in its sortedness and where performance consistency is a priority."
      ],
      "metadata": {
        "id": "0InJchlyce-S"
      }
    },
    {
      "cell_type": "markdown",
      "source": [
        "Certainly, here's a more concise and conversational reflection for your Jupyter notebook:\n",
        "\n",
        "---\n",
        "\n",
        "### Reflection\n",
        "\n",
        "**Experiment Overview:** We wanted to see how different sorts of lists affect Binary Search Trees (BSTs) and Red-Black Trees (RBTs). So, we shook things up with a controlled quicksort to create lists that were a bit mixed up to completely jumbled, then watched how tall each tree grew after adding all the numbers.\n",
        "\n",
        "**How We Did It:** Think of quicksort like a card game where you're sorting cards by swapping them around. We tracked these swaps, and by setting a swap 'budget', we controlled how sorted the list got. Then, we loaded these lists into our BST and RBT and measured how tall they got.\n",
        "\n",
        "**What We Found:** BSTs got really tall, especially with lists that were almost sorted—like a stack of plates getting taller and more wobbly. RBTs, on the other hand, stayed much shorter and steadier, no matter how we shuffled the list.\n",
        "\n",
        "**So What?:** It’s clear from our little experiment—RBTs are the way to go when you can't be sure how sorted your data will be. They stay balanced and keep things running smoothly. BSTs might get shaky as they grow taller with sorted data, which could slow things down.\n",
        "\n",
        "**Quick Thought:** Choosing the right tree matters—a lot. Our experiment confirms that RBTs are reliable, especially when the data's all over the place. And while we're at it, why not see how other trees stack up under these conditions? That's something to dig into next time!\n",
        "\n",
        "---\n",
        "\n",
        "This reflection is now more succinct and relatable, capturing the essence of your findings and their practical significance."
      ],
      "metadata": {
        "id": "0siFTmINdXh4"
      }
    },
    {
      "cell_type": "code",
      "source": [],
      "metadata": {
        "id": "pQEgobrfclvo"
      },
      "execution_count": null,
      "outputs": []
    }
  ]
}