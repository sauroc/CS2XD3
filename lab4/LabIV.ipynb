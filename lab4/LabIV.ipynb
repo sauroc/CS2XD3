{
  "nbformat": 4,
  "nbformat_minor": 0,
  "metadata": {
    "colab": {
      "provenance": []
    },
    "kernelspec": {
      "name": "python3",
      "display_name": "Python 3"
    },
    "language_info": {
      "name": "python"
    }
  },
  "cells": [
    {
      "cell_type": "code",
      "source": [
        "import random\n",
        "import timeit\n",
        "import matplotlib.pyplot as plt\n",
        "import numpy as np\n",
        "import math"
      ],
      "metadata": {
        "id": "g8bZE4uRKV65"
      },
      "execution_count": 41,
      "outputs": []
    },
    {
      "cell_type": "code",
      "source": [
        "class BSTNode:\n",
        "  def __init__(self, value):\n",
        "        self.value = value\n",
        "        self.left = None\n",
        "        self.right = None\n",
        "        self.parent = None\n",
        "\n",
        "# BST insert function to avoid recursion\n",
        "def BSTInsertIterative(root, value):\n",
        "    node = BSTNode(value)\n",
        "    if root is None:\n",
        "        return node\n",
        "    current = root\n",
        "    while True:\n",
        "        if value < current.value:\n",
        "            if current.left is None:\n",
        "                current.left = node\n",
        "                break\n",
        "            current = current.left\n",
        "        else:\n",
        "            if current.right is None:\n",
        "                current.right = node\n",
        "                break\n",
        "            current = current.right\n",
        "    return root\n",
        "\n",
        "# BST height calculation to avoid recursion limit\n",
        "def BSTHeightIterative(root):\n",
        "    if root is None:\n",
        "        return 0\n",
        "    max_height = 0\n",
        "    node_stack = [(root, 1)] # stores nodes along with their depth\n",
        "    while node_stack:\n",
        "        node, depth = node_stack.pop()\n",
        "        if node is not None:\n",
        "            max_height = max(max_height, depth)\n",
        "            node_stack.append((node.left, depth + 1))\n",
        "            node_stack.append((node.right, depth + 1))\n",
        "    return max_height\n",
        "\n",
        "def BSTSearch(node, value):\n",
        "  if node == None:\n",
        "    return None\n",
        "\n",
        "  if value > node.value:\n",
        "    return BSTSearch(node.right, value)\n",
        "\n",
        "  if value < node.value:\n",
        "    return BSTSearch(node.left, value)\n",
        "\n",
        "  return node.value\n",
        "\n",
        "def BSTInsert(root, value):\n",
        "  node = BSTNode(value)\n",
        "  return BSTInsertNode(root, node)\n",
        "\n",
        "def BSTInsertNode(root, node):\n",
        "  if root == None:\n",
        "    return node\n",
        "\n",
        "  if node.value == root.value:\n",
        "    return root\n",
        "  elif node.value < root.value:\n",
        "    root.left = BSTInsertNode(root.left, node)\n",
        "  elif node.value > root.value:\n",
        "    root.right = BSTInsertNode(root.right, node)\n",
        "\n",
        "  return root\n",
        "\n",
        "def BSTHeight(node):\n",
        "    if node == None:\n",
        "        return 0\n",
        "    return BSTGetHeight(node)\n",
        "\n",
        "def BSTGetHeight(node):\n",
        "    if node == None:\n",
        "        return 0\n",
        "\n",
        "    return 1 + max(BSTGetHeight(node.left), BSTGetHeight(node.right))\n"
      ],
      "metadata": {
        "id": "NdojtIrx6JfE"
      },
      "execution_count": 42,
      "outputs": []
    },
    {
      "cell_type": "code",
      "execution_count": 43,
      "metadata": {
        "id": "UIzAl6G8DssS"
      },
      "outputs": [],
      "source": [
        "class RBNode:\n",
        "\n",
        "    def __init__(self, value):\n",
        "        self.value = value\n",
        "        self.left = None\n",
        "        self.right = None\n",
        "        self.parent = None\n",
        "        self.colour = \"R\"\n",
        "\n",
        "    def get_uncle(self):\n",
        "        return\n",
        "\n",
        "    def is_leaf(self):\n",
        "        return self.left == None and self.right == None\n",
        "\n",
        "    def is_left_child(self):\n",
        "        return self == self.parent.left\n",
        "\n",
        "    def is_right_child(self):\n",
        "        return not self.is_left_child()\n",
        "\n",
        "    def is_red(self):\n",
        "        return self.colour == \"R\"\n",
        "\n",
        "    def is_black(self):\n",
        "        return not self.is_red()\n",
        "\n",
        "    def make_black(self):\n",
        "        self.colour = \"B\"\n",
        "\n",
        "    def make_red(self):\n",
        "        self.colour = \"R\"\n",
        "\n",
        "    def get_brother(self):\n",
        "        if self.parent.right == self:\n",
        "            return self.parent.left\n",
        "        return self.parent.right\n",
        "\n",
        "    def get_uncle(self):\n",
        "        return self.parent.get_brother()\n",
        "\n",
        "    def uncle_is_black(self):\n",
        "        if self.get_uncle() == None:\n",
        "            return True\n",
        "        return self.get_uncle().is_black()\n",
        "\n",
        "    def __str__(self):\n",
        "        return \"(\" + str(self.value) + \",\" + self.colour + \")\"\n",
        "\n",
        "    def __repr__(self):\n",
        "         return \"(\" + str(self.value) + \",\" + self.colour + \")\"\n",
        "\n",
        "    def rotate_right(self, tree):\n",
        "        y = self.left\n",
        "        self.left = y.right\n",
        "        if y.right != None:\n",
        "          y.right.parent = self\n",
        "        y.parent = self.parent\n",
        "        if self.parent == None:\n",
        "          tree.root = y\n",
        "        elif self == self.parent.right:\n",
        "          self.parent.right = y\n",
        "        else:\n",
        "          self.parent.left = y\n",
        "        y.right = self\n",
        "        self.parent = y\n",
        "\n",
        "        return tree\n",
        "\n",
        "    def rotate_left(self, tree):\n",
        "        y = self.right\n",
        "        self.right = y.left\n",
        "        if y.left != None:\n",
        "          y.left.parent = self\n",
        "        y.parent = self.parent\n",
        "        if self.parent == None:\n",
        "          tree.root = y\n",
        "        elif self == self.parent.left:\n",
        "          self.parent.left = y\n",
        "        else:\n",
        "          self.parent.right = y\n",
        "        y.left = self\n",
        "        self.parent = y\n",
        "        return tree\n"
      ]
    },
    {
      "cell_type": "code",
      "source": [
        "class RBTree:\n",
        "\n",
        "    def __init__(self,):\n",
        "        self.root = None\n",
        "\n",
        "    def is_empty(self,):\n",
        "        return self.root == None\n",
        "\n",
        "    def get_height(self,):\n",
        "        if self.is_empty():\n",
        "            return 0\n",
        "        return self.__get_height(self.root)\n",
        "\n",
        "    def __get_height(self, node):\n",
        "        if node == None:\n",
        "            return 0\n",
        "        return 1 + max(self.__get_height(node.left), self.__get_height(node.right))\n",
        "\n",
        "    def insert(self, value):\n",
        "        if self.is_empty():\n",
        "            self.root = RBNode(value)\n",
        "            self.root.make_black()\n",
        "        else:\n",
        "             self = self.__insert(self.root, value)\n",
        "        return self\n",
        "\n",
        "    def __insert(self, node, value):\n",
        "        if value < node.value:\n",
        "            if node.left == None:\n",
        "                node.left = RBNode(value)\n",
        "                node.left.parent = node\n",
        "                self = self.fix(node.left)\n",
        "\n",
        "            else:\n",
        "                self = self.__insert(node.left, value)\n",
        "        else:\n",
        "            if node.right == None:\n",
        "                node.right = RBNode(value)\n",
        "                node.right.parent = node\n",
        "                self = self.fix(node.right)\n",
        "            else:\n",
        "                self = self.__insert(node.right, value)\n",
        "\n",
        "        return self\n",
        "\n",
        "    def fix(self, node):\n",
        "        if node.parent == None:\n",
        "            node.make_black()\n",
        "        while node != None and node.parent != None and node.parent.is_red() and node.is_red():\n",
        "            #if there are two red nodes in a row\n",
        "            P = node.parent\n",
        "            C = node\n",
        "            G = P.parent\n",
        "            U = C.get_uncle()\n",
        "\n",
        "            if U == None:\n",
        "              #check if the nodes are in a straight line or not and rotate/double rotate accordingly\n",
        "              if P.is_right_child() and C.is_right_child():\n",
        "                #rotate left G\n",
        "                #G = red, P = black\n",
        "                self = G.rotate_left(self)\n",
        "\n",
        "                G.make_red()\n",
        "                P.make_black()\n",
        "              elif P.is_left_child() and C.is_left_child():\n",
        "                #rotate right G\n",
        "                #G = red, P = black\n",
        "                self = G.rotate_right(self)\n",
        "\n",
        "                G.make_red()\n",
        "                P.make_black()\n",
        "              elif P.is_left_child() and C.is_right_child():\n",
        "                #rotate left P\n",
        "                #rotate right G\n",
        "                #C = black, G = red\n",
        "\n",
        "                self = P.rotate_left(self)\n",
        "                self = G.rotate_right(self)\n",
        "\n",
        "                C.make_black()\n",
        "                G.make_red()\n",
        "\n",
        "              elif P.is_right_child() and C.is_left_child():\n",
        "                #rotate right P\n",
        "                #rotate left G\n",
        "                #C = black, G = red\n",
        "                self = P.rotate_right(self)\n",
        "                self = G.rotate_left(self)\n",
        "\n",
        "                C.make_black()\n",
        "                G.make_red()\n",
        "            elif U.is_black():\n",
        "              #check if the nodes are in a straight line or not and rotate/double rotate accordingly\n",
        "              if P.is_right_child() and C.is_right_child():\n",
        "                #rotate left G\n",
        "                #G = red, P = black\n",
        "                self = G.rotate_left(self)\n",
        "\n",
        "                G.make_red()\n",
        "                P.make_black()\n",
        "              elif P.is_left_child() and C.is_left_child():\n",
        "                #rotate right G\n",
        "                #G = red, P = black\n",
        "                self = G.rotate_right(self)\n",
        "\n",
        "                G.make_red()\n",
        "                P.make_black()\n",
        "              elif P.is_left_child() and C.is_right_child():\n",
        "                #rotate left P\n",
        "                #rotate right G\n",
        "                #C = black, G = red\n",
        "                self = P.rotate_left(self)\n",
        "                self = G.rotate_right(self)\n",
        "\n",
        "                C.make_black()\n",
        "                G.make_red()\n",
        "              elif P.is_right_child() and C.is_left_child():\n",
        "                #rotate right P\n",
        "                #rotate left G\n",
        "                #C = black, G = red\n",
        "                self = P.rotate_right(self)\n",
        "                self = G.rotate_left(self)\n",
        "\n",
        "                C.make_black()\n",
        "                G.make_red()\n",
        "            else:\n",
        "              #G = red\n",
        "              #P = black, U = black\n",
        "              G.make_red()\n",
        "              P.make_black()\n",
        "              U.make_black()\n",
        "\n",
        "            if G.parent != None:\n",
        "              if G.is_red() and G.parent.is_red():\n",
        "                self = self.fix(G)\n",
        "\n",
        "        self.root.make_black()\n",
        "        return self\n",
        "\n",
        "    def __str__(self):\n",
        "        if self.is_empty():\n",
        "            return \"[]\"\n",
        "        return \"[\" + self.__str_helper(self.root) + \"]\"\n",
        "\n",
        "    def __str_helper(self, node):\n",
        "        if node.is_leaf():\n",
        "            return \"[\" + str(node) + \"]\"\n",
        "        if node.left == None:\n",
        "            return \"[\" + str(node) + \" -> \" + self.__str_helper(node.right) + \"]\"\n",
        "        if node.right == None:\n",
        "            return \"[\" +  self.__str_helper(node.left) + \" <- \" + str(node) + \"]\"\n",
        "        return \"[\" + self.__str_helper(node.left) + \" <- \" + str(node) + \" -> \" + self.__str_helper(node.right) + \"]\"\n"
      ],
      "metadata": {
        "id": "ZkbK_QiUDyd4"
      },
      "execution_count": 44,
      "outputs": []
    },
    {
      "cell_type": "code",
      "source": [
        "def draw_show_plot(run_arr, ylabel, title):\n",
        "    x = np.arange(0, len(run_arr), 1)\n",
        "    fig = plt.figure(figsize = (20,8))\n",
        "    plt.bar(x,run_arr)\n",
        "    plt.axhline(np.mean(run_arr), color = \"red\", linestyle=\"--\", label = \"Avg\")\n",
        "    plt.xlabel(\"Test #\")\n",
        "    plt.ylabel(ylabel)\n",
        "    plt.title(title)\n",
        "    plt.show()"
      ],
      "metadata": {
        "id": "TbTVWVUmPBQs"
      },
      "execution_count": 45,
      "outputs": []
    },
    {
      "cell_type": "code",
      "source": [
        "#50 random lists will be generated\n",
        "runs = 50\n",
        "#the 50 differences in height (BST height - RBT height) will be stored in differences to print later\n",
        "differences = []\n",
        "BSTHeights = []\n",
        "RBTHeights = []\n",
        "\n",
        "for _ in range(runs):\n",
        "  #generate a random number between 1 and 20,000 to create the BST and RBT\n",
        "  temp = random.randrange(1, 20000)\n",
        "  BST = BSTNode(temp)\n",
        "  RBT = RBTree()\n",
        "  RBT.insert(temp)\n",
        "\n",
        "  #generate the remaining random 9999 numbers and add them to both trees\n",
        "  for _ in range(9999):\n",
        "    temp = random.randrange(1, 20000)\n",
        "    RBT.insert(temp)\n",
        "    BSTInsert(BST, temp)\n",
        "\n",
        "  bstheight = BSTHeight(BST)\n",
        "  rbtheight = RBT.get_height()\n",
        "\n",
        "  differences.append(bstheight - rbtheight)\n",
        "  BSTHeights.append(bstheight)\n",
        "  RBTHeights.append(rbtheight)\n",
        "\n",
        "# print(differences)\n",
        "draw_show_plot(differences, \"Difference (BST - RBT)\", \"Height Difference\")\n",
        "draw_show_plot(BSTHeights, \"Height\", \"BST Heights\")\n",
        "draw_show_plot(RBTHeights, \"Height\", \"RBT Heights\")"
      ],
      "metadata": {
        "colab": {
          "base_uri": "https://localhost:8080/",
          "height": 968
        },
        "id": "Sl14YYFkJ0Yx",
        "outputId": "800d1137-f99c-4973-ab3b-bd60974bb53c"
      },
      "execution_count": 46,
      "outputs": [
        {
          "output_type": "display_data",
          "data": {
            "text/plain": [
              "<Figure size 2000x800 with 1 Axes>"
            ],
            "image/png": "[encoded data removed]"
          },
          "metadata": {}
        },
        {
          "output_type": "display_data",
          "data": {
            "text/plain": [
              "<Figure size 2000x800 with 1 Axes>"
            ],
            "image/png": "[encoded data removed]"
          },
          "metadata": {}
        },
        {
          "output_type": "display_data",
          "data": {
            "text/plain": [
              "<Figure size 2000x800 with 1 Axes>"
            ],
            "image/png": "[encoded data removed]"
          },
          "metadata": {}
        }
      ]
    },
    {
      "cell_type": "markdown",
      "source": [
        "**Reflection**\n",
        "\n",
        "Outline of Experiment:\n",
        "- 10 000 random integers between 1 and 20,000 are generated and inserted into both a red-black tree and a binary search tree.\n",
        "- After all of the integers have been added to the trees, the difference in their heights is found using (height of BST) - (height of RBT), as the BST should have a larger height since RBTs are self-balancing.\n",
        "- This is repeated 50 times to find the average height difference, as well as the average heights of the trees.\n",
        "\n",
        "Results:\n",
        "- It can be seen in the three graphs that on average, the height of an RBT with 10 000 elements is 14 less than the height of a BST with the same elements.\n",
        "- On average, the heights for the BSTs were around 30, while the heights for the RBTs were around 16.\n",
        "\n",
        "Why is this difference important? How can this be used to select between RBTs and BSTs?\n",
        "- This difference is important as it shows that depending on the input values, BSTs can start to lean towards their worst case easily, making them more comparable to a list and reducing the usefullness of the tree/binary search. This can be seen as their heights were twice the size of the RBT heights.\n",
        "- Since RBTs are self-balancing, they keep their perfect black balance, so searching through them is always more efficient. They never start approaching linear time as regular BSTs do.\n",
        "- This can be used to select between RBTs and BSTs as it can clearly be seen that RBTs will continue to maintain balance, no matter the size of the tree, so searching and inserting will always be faster, whereas with BSTs the balance is easily lost, and it only gets worse as more elements are added. This makes red-black trees a better option."
      ],
      "metadata": {
        "id": "ab1SpfcjS8L3"
      }
    },
    {
      "cell_type": "markdown",
      "source": [
        "**Section 1.3:**  Experiment on the Impact of \"Sortedness\" on Tree Heights\n",
        "\n",
        "In this experiment, we will generate lists with varying degrees of \"sortedness\" and observe how it affects the height of Binary Search Trees (BSTs) and Red-Black Trees (RBTs). We'll start with a perfectly sorted list and then create different versions of the list with increasing levels of unsortedness using a controlled quicksort algorithm.\n",
        "\n",
        "**Generate a perfectly sorted list**\n"
      ],
      "metadata": {
        "id": "LpDLasO7ZBlI"
      }
    },
    {
      "cell_type": "code",
      "source": [
        "sorted_list = list(range(1, 10001))  # list of numbers from 1 to 10000\n"
      ],
      "metadata": {
        "id": "EPGHsNxUVmi6"
      },
      "execution_count": 47,
      "outputs": []
    },
    {
      "cell_type": "markdown",
      "source": [
        "**Insert Elements into BST and RBT and Record Heights**"
      ],
      "metadata": {
        "id": "FgkaAH8HZTiG"
      }
    },
    {
      "cell_type": "code",
      "source": [
        "bst_root = None\n",
        "rbt = RBTree()\n",
        "\n",
        "# insert elements into BST and RBT and record their heights\n",
        "for value in sorted_list:\n",
        "    bst_root = BSTInsertIterative(bst_root, value)\n",
        "    rbt.insert(value)\n",
        "\n",
        "# calculate heights of both trees using the iterative height function for BST\n",
        "bst_height = BSTHeightIterative(bst_root)\n",
        "rbt_height = rbt.get_height()\n",
        "\n",
        "# record the height difference\n",
        "height_difference = bst_height - rbt_height\n",
        "\n",
        "# print the heights and the height difference\n",
        "print(\"BST Height:\", bst_height)\n",
        "print(\"RBT Height:\", rbt_height)\n",
        "print(\"Height Difference:\", height_difference)\n"
      ],
      "metadata": {
        "colab": {
          "base_uri": "https://localhost:8080/"
        },
        "id": "S3pHRr-MZTRa",
        "outputId": "e50c67b4-dccc-49da-e66a-d626e7ace201"
      },
      "execution_count": 48,
      "outputs": [
        {
          "output_type": "stream",
          "name": "stdout",
          "text": [
            "BST Height: 10000\n",
            "RBT Height: 24\n",
            "Height Difference: 9976\n"
          ]
        }
      ]
    },
    {
      "cell_type": "markdown",
      "source": [
        "**Explanation**\n",
        "\n",
        "A sorted list of 10,000 elements was generated and inserted into a BST and RBT. The BST height reached 10,000 degenerate linked list, while the RBT height was just 24, showcasing the self-balancing advantage of RBTs.\n",
        "\n"
      ],
      "metadata": {
        "id": "k7nER9xXZtWt"
      }
    },
    {
      "cell_type": "markdown",
      "source": [
        "**Controlled Quicksort Function Explanation:**\n",
        "The controlled quicksort function sorts a list while tracking the number of swaps performed, providing a measure of the list's \"sortedness\". It selects a pivot, partitions the array based on the pivot, and recursively sorts the partitions. This function is used to create lists with varying degrees of sortedness for experimentation.\n"
      ],
      "metadata": {
        "id": "G35_JKMubBVP"
      }
    },
    {
      "cell_type": "code",
      "source": [
        "# function to perform the partitioning step in quicksort\n",
        "def partition(arr, start, end):\n",
        "    global swap_count\n",
        "    pivot = arr[end]\n",
        "    p_index = start\n",
        "    for i in range(start, end):\n",
        "        if arr[i] <= pivot:\n",
        "            arr[i], arr[p_index] = arr[p_index], arr[i]\n",
        "            swap_count += 1\n",
        "            p_index += 1\n",
        "    arr[p_index], arr[end] = arr[end], arr[p_index]\n",
        "    swap_count += 1\n",
        "    return p_index\n",
        "\n",
        "# main function that implements controlled quicksort\n",
        "def controlled_quicksort(arr, start, end):\n",
        "    global swap_count\n",
        "    if start < end:\n",
        "        p_index = partition(arr, start, end)\n",
        "        controlled_quicksort(arr, start, p_index - 1)\n",
        "        controlled_quicksort(arr, p_index + 1, end)\n",
        "\n",
        "# example\n",
        "swap_count = 0\n",
        "sample_list = [x for x in range(1, 10001)]  # list of numbers from 1 to 10000\n",
        "random.shuffle(sample_list)  # shuffle the list to simulate unsortedness\n",
        "controlled_quicksort(sample_list, 0, len(sample_list) - 1)  # sort the list and count swaps\n",
        "\n",
        "# output the total swaps to sort the list\n",
        "print(f\"Total swaps to sort the list: {swap_count}\")\n"
      ],
      "metadata": {
        "colab": {
          "base_uri": "https://localhost:8080/"
        },
        "id": "-D5SfNIrbMxS",
        "outputId": "37e6b7b2-9574-4889-a589-d5d24afc2a49"
      },
      "execution_count": 59,
      "outputs": [
        {
          "output_type": "stream",
          "name": "stdout",
          "text": [
            "Total swaps to sort the list: 94683\n"
          ]
        }
      ]
    },
    {
      "cell_type": "markdown",
      "source": [
        "**Explanation:**\n",
        "The controlled quicksort algorithm sorts a list while tracking the number of swaps performed. By limiting the number of swaps allowed, we can generate lists with varying degrees of sortedness - from nearly sorted to completely unsorted. This helps simulate real-world scenarios where the data may not be perfectly sorted.\n",
        "\n",
        "The variation of the algorithm introduces a swap limit (swap_limit) to halt the sorting process after a specific number of swaps. This allows us to create partially sorted lists with controlled levels of unsortedness."
      ],
      "metadata": {
        "id": "GiGTxZDTbo63"
      }
    },
    {
      "cell_type": "code",
      "source": [
        "def controlled_quicksort_with_limit(arr, start, end, swap_limit):\n",
        "    global swap_count\n",
        "    if start < end and swap_count < swap_limit:\n",
        "        p_index = partition_with_limit(arr, start, end, swap_limit)\n",
        "        controlled_quicksort_with_limit(arr, start, p_index - 1, swap_limit)\n",
        "        controlled_quicksort_with_limit(arr, p_index + 1, end, swap_limit)\n",
        "\n",
        "def partition_with_limit(arr, start, end, swap_limit):\n",
        "    global swap_count\n",
        "    pivot = arr[end]\n",
        "    p_index = start\n",
        "    for i in range(start, end):\n",
        "        if arr[i] <= pivot:\n",
        "            arr[i], arr[p_index] = arr[p_index], arr[i]\n",
        "            swap_count += 1\n",
        "            if swap_count >= swap_limit:\n",
        "                return p_index\n",
        "            p_index += 1\n",
        "    arr[p_index], arr[end] = arr[end], arr[p_index]\n",
        "    swap_count += 1\n",
        "    return p_index\n",
        "\n",
        "# function to generate a list with a given degree of sortedness\n",
        "def generate_partially_sorted_list(size, swap_limit):\n",
        "    global swap_count\n",
        "    swap_count = 0\n",
        "    shuffled_list = list(range(1, size + 1))\n",
        "    random.shuffle(shuffled_list)\n",
        "    controlled_quicksort_with_limit(shuffled_list, 0, size - 1, swap_limit)\n",
        "    return shuffled_list, swap_count\n",
        "\n",
        "# example usage: generate lists with different swap limits\n",
        "swap_limits = [100, 1000, 5000, 10000, 25000, 50000, 75000]  # Swap limits to simulate different levels of sortedness\n",
        "sortedness_data = []\n",
        "\n",
        "for limit in swap_limits:\n",
        "    partial_list, swaps_used = generate_partially_sorted_list(10000, limit)\n",
        "    sortedness_data.append((limit, swaps_used, partial_list))\n",
        "\n",
        "for data in sortedness_data:\n",
        "    print(f\"Swap limit: {data[0]}, Swaps used: {data[1]}, First 10 elements: {data[2][:10]}\")\n"
      ],
      "metadata": {
        "colab": {
          "base_uri": "https://localhost:8080/"
        },
        "id": "jGzaaA03a0kU",
        "outputId": "73a6df99-e3ae-42ad-ba81-2b512f32d81e"
      },
      "execution_count": 60,
      "outputs": [
        {
          "output_type": "stream",
          "name": "stdout",
          "text": [
            "Swap limit: 100, Swaps used: 100, First 10 elements: [1942, 2343, 4335, 4775, 1474, 837, 3936, 1359, 2088, 5004]\n",
            "Swap limit: 1000, Swaps used: 1000, First 10 elements: [111, 8009, 6531, 4927, 7456, 7826, 5552, 1506, 698, 2340]\n",
            "Swap limit: 5000, Swaps used: 5000, First 10 elements: [459, 806, 628, 2222, 1194, 1469, 919, 1740, 381, 1709]\n",
            "Swap limit: 10000, Swaps used: 10000, First 10 elements: [4268, 5499, 3548, 4109, 3791, 1815, 2878, 3306, 2636, 536]\n",
            "Swap limit: 25000, Swaps used: 25000, First 10 elements: [1, 2, 3, 4, 5, 6, 7, 8, 9, 10]\n",
            "Swap limit: 50000, Swaps used: 50000, First 10 elements: [1, 2, 3, 4, 5, 6, 7, 8, 9, 10]\n",
            "Swap limit: 75000, Swaps used: 75000, First 10 elements: [1, 2, 3, 4, 5, 6, 7, 8, 9, 10]\n"
          ]
        }
      ]
    },
    {
      "cell_type": "markdown",
      "source": [
        "**Explanation:** The controlled quicksort algorithm can be modified to halt after a set number of swaps, allowing the generation of lists with varying degrees of sortedness. This helps simulate real-world scenarios where data may not be perfectly sorted or unsorted.\n"
      ],
      "metadata": {
        "id": "83IcR5mfbwE-"
      }
    },
    {
      "cell_type": "code",
      "source": [
        "#  BSTInsertIterative and BSTHeightIterative are already defined previously\n",
        "\n",
        "# function to insert elements into a BST and return its height\n",
        "def insert_and_get_height_bst(list_to_insert):\n",
        "    bst_root = None\n",
        "    for value in list_to_insert:\n",
        "        bst_root = BSTInsertIterative(bst_root, value)\n",
        "    return BSTHeightIterative(bst_root)\n",
        "\n",
        "# function to insert elements into an RBT and return its height\n",
        "def insert_and_get_height_rbt(list_to_insert):\n",
        "    rbt = RBTree()\n",
        "    for value in list_to_insert:\n",
        "        rbt.insert(value)\n",
        "    return rbt.get_height()\n",
        "\n",
        "# recording heights for each degree of sortedness\n",
        "heights_data = []\n",
        "for data in sortedness_data:\n",
        "    swap_limit, swaps_used, partial_list = data\n",
        "    bst_height = insert_and_get_height_bst(partial_list)\n",
        "    rbt_height = insert_and_get_height_rbt(partial_list)\n",
        "    heights_data.append((swap_limit, swaps_used, bst_height, rbt_height))\n",
        "\n",
        "# displaying the collected data\n",
        "for height_data in heights_data:\n",
        "    print(f\"Swap limit: {height_data[0]}, Swaps used: {height_data[1]}, BST Height: {height_data[2]}, RBT Height: {height_data[3]}\")\n"
      ],
      "metadata": {
        "colab": {
          "base_uri": "https://localhost:8080/"
        },
        "id": "bwPNuqPob6SC",
        "outputId": "6f305d6f-321b-4d32-dce2-8f4bcd999758"
      },
      "execution_count": 61,
      "outputs": [
        {
          "output_type": "stream",
          "name": "stdout",
          "text": [
            "Swap limit: 100, Swaps used: 100, BST Height: 35, RBT Height: 16\n",
            "Swap limit: 1000, Swaps used: 1000, BST Height: 32, RBT Height: 16\n",
            "Swap limit: 5000, Swaps used: 5000, BST Height: 43, RBT Height: 17\n",
            "Swap limit: 10000, Swaps used: 10000, BST Height: 40, RBT Height: 17\n",
            "Swap limit: 25000, Swaps used: 25000, BST Height: 2893, RBT Height: 21\n",
            "Swap limit: 50000, Swaps used: 50000, BST Height: 4632, RBT Height: 22\n",
            "Swap limit: 75000, Swaps used: 75000, BST Height: 9130, RBT Height: 24\n"
          ]
        }
      ]
    },
    {
      "cell_type": "markdown",
      "source": [
        "**Explanation:** The partially sorted lists were inserted into both BST and RBT, recording their respective heights. The data showed the divergence in heights between the two tree types as the degree of sortedness increased.\n",
        "\n"
      ],
      "metadata": {
        "id": "f9gMT8YHirz7"
      }
    },
    {
      "cell_type": "markdown",
      "source": [
        "**Plotting the Data**"
      ],
      "metadata": {
        "id": "iLXKhw8Uiv_U"
      }
    },
    {
      "cell_type": "code",
      "source": [
        "import matplotlib.pyplot as plt\n",
        "\n",
        "# Extracting data for plotting\n",
        "swap_limits, swaps_used, bst_heights, rbt_heights = zip(*[(d[0], d[1], d[2], d[3]) for d in heights_data])\n",
        "\n",
        "# Plotting\n",
        "plt.figure(figsize=(12, 8))\n",
        "plt.plot(swap_limits, bst_heights, label='BST Heights', marker='o')\n",
        "plt.plot(swap_limits, rbt_heights, label='RBT Heights', marker='x')\n",
        "plt.title('Impact of Sortedness on Tree Heights')\n",
        "plt.xlabel('Swap Limit (Degree of Sortedness)')\n",
        "plt.ylabel('Tree Height')\n",
        "plt.legend()\n",
        "plt.grid(True)\n",
        "plt.show()\n"
      ],
      "metadata": {
        "colab": {
          "base_uri": "https://localhost:8080/",
          "height": 522
        },
        "id": "oYklt171cO2P",
        "outputId": "62fbdeb7-30d5-4f20-8bcc-824b0b54ad8f"
      },
      "execution_count": 62,
      "outputs": [
        {
          "output_type": "display_data",
          "data": {
            "text/plain": [
              "<Figure size 1200x800 with 1 Axes>"
            ],
            "image/png": "[encoded data removed]"
          },
          "metadata": {}
        }
      ]
    },
    {
      "cell_type": "markdown",
      "source": [
        "**Explanation:** The code plots the BST and RBT heights against the swap limit (degree of sortedness). The graph shows BST height increasing steeply as data becomes more sorted, while RBT height remains relatively low and stable.\n",
        "\n"
      ],
      "metadata": {
        "id": "fpZJWSn5jaSm"
      }
    },
    {
      "cell_type": "markdown",
      "source": [
        "**Reflection**\n",
        "\n",
        "The experiment showed BST height increasing dramatically with more sorted data, as BSTs degenerate into linked lists without self-balancing. In contrast, RBT height remained relatively low and stable due to self-balancing, ensuring O(log n) height even for sorted data.\n",
        "\n",
        "The findings highlight the importance of using self-balancing trees like RBTs when dealing with potentially sorted data, to maintain efficient operations and prevent performance degradation seen in unbalanced BSTs.\n",
        "\n",
        "RBTs are the better choice when data sortedness is unpredictable, as they provide consistent performance. Further exploration of other self-balancing tree structures under similar conditions could be insightful.\n"
      ],
      "metadata": {
        "id": "0siFTmINdXh4"
      }
    }
  ]
}