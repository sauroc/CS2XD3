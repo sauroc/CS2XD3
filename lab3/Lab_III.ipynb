{
  "cells": [
    {
      "cell_type": "markdown",
      "metadata": {
        "id": "x47I8ITCpV81"
      },
      "source": [
        "# Computer Science 2XC3 - Graded Lab II"
      ]
    },
    {
      "cell_type": "markdown",
      "metadata": {
        "id": "CspBEPJdpV82"
      },
      "source": [
        "Please refer to the pdf for detailed instructions. The below file contains all the preliminary code you will need to work on the lab. You can copy paste instructions here to create one cohesive lab and organize it that best suits your teams workflow."
      ]
    },
    {
      "cell_type": "code",
      "execution_count": 2,
      "metadata": {
        "id": "2jDuBWTqpV83"
      },
      "outputs": [],
      "source": [
        "import random\n",
        "import timeit\n",
        "import matplotlib.pyplot as plt\n",
        "import numpy as np\n",
        "import math"
      ]
    },
    {
      "cell_type": "markdown",
      "metadata": {},
      "source": [
        "Part 1: In class, we discussed a simple implementation of the undirected and non-weighted version of the graph. We also talked about the directed graph implementation where both the path between \"src\" and \"dst\" nodes is stored. We will also discuss how to search if a node exists in a graph using Breadth First Search (BFS) and Depth First Search (DFS). Using these techniques, the functions we discussed return True if the path exists between 2 nodes, otherwise it returns false. \n",
        "\n",
        "The implementation is limiting since not much can be accomplished with True and False. In this lab, implement two variations of BFS and DFS."
      ]
    },
    {
      "cell_type": "code",
      "execution_count": 3,
      "metadata": {
        "id": "ng0jIiPvpV84"
      },
      "outputs": [],
      "source": [
        "class GraphI:\n",
        "\n",
        "    # using hash map\n",
        "    def __init__(self, edges):\n",
        "        self.graph = {}\n",
        "        for x,y in edges:\n",
        "            if x not in self.graph.keys():\n",
        "                self.graph[x]=[]\n",
        "            self.graph[x].append(y)\n",
        "\n",
        "    def has_edge(self, src, dst):\n",
        "        return src in self.graph[dst]\n",
        "\n",
        "    def get_graph_size(self,):\n",
        "        return len(self.graph)\n",
        "\n",
        "    def get_graph(self,):\n",
        "        return self.graph"
      ]
    },
    {
      "cell_type": "code",
      "execution_count": 4,
      "metadata": {
        "id": "ekvNIaz-pV85"
      },
      "outputs": [],
      "source": [
        "class GraphII:\n",
        "\n",
        "    # using adjacency list\n",
        "    def __init__(self, nodes):\n",
        "        self.graph = []\n",
        "        # node numbered 0-1\n",
        "        for node in range(nodes):\n",
        "            self.graph.append([])\n",
        "\n",
        "    def has_edge(self, src, dst):\n",
        "        return src in self.graph[dst]\n",
        "\n",
        "    def add_edge(self,src,dst):\n",
        "        if not self.has_edge(src,dst):\n",
        "            self.graph[src].append(dst)\n",
        "            self.graph[dst].append(src)\n",
        "\n",
        "    def get_graph(self,):\n",
        "        return self.graph"
      ]
    },
    {
      "cell_type": "code",
      "execution_count": 98,
      "metadata": {
        "id": "gdlyFSfHpV86"
      },
      "outputs": [],
      "source": [
        "def depth_first_search(G,node,end_point=None):\n",
        "    stack = [node]\n",
        "    graph = G.get_graph()\n",
        "    seen=set()\n",
        "\n",
        "    while len(stack) !=0:\n",
        "        node = stack.pop()\n",
        "        # search for neighbours in graph\n",
        "        if node not in seen:\n",
        "            seen.add(node)\n",
        "            #print(\"Visited node:\" + str(node))\n",
        "            # if the given node has an edge\n",
        "            if node in graph.keys():\n",
        "                # iterate over edges of node\n",
        "                for nn in graph[node]:\n",
        "\n",
        "                    # limited traversal\n",
        "                    if nn == end_point:\n",
        "                        return True\n",
        "                    # add to stack\n",
        "                    stack.append(nn)"
      ]
    },
    {
      "cell_type": "code",
      "execution_count": 99,
      "metadata": {
        "id": "0AmAIiRVpV87"
      },
      "outputs": [],
      "source": [
        "#Breadth First Search\n",
        "def breadth_first_search(G, node):\n",
        "    stack = [node]\n",
        "    graph = G.get_graph()\n",
        "    seen=set()\n",
        "\n",
        "    seen.add(node)\n",
        "\n",
        "    while len(stack) > 0:\n",
        "        node = stack[0]\n",
        "        stack = stack[1:]\n",
        "        #print(\"Visiting node: \" + str(node))\n",
        "        if node in graph.keys():\n",
        "            for nn in graph[node]:\n",
        "                #if node == node2:\n",
        "                #    return True\n",
        "                if nn not in seen:\n",
        "                    stack.append(nn)\n",
        "                    seen.add(nn)"
      ]
    },
    {
      "cell_type": "markdown",
      "metadata": {},
      "source": [
        "Part 1.1: Implement BFS2 and DFS2 where the path between two nodes node1 and node2 is returned as a\n",
        "list. For instance, in a graph, if to reach node 8 from node 6, one needs to traverse the path starting at 6 to\n",
        "23, to 12, then to 5, then to 10, and finally to 8, your function BFS2(graph, 6,8) (or DFS2(graph, 6,8) )\n",
        "should return a list [6,23,12,5,10,8]. Implement both BFS2 and DFS2 for this variation."
      ]
    },
    {
      "cell_type": "code",
      "execution_count": 100,
      "metadata": {
        "id": "EjwYbzYrqxbO"
      },
      "outputs": [],
      "source": [
        "# Using the given BFS code and modifying it\n",
        "\n",
        "def bfs_2(G, src, dst):\n",
        "\n",
        "    path_list = []\n",
        "\n",
        "    stack = [src]\n",
        "    graph = G.get_graph()\n",
        "    seen = set()\n",
        "\n",
        "    seen.add(src)\n",
        "\n",
        "    path_list.append(src)\n",
        "\n",
        "    while len(stack) > 0:\n",
        "        node = stack[0]\n",
        "        stack = stack[1:]\n",
        "        # print(\"Visiting node: \" + str(node))\n",
        "\n",
        "        # Append node to new list if it hasn't been visited before\n",
        "        if node not in path_list:\n",
        "            path_list.append(node)\n",
        "            # Return the list of nodes visited if the destination node is reached\n",
        "            if node == dst:\n",
        "                return path_list\n",
        "\n",
        "        if node in graph.keys():\n",
        "            for new_node in graph[node]:\n",
        "                if new_node not in seen:\n",
        "                    stack.append(new_node)\n",
        "                    seen.add(new_node)\n",
        "    return path_list\n",
        "\n",
        "# Testing\n",
        "# test_graph = GraphI([[0, 1], [1, 5], [1, 6], [5, 3], [5, 2], [5, 6], [6, 4], [6, 7]])\n",
        "# test_graph.get_graph()\n",
        "# # 0, 1, 5, 6, 2, 3, 4, 7\n",
        "# bfs_2(test_graph, 0, 2)"
      ]
    },
    {
      "cell_type": "code",
      "execution_count": 101,
      "metadata": {
        "id": "LJT5CZ6brFfl"
      },
      "outputs": [],
      "source": [
        "# Using the given DFS code and modifying it\n",
        "\n",
        "def dfs_2(G, src, dst, end_point=None):\n",
        "    stack = [src]\n",
        "    path_list = []\n",
        "    graph = G.get_graph()\n",
        "    seen = set()\n",
        "\n",
        "\n",
        "\n",
        "    while len(stack) != 0:\n",
        "        node = stack.pop()\n",
        "\n",
        "        if node not in seen:\n",
        "            seen.add(node)\n",
        "            # print(\"Visited node: \" + str(node))\n",
        "\n",
        "            # Check if the visited node is already in path_list, and append it if not\n",
        "            if node not in path_list:\n",
        "                path_list.append(node)\n",
        "                if node == dst:\n",
        "                    return path_list\n",
        "\n",
        "            if node in graph.keys():\n",
        "                for new_node in graph[node]:\n",
        "                    # Due to the given algorithm's limited implementation, it's possible for a dst node to be given that is in the graph but unreachable by the algorithm\n",
        "                    if new_node == end_point:\n",
        "                        return True\n",
        "                    stack.append(new_node)\n",
        "\n",
        "# Testing\n",
        "# test_graph = GraphI([[1, 2], [2, 6], [6, 5], [6, 4]])\n",
        "# dfs_2(test_graph, 2, 4)"
      ]
    },
    {
      "cell_type": "markdown",
      "metadata": {},
      "source": [
        "Part 1.2:  In some applications, we need to find connections from a given node to all nodes. Think about\n",
        "how one might find recommendations for possible connections on social media platforms. In this\n",
        "variation implement BFS3 and DFS3 which take as an input 1 node and return paths to every other node\n",
        "(note that this is different from all paths between all nodes. Your goal is to find a path to a node). These\n",
        "paths should be returned as a “predecessor dictionary”. Predecessor dictionary contains the key as the\n",
        "node and the value as the predecessor node. For example, for the following graph, your implementation of\n",
        "BFS3(graph, 1) will return the predecessor dictionary as: {2 : 1, 3 : 1, 4 : 2, 5 : 3, 6 : 4}"
      ]
    },
    {
      "cell_type": "code",
      "execution_count": 5,
      "metadata": {
        "colab": {
          "base_uri": "https://localhost:8080/"
        },
        "id": "Hg4SrsYarIXM",
        "outputId": "bb245453-7485-4cf4-85a6-7a47b4f405af"
      },
      "outputs": [],
      "source": [
        "#Using the given Breadth First Search algorithm and modifying it\n",
        "def bfs_3(G, node):\n",
        "    # Initializing predecessor dictionary\n",
        "    pred_dict = {}\n",
        "    graph = G.get_graph()\n",
        "\n",
        "    stack = [node]\n",
        "    seen=set()\n",
        "\n",
        "    seen.add(node)\n",
        "\n",
        "\n",
        "    while len(stack) > 0:\n",
        "\n",
        "        node = stack[0]\n",
        "        stack = stack[1:]\n",
        "        print(\"Visiting node: \" + str(node))\n",
        "\n",
        "\n",
        "        if node in graph.keys():\n",
        "            for new_node in graph[node]:\n",
        "\n",
        "                #if node == node2:\n",
        "                #    return True\n",
        "                if new_node not in seen:\n",
        "                    # If this node is new, it can be updated with the current node that's being iterated over\n",
        "                    pred_dict[new_node] = node\n",
        "                    stack.append(new_node)\n",
        "                    seen.add(new_node)\n",
        "\n",
        "    return pred_dict\n",
        "\n",
        "# Testing\n",
        "# test_graph = GraphI([[1, 2], [1, 3], [2, 4], [3, 4], [3, 5], [4, 5], [4, 6]])\n",
        "# test_graph.get_graph()\n",
        "# bfs_3(test_graph, 1)"
      ]
    },
    {
      "cell_type": "code",
      "execution_count": 103,
      "metadata": {
        "id": "-6Wt2R12rMQJ"
      },
      "outputs": [],
      "source": [
        "# Using the given Depth First Search Algorithm and modifying it\n",
        "def dfs_3(G,node,end_point=None):\n",
        "    # Initializing predecessor dictionary\n",
        "    pred_dict = {}\n",
        "    stack = [node]\n",
        "    graph = G.get_graph()\n",
        "    seen=set()\n",
        "\n",
        "\n",
        "    while len(stack) !=0:\n",
        "        node = stack.pop()\n",
        "        # search for neighbours in graph\n",
        "        if node not in seen:\n",
        "            seen.add(node)\n",
        "            #print(\"Visited node:\" + str(node))\n",
        "            # if the given node has an edge\n",
        "            if node in graph.keys():\n",
        "                # iterate over edges of node\n",
        "                for new_node in graph[node]:\n",
        "                    # Similar to bfs_3 implementation:\n",
        "                    if new_node not in pred_dict:\n",
        "                        pred_dict[new_node] = node\n",
        "                    # limited traversal\n",
        "                    if new_node == end_point:\n",
        "                        return True\n",
        "                    # add to stack\n",
        "                    stack.append(new_node)\n",
        "\n",
        "    return pred_dict\n",
        "\n",
        "# Testing\n",
        "# test_graph = GraphI([[1, 2], [1, 3], [2, 4], [3, 4], [3, 5], [4, 5], [4, 6]])\n",
        "# test_graph.get_graph()\n",
        "# {1: [2, 3], 2: [4], 3: [4, 5], 4: [6], 5: [4]}\n",
        "\n",
        "# dfs_3(test_graph, 1)"
      ]
    },
    {
      "cell_type": "markdown",
      "metadata": {},
      "source": [
        "Part 1.3: Implement a function in the graph class called has_cycle( ) that computes and returns True if\n",
        "the graph has a cycle."
      ]
    },
    {
      "cell_type": "code",
      "execution_count": 104,
      "metadata": {
        "id": "2uRUD1o1rQFM"
      },
      "outputs": [],
      "source": [
        "# Since the depth_first_search algorithm given in the lab has a default \"endpoint\" parameter,\n",
        "# We can use the DFS function on the node to see if there is a reachable path from that same node\n",
        "def has_cycle(G):\n",
        "    graph = G.get_graph()\n",
        "\n",
        "    # Iterate through each node, calling the given DFS with the startpoint and endpoint parameter as that node\n",
        "    for node in graph:\n",
        "        result = depth_first_search(G, node, node)\n",
        "        if result == True:\n",
        "            return True\n",
        "\n",
        "    # If all nodes in the graph return false from the DFS, it must mean that no cycles exist\n",
        "    return False\n",
        "\n",
        "# Testing\n",
        "# test_graph = GraphI([[0, 1], [1, 2], [2, 3]])\n",
        "# has_cycle(test_graph)\n",
        "\n",
        "# test_graph = GraphI([[0, 1], [1, 2], [2, 0], [2, 3]])\n",
        "# has_cycle(test_graph)"
      ]
    },
    {
      "cell_type": "markdown",
      "metadata": {},
      "source": [
        "Part 1.4: Implement a function in graph class called is_connected( ) that computes and returns True if\n",
        "there is a path between two nodes. Note that this is different from what we discussed in class ( has_edge()\n",
        "). While has_edge finds whether an edge exists between two nodes, is_connected finds whether there is a\n",
        "path between two nodes.\n",
        "Feel free to use any part of the code here."
      ]
    },
    {
      "cell_type": "code",
      "execution_count": 105,
      "metadata": {
        "id": "YUt4g9eJrTNN"
      },
      "outputs": [],
      "source": [
        "# Similar to Part 1.3, we can run DFS to check if a path can be found between the given startpoint and endpoint\n",
        "def is_connected(G, startpoint, endpoint):\n",
        "    graph = G.get_graph()\n",
        "\n",
        "    for node in graph:\n",
        "        value = depth_first_search(G, startpoint, endpoint)\n",
        "        if value == True:\n",
        "            return True\n",
        "\n",
        "    return False\n",
        "\n",
        "# Testing: Used graph example from Part 1.2, except added some disconnected nodes\n",
        "# test_graph = GraphI([[1, 2], [1, 3], [2, 4], [3, 4], [3, 5], [4, 5], [4, 6], [7, 8]])\n",
        "# is_connected(test_graph, 1, 8)"
      ]
    },
    {
      "cell_type": "markdown",
      "metadata": {},
      "source": [
        "Part 1.5: In the previous lab we conducted a few experiments using a random list generator that I\n",
        "provided. What would that look like for a graph? To experiment with graphs, you want to be able to\n",
        "generate random graphs. Write a function to do so. The way to approach this is to think about the\n",
        "essential elements of the graph nodes (n) and edges (e). So when you call the function\n",
        "create_random_graph(n,e), it should create a random layout with only a single edge between two nodes."
      ]
    },
    {
      "cell_type": "code",
      "execution_count": 106,
      "metadata": {
        "id": "G0Qbd-4grVzn"
      },
      "outputs": [],
      "source": [
        "import random\n",
        "\n",
        "def random_graph(num_nodes: int, num_edges: int):\n",
        "    # Create a list for edges of the graph\n",
        "    random_edges = []\n",
        "\n",
        "    # Using a count variable to ensure the correct number of edges are added with no duplicates\n",
        "    count = 0\n",
        "\n",
        "    while count != num_edges:\n",
        "        # Generating random nodes\n",
        "        node_1 = random.randint(0, num_nodes)\n",
        "        node_2 = random.randint(0, num_nodes)\n",
        "\n",
        "        # Checking for duplicates\n",
        "        # There can only be a single edge between two nodes, so I need to check both combinations of nodes being an edge\n",
        "        # The nodes can also not be the same\n",
        "        if node_1 != node_2 and [node_1, node_2] not in random_edges and [node_2, node_1] not in random_edges:\n",
        "            random_edges.append([node_1, node_2])\n",
        "            # Count only increments if the edge is valid\n",
        "            count += 1\n",
        "\n",
        "\n",
        "    random_graph = GraphI(random_edges)\n",
        "    return random_graph\n",
        "\n",
        "# Testing\n",
        "# test = random_graph(20, 20)\n",
        "# test\n",
        "# test.get_graph()"
      ]
    },
    {
      "cell_type": "markdown",
      "metadata": {},
      "source": [
        "Part 1.6: By now, you should have a good understanding of how to design an experiment to answer a question. In this part, design an experiment to compute the probability of a graph having a cycle, when you generate a random graph with n nodes and e edges. This is an open-ended question so think about how you would design the experiment.\n",
        "\n",
        "HINT: Create a sufficiently large number of graphs using a fixed number of nodes (or edges??). Compute for each graph, whether or not it has a cycle (you have already written this function in the previous section). Then calculate what proportion of the random graphs had cycles.\n",
        "\n",
        "As usual, there are multiple ways you can approach this problem, so be creative. In your reflection, describe your experiment design, the number of iterations you ran, why you chose a specific experiment design etc. You can run this experiment multiple times and your graph should show the probability computed in each iteration. "
      ]
    },
    {
      "cell_type": "code",
      "execution_count": 107,
      "metadata": {
        "id": "lSgtB-3v0Xcm"
      },
      "outputs": [],
      "source": [
        "def draw_show_plot(run_arr):\n",
        "    x = np.arange(0, len(run_arr), 1)\n",
        "    fig = plt.figure(figsize = (20,8))\n",
        "    plt.bar(x,run_arr)\n",
        "    plt.axhline(np.mean(run_arr), color = \"red\", linestyle=\"--\", label = \"Avg\")\n",
        "    plt.xlabel(\"Test #\")\n",
        "    plt.ylabel(\"Probability\")\n",
        "    plt.title(\"Probability\")\n",
        "    plt.show()"
      ]
    },
    {
      "cell_type": "code",
      "execution_count": 108,
      "metadata": {
        "colab": {
          "base_uri": "https://localhost:8080/",
          "height": 718
        },
        "id": "2YWAJxIsrqxT",
        "outputId": "c864c6f4-7229-4c1d-ee3b-f9afaee80674"
      },
      "outputs": [
        {
          "data": {
            "image/png": "[encoded data removed]",
            "text/plain": [
              "<Figure size 2000x800 with 1 Axes>"
            ]
          },
          "metadata": {},
          "output_type": "display_data"
        }
      ],
      "source": [
        "#1.6\n",
        "#run the experiment 50 times (50 graphs will be tested, 50 times) each graph will have 20 nodes and 20 edges\n",
        "runs = 50\n",
        "\n",
        "#store the 50 probabilities in this list to make into a graph after\n",
        "probabilities = []\n",
        "\n",
        "for _ in range(runs):\n",
        "  #x will be tracking how many graphs had cycles\n",
        "  x = 0\n",
        "\n",
        "  for _ in range(runs):\n",
        "    G = random_graph(20, 20)\n",
        "    cycle = has_cycle(G)\n",
        "    if cycle:\n",
        "      x += 1\n",
        "\n",
        "  # print(\"The probability is\", x, \"/ 50 or\", x/50)\n",
        "  probabilities.append(x/50)\n",
        "draw_show_plot(probabilities)\n",
        "\n"
      ]
    },
    {
      "cell_type": "markdown",
      "metadata": {
        "id": "sTnIjQnl9M6D"
      },
      "source": [
        "Reflection:\n",
        "\n",
        "- The experiment design:\n",
        "  - 50 times, a random graph is created with 20 nodes and 20 edges, and for each graph it's checked whether or not there's a cycle. At the end, the total number of graphs with cycles out of 50 is stored as the probability, and then the overall experiment is repeated 50 times to get 50 probabilities.\n",
        "\n",
        "- In terms of iterations, as mentioned above the probability is found out of 50 graphs, and the probability is then found 50 times as it gives enough results to see what the average probability really is.\n",
        "\n",
        "- This experiment design was chosen to ensure that enough graphs are tested and the experiment is repeated enough times to find a more accurate average probability.\n",
        "\n",
        "- In this case the average probability of having a cycle in a random graph seems to be 0.36, which is around 18/50 graphs."
      ]
    },
    {
      "cell_type": "markdown",
      "metadata": {},
      "source": [
        "Part 1.7: Similar to Part 1.6 design an experiment to compute the probability of a graph being connected when you generate a random graph with n nodes and e edges. Again, you can use a similar strategy and describe in your reflection your experiment design, and number of experiments and justify your choices."
      ]
    },
    {
      "cell_type": "code",
      "execution_count": 110,
      "metadata": {
        "colab": {
          "base_uri": "https://localhost:8080/",
          "height": 718
        },
        "id": "rjDb4uuS1XcQ",
        "outputId": "21c24d26-5424-468f-9320-224b6a583ed0"
      },
      "outputs": [
        {
          "data": {
            "image/png": "[encoded data removed]",
            "text/plain": [
              "<Figure size 2000x800 with 1 Axes>"
            ]
          },
          "metadata": {},
          "output_type": "display_data"
        }
      ],
      "source": [
        "#1.7\n",
        "#similar to 1.6 but using is_connected() instead of has_cycle(), and two random start and end points will be tested for each graph\n",
        "#run the experiment 50 times (50 graphs will be tested, 50 times) each graph will have 20 nodes and 20 edges\n",
        "runs = 50\n",
        "\n",
        "#store the 50 probabilities in this list to make into a graph after\n",
        "probabilities = []\n",
        "\n",
        "for _ in range(runs):\n",
        "  #x will be tracking how many graphs had cycles\n",
        "  x = 0\n",
        "\n",
        "  for _ in range(runs):\n",
        "    start = []\n",
        "    end = []\n",
        "\n",
        "    G = random_graph(20, 20)\n",
        "\n",
        "    graph = G.get_graph()\n",
        "    #print(graph)\n",
        "    #randomly generate integer within length of G\n",
        "    #go through the keys until finding the one at the random index (for the start point, then repeat for end point)\n",
        "    num = random.randint(0, len(graph)-1)\n",
        "    j = 0\n",
        "    for i in graph.keys():\n",
        "      if j == num:\n",
        "        start = i\n",
        "        break\n",
        "      j += 1\n",
        "\n",
        "    num = random.randint(0, len(graph)-1)\n",
        "    j = 0\n",
        "    for i in graph.keys():\n",
        "      if j == num:\n",
        "        end = i\n",
        "        break\n",
        "      j += 1\n",
        "\n",
        "    #print(start, end, is_connected(G, start, end))\n",
        "    connected = is_connected(G, start, end)\n",
        "    if connected:\n",
        "      x += 1\n",
        "\n",
        "  # print(\"The probability is\", x, \"/ 50 or\", x/50)\n",
        "  probabilities.append(x/50)\n",
        "draw_show_plot(probabilities)\n"
      ]
    },
    {
      "cell_type": "markdown",
      "metadata": {
        "id": "vriOzNshEO1L"
      },
      "source": [
        "Reflection:\n",
        "\n",
        "- The experiment design:\n",
        "\n",
        "  - 50 random graphs with 20 nodes and 20 edges are created, and since is_connected() needs a start and end point as well, a random start node and end node is selected for each graph.\n",
        "\n",
        "  - The number of these 50 graphs that were connected is stored out of 50, and then this overall experiment is repeated 50 times to end with 50 probabilities.\n",
        "\n",
        "- This experiment has 50 iterations per probability calculation, and 50 probabilities are found, and this design was chosen to ensure that enough graphs are tested and enough probabilities are found that the average at the end is more accurate.\n",
        "\n",
        "- The results for this experiment show that the average probability of a random graph with 20 nodes and 20 edges being connected is around 0.21, which is around 10/50 graphs."
      ]
    },
    {
      "cell_type": "markdown",
      "metadata": {},
      "source": [
        "\n",
        "Part 2: Computing minimum vertex cover is a basic combinatorial optimization problem where the goal is to determine a minimum subset of vertices that cover all edges. The jupyter notebook contains a function to compute the minimum vertex cover for an undirected graph. It works for graphs for small node sizes (<30). Implement 3 different approximation algorithms for the Vertex Cover Problem."
      ]
    },
    {
      "cell_type": "code",
      "execution_count": null,
      "metadata": {
        "id": "BCRu30IGpV87"
      },
      "outputs": [],
      "source": [
        "#Use the methods below to determine minimum vertex covers\n",
        "\n",
        "def add_to_each(sets, element):\n",
        "    copy = sets.copy()\n",
        "    for set in copy:\n",
        "        set.append(element)\n",
        "    return copy\n",
        "\n",
        "def power_set(set):\n",
        "    if set == []:\n",
        "        return [[]]\n",
        "    return power_set(set[1:]) + add_to_each(power_set(set[1:]), set[0])\n",
        "\n",
        "def is_vertex_cover(G, C):\n",
        "    for start in G.adj:\n",
        "        for end in G.adj[start]:\n",
        "            if not(start in C or end in C):\n",
        "                return False\n",
        "    return True\n",
        "\n",
        "def MVC(G):\n",
        "    nodes = [i for i in range(G.get_size())]\n",
        "    subsets = power_set(nodes)\n",
        "    min_cover = nodes\n",
        "    for subset in subsets:\n",
        "        if is_vertex_cover(G, subset):\n",
        "            if len(subset) < len(min_cover):\n",
        "                min_cover = subset\n",
        "    return min_cover\n"
      ]
    },
    {
      "cell_type": "code",
      "execution_count": 6,
      "metadata": {},
      "outputs": [],
      "source": [
        "# checking for vertex cover where graph is using hash map (GraphI)\n",
        "def is_vertex_cover_hm(graph, C):\n",
        "  G = graph.get_graph()\n",
        "\n",
        "  for node in C:\n",
        "    for n, edges in G.items():\n",
        "        if node in edges:\n",
        "            G[n].remove(node)\n",
        "\n",
        "\n",
        "  for node in C:\n",
        "      G[node]=[]\n",
        "\n",
        "\n",
        "  is_vc = True\n",
        "\n",
        "  for node,edges in G.items():\n",
        "    if len(edges) != 0:\n",
        "      is_vc = False\n",
        "      break\n",
        "\n",
        "  return is_vc"
      ]
    },
    {
      "cell_type": "markdown",
      "metadata": {},
      "source": [
        "Part 2.1: Approx1 (graph) takes in an object of Graph and does the following:\n",
        "1. Start with an empty set C = {}\n",
        "2. Find the vertex with the highest degree in G, call this vertex v\n",
        "3. Add v to C\n",
        "4. Remove all edges incident to node v from G\n",
        "5. If C is a Vertex Cover return C, else go to Step 2"
      ]
    },
    {
      "cell_type": "code",
      "execution_count": 7,
      "metadata": {},
      "outputs": [],
      "source": [
        "#Part 2.1\n",
        "def approx1(G):\n",
        "  working_copy = {}\n",
        "  graph = G.get_graph()\n",
        "\n",
        "  #make a copy of the graph\n",
        "  for node, edges in graph.items():\n",
        "    working_copy[node] = edges\n",
        "\n",
        "  #empty set C\n",
        "  C = []\n",
        "  highest = 0\n",
        "  #v is the vertex of highest degree\n",
        "  v = []\n",
        "\n",
        "\n",
        "  while True:\n",
        "      #find the vertex with the highest degree in G and store in v\n",
        "      for node, edges in working_copy.items():\n",
        "          #if the current node has more edges than highest, set v equal to the current node\n",
        "          #this will result in the node with the highest degree\n",
        "          if len(edges) > highest:\n",
        "              highest = len(edges)\n",
        "              v = node\n",
        "\n",
        "      highest = 0\n",
        "      #add v to C\n",
        "      C.append(v)\n",
        "\n",
        "      #remove all edges incident to node v from G (working_copy)\n",
        "      if v in working_copy.keys():\n",
        "          working_copy[v] = []\n",
        "\n",
        "      #remove v from values of other nodes (assume that the graph is undirected)\n",
        "      for vals in working_copy.values():\n",
        "          if v in vals:\n",
        "              vals.remove(v)\n",
        "\n",
        "      #check if C is a vertex cover:\n",
        "      if is_vertex_cover_hm(G, C):\n",
        "          break\n",
        "\n",
        "  return C\n",
        "\n",
        "# graph = GraphI([['A', 'C'], ['C', 'B'], ['A', 'E'], ['C', 'G'], ['E', 'H'], ['H', 'D']])\n",
        "# print(graph.get_graph())\n",
        "# print(approx1(graph))\n",
        "\n",
        "# print(\"\\n\")\n",
        "\n",
        "# graph2 = GraphI([['A', 'C'], ['C', 'B'], ['A', 'E'], ['C', 'G'], ['E', 'H'], ['H', 'D'], ['C', 'A']])\n",
        "# print(graph2.get_graph())\n",
        "# print(approx1(graph2))\n",
        "\n",
        "# print(\"\\n\")\n",
        "# graph3 = GraphI([['A', 'C'], ['C', 'B'], ['A', 'E'], ['C', 'G'], ['E', 'H'], ['H', 'D'], ['F', 'E'], ['F', 'G']])\n",
        "# print(graph3.get_graph())\n",
        "# print(approx1(graph3))\n"
      ]
    },
    {
      "cell_type": "markdown",
      "metadata": {},
      "source": [
        "Part 2.2: Approx2(graph) takes as an input, an object of Graph and does the following:\n",
        "1. Start with an empty set C = {}\n",
        "2. Select a vertex randomly from G which is not already C, call this vertex v\n",
        "3. Add v to C\n",
        "4. If C is a Vertex Cover return C, else go to Step 2"
      ]
    },
    {
      "cell_type": "code",
      "execution_count": 8,
      "metadata": {},
      "outputs": [],
      "source": [
        "#Part 2.2\n",
        "def approx2(G):\n",
        "  working_copy = {}\n",
        "  graph = G.get_graph()\n",
        "\n",
        "  #make a copy of the graph\n",
        "  for node, edges in graph.items():\n",
        "    working_copy[node] = edges\n",
        "\n",
        "  #empty set C\n",
        "  C = []\n",
        "\n",
        "  while True:\n",
        "    v = []\n",
        "\n",
        "    #select a vertex randomly from G which is not already in C, call this vertex v:\n",
        "    #randomly generate integer within length of G\n",
        "    #go through the keys until finding the one at the random index\n",
        "    while True:\n",
        "      num = random.randint(0, len(graph)-1)\n",
        "      j = 0\n",
        "\n",
        "      for i in working_copy.keys():\n",
        "        if j == num:\n",
        "          v = i\n",
        "          break\n",
        "        j += 1\n",
        "\n",
        "    #if the random vertex isn't in C, then break to add to C, otherwise keep finding new random vertices until it's not in C\n",
        "      if v not in C:\n",
        "        break\n",
        "\n",
        "\n",
        "    #Add v to C\n",
        "    C.append(v)\n",
        "\n",
        "    #If C is a Vertex Cover return C, otherwise repeat above\n",
        "    if is_vertex_cover_hm(G, C):\n",
        "      break\n",
        "\n",
        "  return C\n",
        "\n",
        "# graph = GraphI([['A', 'C'], ['C', 'B'], ['A', 'E'], ['C', 'G'], ['E', 'H'], ['H', 'D']])\n",
        "# print(graph.get_graph())\n",
        "# print(approx2(graph))\n",
        "\n",
        "# print(\"\\n\")\n",
        "\n",
        "# graph2 = GraphI([['A', 'C'], ['C', 'B'], ['A', 'E'], ['C', 'G'], ['E', 'H'], ['H', 'D'], ['C', 'A']])\n",
        "# print(graph2.get_graph())\n",
        "# print(approx2(graph2))\n",
        "\n",
        "# print(\"\\n\")\n",
        "# graph3 = GraphI([['A', 'C'], ['C', 'B'], ['A', 'E'], ['C', 'G'], ['E', 'H'], ['H', 'D'], ['F', 'E'], ['F', 'G']])\n",
        "# print(graph3.get_graph())\n",
        "# print(approx2(graph3))"
      ]
    },
    {
      "cell_type": "markdown",
      "metadata": {},
      "source": [
        "Part 2.3: Approx3(graph) takes as an input, an object of Graph and does the following:\n",
        "1. Start with an empty set C = {}\n",
        "2. Select an edge randomly from G, call this edge (u, v)\n",
        "3. Add u and v to C\n",
        "4. Remove all edges incident to u or v from G\n",
        "5. If C is a Vertex Cover return C, else go to Step 2\n",
        "\n",
        "Note: When you remove (or perform any other operation on) an edge, do not directly manipulate the graph, instead work on a local copy of the input graph."
      ]
    },
    {
      "cell_type": "code",
      "execution_count": null,
      "metadata": {},
      "outputs": [],
      "source": [
        "#Part 2.3\n",
        "def approx3(G):\n",
        "  working_copy = {}\n",
        "  graph = G.get_graph()\n",
        "\n",
        "  #make a copy of the graph\n",
        "  for node, edges in graph.items():\n",
        "    working_copy[node] = edges\n",
        "\n",
        "  #empty set C that will hold the vertices in the vertex cover\n",
        "  C = []\n",
        "\n",
        "  #select an edge randomly from G, call this edge (u,v)\n",
        "  while True:\n",
        "    v = []\n",
        "    u = []\n",
        "\n",
        "    #first randomly find v that isn't in C already\n",
        "    while True:\n",
        "      num = random.randint(0, len(working_copy)-1)\n",
        "\n",
        "      j = 0\n",
        "      for i in working_copy.keys():\n",
        "        if j == num:\n",
        "          v = i\n",
        "          break\n",
        "        j += 1\n",
        "\n",
        "      if v not in C:\n",
        "        break\n",
        "\n",
        "    if len(working_copy[v]) == 0:\n",
        "      #this is if v has no edges, it doesn't need to be added, but C didn't change so just continue to the next iteration\n",
        "      continue\n",
        "\n",
        "    else:\n",
        "      #find another node in v's list of edges\n",
        "      num = random.randint(0, len(working_copy[v])-1)\n",
        "\n",
        "      j = 0\n",
        "      for i in working_copy[v]:\n",
        "        if j == num:\n",
        "          u = i\n",
        "          break\n",
        "        j += 1\n",
        "\n",
        "\n",
        "      #add u and v to C\n",
        "      C.append(u)\n",
        "      C.append(v)\n",
        "\n",
        "      #remove all edges incident to u or v from G\n",
        "      if u in working_copy.keys():\n",
        "          working_copy[u] = []\n",
        "      if v in working_copy.keys():\n",
        "          working_copy[v] = []\n",
        "\n",
        "      for i in working_copy.values():\n",
        "          if v in i:\n",
        "              i.remove(v)\n",
        "          if u in i:\n",
        "              i.remove(u)\n",
        "\n",
        "    #If C is a Vertex Cover return C, else repeat\n",
        "    if is_vertex_cover_hm(G, C):\n",
        "      break\n",
        "\n",
        "  return C\n",
        "\n",
        "# graph = GraphI([['A', 'C'], ['C', 'B'], ['A', 'E'], ['C', 'G'], ['E', 'H'], ['H', 'D']])\n",
        "# print(graph.get_graph())\n",
        "# print(approx3(graph))\n",
        "\n",
        "# print(\"\\n\")\n",
        "\n",
        "# graph2 = GraphI([['A', 'C'], ['C', 'B'], ['A', 'E'], ['C', 'G'], ['E', 'H'], ['H', 'D'], ['C', 'A']])\n",
        "# print(graph2.get_graph())\n",
        "# print(approx3(graph2))\n",
        "\n",
        "# print(\"\\n\")\n",
        "# graph3 = GraphI([['A', 'C'], ['C', 'B'], ['A', 'E'], ['C', 'G'], ['E', 'H'], ['H', 'D'], ['F', 'E'], ['F', 'G']])\n",
        "# print(graph3.get_graph())\n",
        "# print(approx3(graph3))"
      ]
    }
  ],
  "metadata": {
    "colab": {
      "provenance": []
    },
    "kernelspec": {
      "display_name": "base",
      "language": "python",
      "name": "python3"
    },
    "language_info": {
      "codemirror_mode": {
        "name": "ipython",
        "version": 3
      },
      "file_extension": ".py",
      "mimetype": "text/x-python",
      "name": "python",
      "nbconvert_exporter": "python",
      "pygments_lexer": "ipython3",
      "version": "3.9.12"
    }
  },
  "nbformat": 4,
  "nbformat_minor": 0
}
