{
  "cells": [
    {
      "cell_type": "markdown",
      "metadata": {
        "id": "x47I8ITCpV81"
      },
      "source": [
        "# Computer Science 2XC3 - Graded Lab II"
      ]
    },
    {
      "cell_type": "markdown",
      "metadata": {
        "id": "CspBEPJdpV82"
      },
      "source": [
        "Please refer to the pdf for detailed instructions. The below file contains all the preliminary code you will need to work on the lab. You can copy paste instructions here to create one cohesive lab and organize it that best suits your teams workflow."
      ]
    },
    {
      "cell_type": "code",
      "execution_count": 74,
      "metadata": {
        "id": "2jDuBWTqpV83"
      },
      "outputs": [],
      "source": [
        "import random\n",
        "import timeit\n",
        "import matplotlib.pyplot as plt\n",
        "import numpy as np\n",
        "import math"
      ]
    },
    {
      "cell_type": "code",
      "execution_count": 75,
      "metadata": {
        "id": "ng0jIiPvpV84"
      },
      "outputs": [],
      "source": [
        "class GraphI:\n",
        "\n",
        "    # using hash map\n",
        "    def __init__(self, edges):\n",
        "        self.graph = {}\n",
        "        for x,y in edges:\n",
        "            if x not in self.graph.keys():\n",
        "                self.graph[x]=[]\n",
        "            self.graph[x].append(y)\n",
        "\n",
        "    def has_edge(self, src, dst):\n",
        "        return src in self.graph[dst]\n",
        "\n",
        "    def get_graph_size(self,):\n",
        "        return len(self.graph)\n",
        "\n",
        "    def get_graph(self,):\n",
        "        return self.graph"
      ]
    },
    {
      "cell_type": "code",
      "execution_count": 76,
      "metadata": {
        "id": "ekvNIaz-pV85"
      },
      "outputs": [],
      "source": [
        "class GraphII:\n",
        "\n",
        "    # using adjacency list\n",
        "    def __init__(self, nodes):\n",
        "        self.graph = []\n",
        "        # node numbered 0-1\n",
        "        for node in range(nodes):\n",
        "            self.graph.append([])\n",
        "\n",
        "    def has_edge(self, src, dst):\n",
        "        return src in self.graph[dst]\n",
        "\n",
        "    def add_edge(self,src,dst):\n",
        "        if not self.has_edge(src,dst):\n",
        "            self.graph[src].append(dst)\n",
        "            self.graph[dst].append(src)\n",
        "\n",
        "    def get_graph(self,):\n",
        "        return self.graph"
      ]
    },
    {
      "cell_type": "code",
      "execution_count": 77,
      "metadata": {
        "id": "gdlyFSfHpV86"
      },
      "outputs": [],
      "source": [
        "def depth_first_search(G,node,end_point=None):\n",
        "    stack = [node]\n",
        "    graph = G.get_graph()\n",
        "    seen=set()\n",
        "\n",
        "    while len(stack) !=0:\n",
        "        node = stack.pop()\n",
        "        # search for neighbours in graph\n",
        "        if node not in seen:\n",
        "            seen.add(node)\n",
        "            #print(\"Visited node:\" + str(node))\n",
        "            # if the given node has an edge\n",
        "            if node in graph.keys():\n",
        "                # iterate over edges of node\n",
        "                for nn in graph[node]:\n",
        "\n",
        "                    # limited traversal\n",
        "                    if nn == end_point:\n",
        "                        return True\n",
        "                    # add to stack\n",
        "                    stack.append(nn)"
      ]
    },
    {
      "cell_type": "code",
      "execution_count": 78,
      "metadata": {
        "id": "0AmAIiRVpV87"
      },
      "outputs": [],
      "source": [
        "#Breadth First Search\n",
        "def breadth_first_search(G, node):\n",
        "    stack = [node]\n",
        "    graph = G.get_graph()\n",
        "    seen=set()\n",
        "\n",
        "    seen.add(node)\n",
        "\n",
        "    while len(stack) > 0:\n",
        "        node = stack[0]\n",
        "        stack = stack[1:]\n",
        "        #print(\"Visiting node: \" + str(node))\n",
        "        if node in graph.keys():\n",
        "            for nn in graph[node]:\n",
        "                #if node == node2:\n",
        "                #    return True\n",
        "                if nn not in seen:\n",
        "                    stack.append(nn)\n",
        "                    seen.add(nn)"
      ]
    },
    {
      "cell_type": "code",
      "source": [
        "# Using the given BFS code and modifying it\n",
        "\n",
        "def bfs_2(G, src, dst):\n",
        "\n",
        "    path_list = []\n",
        "\n",
        "    stack = [src]\n",
        "    graph = G.get_graph()\n",
        "    seen = set()\n",
        "\n",
        "    seen.add(src)\n",
        "\n",
        "    path_list.append(src)\n",
        "\n",
        "    while len(stack) > 0:\n",
        "        node = stack[0]\n",
        "        stack = stack[1:]\n",
        "        # print(\"Visiting node: \" + str(node))\n",
        "\n",
        "        # Append node to new list if it hasn't been visited before\n",
        "        if node not in path_list:\n",
        "            path_list.append(node)\n",
        "            # Return the list of nodes visited if the destination node is reached\n",
        "            if node == dst:\n",
        "                return path_list\n",
        "\n",
        "        if node in graph.keys():\n",
        "            for new_node in graph[node]:\n",
        "                if new_node not in seen:\n",
        "                    stack.append(new_node)\n",
        "                    seen.add(new_node)\n",
        "    return path_list\n",
        "\n",
        "# Testing\n",
        "# test_graph = GraphI([[0, 1], [1, 5], [1, 6], [5, 3], [5, 2], [5, 6], [6, 4], [6, 7]])\n",
        "# test_graph.get_graph()\n",
        "# # 0, 1, 5, 6, 2, 3, 4, 7\n",
        "# bfs_2(test_graph, 0, 2)"
      ],
      "metadata": {
        "id": "EjwYbzYrqxbO"
      },
      "execution_count": 79,
      "outputs": []
    },
    {
      "cell_type": "code",
      "source": [
        "# Using the given DFS code and modifying it\n",
        "\n",
        "def dfs_2(G, src, dst, end_point=None):\n",
        "    stack = [src]\n",
        "    path_list = []\n",
        "    graph = G.get_graph()\n",
        "    seen = set()\n",
        "\n",
        "\n",
        "\n",
        "    while len(stack) != 0:\n",
        "        node = stack.pop()\n",
        "\n",
        "        if node not in seen:\n",
        "            seen.add(node)\n",
        "            # print(\"Visited node: \" + str(node))\n",
        "\n",
        "            # Check if the visited node is already in path_list, and append it if not\n",
        "            if node not in path_list:\n",
        "                path_list.append(node)\n",
        "                if node == dst:\n",
        "                    return path_list\n",
        "\n",
        "            if node in graph.keys():\n",
        "                for new_node in graph[node]:\n",
        "                    # Due to the given algorithm's limited implementation, it's possible for a dst node to be given that is in the graph but unreachable by the algorithm\n",
        "                    if new_node == end_point:\n",
        "                        return True\n",
        "                    stack.append(new_node)\n",
        "\n",
        "# Testing\n",
        "# test_graph = GraphI([[1, 2], [2, 6], [6, 5], [6, 4]])\n",
        "# dfs_2(test_graph, 2, 4)"
      ],
      "metadata": {
        "id": "LJT5CZ6brFfl"
      },
      "execution_count": 80,
      "outputs": []
    },
    {
      "cell_type": "code",
      "source": [
        "#Using the given Breadth First Search algorithm and modifying it\n",
        "def bfs_3(G, node):\n",
        "    # Initializing predecessor dictionary\n",
        "    pred_dict = {}\n",
        "    graph = G.get_graph()\n",
        "\n",
        "    stack = [node]\n",
        "    seen=set()\n",
        "\n",
        "    seen.add(node)\n",
        "\n",
        "\n",
        "    while len(stack) > 0:\n",
        "\n",
        "        node = stack[0]\n",
        "        stack = stack[1:]\n",
        "        print(\"Visiting node: \" + str(node))\n",
        "\n",
        "\n",
        "        if node in graph.keys():\n",
        "            for new_node in graph[node]:\n",
        "\n",
        "                #if node == node2:\n",
        "                #    return True\n",
        "                if new_node not in seen:\n",
        "                    # If this node is new, it can be updated with the current node that's being iterated over\n",
        "                    pred_dict[new_node] = node\n",
        "                    stack.append(new_node)\n",
        "                    seen.add(new_node)\n",
        "\n",
        "    return pred_dict\n",
        "\n",
        "# Testing\n",
        "test_graph = GraphI([[1, 2], [1, 3], [2, 4], [3, 4], [3, 5], [4, 5], [4, 6]])\n",
        "# test_graph.get_graph()\n",
        "bfs_3(test_graph, 1)"
      ],
      "metadata": {
        "colab": {
          "base_uri": "https://localhost:8080/"
        },
        "id": "Hg4SrsYarIXM",
        "outputId": "1baf5b5c-1184-4dba-ed95-708690002141"
      },
      "execution_count": 83,
      "outputs": [
        {
          "output_type": "stream",
          "name": "stdout",
          "text": [
            "Visiting node: 1\n",
            "Visiting node: 2\n",
            "Visiting node: 3\n",
            "Visiting node: 4\n",
            "Visiting node: 5\n",
            "Visiting node: 6\n"
          ]
        },
        {
          "output_type": "execute_result",
          "data": {
            "text/plain": [
              "{2: 1, 3: 1, 4: 2, 5: 3, 6: 4}"
            ]
          },
          "metadata": {},
          "execution_count": 83
        }
      ]
    },
    {
      "cell_type": "code",
      "source": [
        "# Using the given Depth First Search Algorithm and modifying it\n",
        "def dfs_3(G,node,end_point=None):\n",
        "    # Initializing predecessor dictionary\n",
        "    pred_dict = {}\n",
        "    stack = [node]\n",
        "    graph = G.get_graph()\n",
        "    seen=set()\n",
        "\n",
        "\n",
        "    while len(stack) !=0:\n",
        "        node = stack.pop()\n",
        "        # search for neighbours in graph\n",
        "        if node not in seen:\n",
        "            seen.add(node)\n",
        "            #print(\"Visited node:\" + str(node))\n",
        "            # if the given node has an edge\n",
        "            if node in graph.keys():\n",
        "                # iterate over edges of node\n",
        "                for new_node in graph[node]:\n",
        "                    # Similar to bfs_3 implementation:\n",
        "                    if new_node not in pred_dict:\n",
        "                        pred_dict[new_node] = node\n",
        "                    # limited traversal\n",
        "                    if new_node == end_point:\n",
        "                        return True\n",
        "                    # add to stack\n",
        "                    stack.append(new_node)\n",
        "\n",
        "    return pred_dict\n",
        "\n",
        "# Testing\n",
        "# test_graph = GraphI([[1, 2], [1, 3], [2, 4], [3, 4], [3, 5], [4, 5], [4, 6]])\n",
        "# test_graph.get_graph()\n",
        "# {1: [2, 3], 2: [4], 3: [4, 5], 4: [6], 5: [4]}\n",
        "\n",
        "# dfs_3(test_graph, 1)"
      ],
      "metadata": {
        "id": "-6Wt2R12rMQJ"
      },
      "execution_count": 86,
      "outputs": []
    },
    {
      "cell_type": "code",
      "source": [
        "# Since the depth_first_search algorithm given in the lab has a default \"endpoint\" parameter,\n",
        "# We can use the DFS function on the node to see if there is a reachable path from that same node\n",
        "def has_cycle(G):\n",
        "    graph = G.get_graph()\n",
        "\n",
        "    # Iterate through each node, calling the given DFS with the startpoint and endpoint parameter as that node\n",
        "    for node in graph:\n",
        "        result = depth_first_search(G, node, node)\n",
        "        if result == True:\n",
        "            return True\n",
        "\n",
        "    # If all nodes in the graph return false from the DFS, it must mean that no cycles exist\n",
        "    return False\n",
        "\n",
        "# Testing\n",
        "# test_graph = GraphI([[0, 1], [1, 2], [2, 3]])\n",
        "# has_cycle(test_graph)\n",
        "\n",
        "# test_graph = GraphI([[0, 1], [1, 2], [2, 0], [2, 3]])\n",
        "# has_cycle(test_graph)"
      ],
      "metadata": {
        "id": "2uRUD1o1rQFM"
      },
      "execution_count": 88,
      "outputs": []
    },
    {
      "cell_type": "code",
      "source": [
        "# Similar to Part 1.3, we can run DFS to check if a path can be found between the given startpoint and endpoint\n",
        "def is_connected(G, startpoint, endpoint):\n",
        "    graph = G.get_graph()\n",
        "\n",
        "    for node in graph:\n",
        "        value = depth_first_search(G, startpoint, endpoint)\n",
        "        if value == True:\n",
        "            return True\n",
        "\n",
        "    return False\n",
        "\n",
        "# Testing: Used graph example from Part 1.2, except added some disconnected nodes\n",
        "# test_graph = GraphI([[1, 2], [1, 3], [2, 4], [3, 4], [3, 5], [4, 5], [4, 6], [7, 8]])\n",
        "# is_connected(test_graph, 1, 8)"
      ],
      "metadata": {
        "id": "YUt4g9eJrTNN"
      },
      "execution_count": 87,
      "outputs": []
    },
    {
      "cell_type": "code",
      "source": [
        "import random\n",
        "\n",
        "def random_graph(num_nodes: int, num_edges: int):\n",
        "    # Create a list for edges of the graph\n",
        "    random_edges = []\n",
        "\n",
        "    # Using a count variable to ensure the correct number of edges are added with no duplicates\n",
        "    count = 0\n",
        "\n",
        "    while count != num_edges:\n",
        "        # Generating random nodes\n",
        "        node_1 = random.randint(0, num_nodes)\n",
        "        node_2 = random.randint(0, num_nodes)\n",
        "\n",
        "        # Checking for duplicates\n",
        "        # There can only be a single edge between two nodes, so I need to check both combinations of nodes being an edge\n",
        "        # The nodes can also not be the same\n",
        "        if node_1 != node_2 and [node_1, node_2] not in random_edges and [node_2, node_1] not in random_edges:\n",
        "            random_edges.append([node_1, node_2])\n",
        "            # Count only increments if the edge is valid\n",
        "            count += 1\n",
        "\n",
        "\n",
        "    random_graph = GraphI(random_edges)\n",
        "    return random_graph\n",
        "\n",
        "# Testing\n",
        "# test = random_graph(20, 20)\n",
        "# test\n",
        "# test.get_graph()"
      ],
      "metadata": {
        "id": "G0Qbd-4grVzn"
      },
      "execution_count": 89,
      "outputs": []
    },
    {
      "cell_type": "code",
      "source": [],
      "metadata": {
        "id": "dCUTEEICrq7N"
      },
      "execution_count": null,
      "outputs": []
    },
    {
      "cell_type": "code",
      "source": [
        "def draw_show_plot(run_arr):\n",
        "    x = np.arange(0, len(run_arr), 1)\n",
        "    fig = plt.figure(figsize = (20,8))\n",
        "    plt.bar(x,run_arr)\n",
        "    plt.axhline(np.mean(run_arr), color = \"red\", linestyle=\"--\", label = \"Avg\")\n",
        "    plt.xlabel(\"Test #\")\n",
        "    plt.ylabel(\"Probability\")\n",
        "    plt.title(\"Average Probability\")\n",
        "    plt.show()"
      ],
      "metadata": {
        "id": "lSgtB-3v0Xcm"
      },
      "execution_count": 90,
      "outputs": []
    },
    {
      "cell_type": "code",
      "source": [
        "#1.6\n",
        "#run the experiment 50 times (50 graphs will be tested, 50 times) each graph will have 20 nodes and 20 edges\n",
        "runs = 50\n",
        "\n",
        "#store the 50 probabilities in this list to make into a graph after\n",
        "probabilities = []\n",
        "\n",
        "for _ in range(runs):\n",
        "  #x will be tracking how many graphs had cycles\n",
        "  x = 0\n",
        "\n",
        "  for _ in range(runs):\n",
        "    G = random_graph(20, 20)\n",
        "    cycle = has_cycle(G)\n",
        "    if cycle:\n",
        "      x += 1\n",
        "\n",
        "  # print(\"The probability is\", x, \"/ 50 or\", x/50)\n",
        "  probabilities.append(x/50)\n",
        "draw_show_plot(probabilities)\n",
        "\n"
      ],
      "metadata": {
        "id": "2YWAJxIsrqxT",
        "colab": {
          "base_uri": "https://localhost:8080/",
          "height": 718
        },
        "outputId": "32f41c95-a017-437c-8bed-d8ccc24e7027"
      },
      "execution_count": 92,
      "outputs": [
        {
          "output_type": "display_data",
          "data": {
            "text/plain": [
              "<Figure size 2000x800 with 1 Axes>"
            ],
            "image/png": "[encoded data removed]"
          },
          "metadata": {}
        }
      ]
    },
    {
      "cell_type": "markdown",
      "source": [
        "Reflection:\n",
        "\n",
        "- The experiment design:\n",
        "  - 50 times, a random graph is created with 20 nodes and 20 edges, and for each graph it's checked whether or not there's a cycle. At the end, the total number of graphs with cycles out of 50 is stored as the probability, and then the overall experiment is repeated 50 times to get 50 probabilities.\n",
        "\n",
        "- In terms of iterations, as mentioned above the probability is found out of 50 graphs, and the probability is then found 50 times as it gives enough results to see what the average probability really is.\n",
        "\n",
        "- This experiment design was chosen to ensure that enough graphs are tested and the experiment is repeated enough times to find a more accurate average probability.\n",
        "\n",
        "- In this case the average probability of having a cycle in a random graph seems to be 0.36, which is around 18/50 graphs."
      ],
      "metadata": {
        "id": "sTnIjQnl9M6D"
      }
    },
    {
      "cell_type": "code",
      "source": [
        "#1.7\n",
        "#similar to 1.6 but using is_connected() instead of has_cycle(), and two random start and end points will be tested for each graph\n",
        "#run the experiment 50 times (50 graphs will be tested, 50 times) each graph will have 20 nodes and 20 edges\n",
        "runs = 50\n",
        "\n",
        "#store the 50 probabilities in this list to make into a graph after\n",
        "probabilities = []\n",
        "\n",
        "for _ in range(runs):\n",
        "  #x will be tracking how many graphs had cycles\n",
        "  x = 0\n",
        "\n",
        "  for _ in range(runs):\n",
        "    start = []\n",
        "    end = []\n",
        "\n",
        "    G = random_graph(20, 20)\n",
        "\n",
        "    graph = G.get_graph()\n",
        "    #print(graph)\n",
        "    #randomly generate integer within length of G\n",
        "    #go through the keys until finding the one at the random index (for the start point, then repeat for end point)\n",
        "    num = random.randint(0, len(graph)-1)\n",
        "    j = 0\n",
        "    for i in graph.keys():\n",
        "      if j == num:\n",
        "        start = i\n",
        "        break\n",
        "      j += 1\n",
        "\n",
        "    num = random.randint(0, len(graph)-1)\n",
        "    j = 0\n",
        "    for i in graph.keys():\n",
        "      if j == num:\n",
        "        end = i\n",
        "        break\n",
        "      j += 1\n",
        "\n",
        "    #print(start, end, is_connected(G, start, end))\n",
        "    connected = is_connected(G, start, end)\n",
        "    if connected:\n",
        "      x += 1\n",
        "\n",
        "  # print(\"The probability is\", x, \"/ 50 or\", x/50)\n",
        "  probabilities.append(x/50)\n",
        "draw_show_plot(probabilities)\n"
      ],
      "metadata": {
        "colab": {
          "base_uri": "https://localhost:8080/",
          "height": 718
        },
        "id": "rjDb4uuS1XcQ",
        "outputId": "1c1286e7-1601-40bf-cba6-c06425f42cfc"
      },
      "execution_count": 94,
      "outputs": [
        {
          "output_type": "display_data",
          "data": {
            "text/plain": [
              "<Figure size 2000x800 with 1 Axes>"
            ],
            "image/png": "[encoded data removed]"
          },
          "metadata": {}
        }
      ]
    },
    {
      "cell_type": "markdown",
      "source": [
        "Reflection:\n",
        "\n",
        "- The experiment design:\n",
        "\n",
        "  - 50 random graphs with 20 nodes and 20 edges are created, and since is_connected() needs a start and end point as well, a random start node and end node is selected for each graph.\n",
        "\n",
        "  - The number of these 50 graphs that were connected is stored out of 50, and then this overall experiment is repeated 50 times to end with 50 probabilities.\n",
        "\n",
        "- This experiment has 50 iterations per probability calculation, and 50 probabilities are found, and this design was chosen to ensure that enough graphs are tested and enough probabilities are found that the average at the end is more accurate.\n",
        "\n",
        "- The results for this experiment show that the average probability of a random graph with 20 nodes and 20 edges being connected is around 0.21, which is around 10/50 graphs."
      ],
      "metadata": {
        "id": "vriOzNshEO1L"
      }
    },
    {
      "cell_type": "code",
      "source": [],
      "metadata": {
        "id": "pwvmDY_bqxG6"
      },
      "execution_count": null,
      "outputs": []
    },
    {
      "cell_type": "code",
      "source": [],
      "metadata": {
        "id": "OCbI5saHqw-k"
      },
      "execution_count": null,
      "outputs": []
    },
    {
      "cell_type": "code",
      "execution_count": null,
      "metadata": {
        "id": "BCRu30IGpV87"
      },
      "outputs": [],
      "source": [
        "#Use the methods below to determine minimum vertex covers\n",
        "\n",
        "def add_to_each(sets, element):\n",
        "    copy = sets.copy()\n",
        "    for set in copy:\n",
        "        set.append(element)\n",
        "    return copy\n",
        "\n",
        "def power_set(set):\n",
        "    if set == []:\n",
        "        return [[]]\n",
        "    return power_set(set[1:]) + add_to_each(power_set(set[1:]), set[0])\n",
        "\n",
        "def is_vertex_cover(G, C):\n",
        "    for start in G.adj:\n",
        "        for end in G.adj[start]:\n",
        "            if not(start in C or end in C):\n",
        "                return False\n",
        "    return True\n",
        "\n",
        "def MVC(G):\n",
        "    nodes = [i for i in range(G.get_size())]\n",
        "    subsets = power_set(nodes)\n",
        "    min_cover = nodes\n",
        "    for subset in subsets:\n",
        "        if is_vertex_cover(G, subset):\n",
        "            if len(subset) < len(min_cover):\n",
        "                min_cover = subset\n",
        "    return min_cover\n"
      ]
    }
  ],
  "metadata": {
    "kernelspec": {
      "display_name": "base",
      "language": "python",
      "name": "python3"
    },
    "language_info": {
      "codemirror_mode": {
        "name": "ipython",
        "version": 3
      },
      "file_extension": ".py",
      "mimetype": "text/x-python",
      "name": "python",
      "nbconvert_exporter": "python",
      "pygments_lexer": "ipython3",
      "version": "3.9.12"
    },
    "colab": {
      "provenance": []
    }
  },
  "nbformat": 4,
  "nbformat_minor": 0
}