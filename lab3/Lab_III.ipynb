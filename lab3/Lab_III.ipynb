{
  "cells": [
    {
      "cell_type": "markdown",
      "metadata": {
        "id": "x47I8ITCpV81"
      },
      "source": [
        "# Computer Science 2XC3 - Graded Lab III"
      ]
    },
    {
      "cell_type": "markdown",
      "metadata": {
        "id": "CspBEPJdpV82"
      },
      "source": [
        "Please refer to the pdf for detailed instructions. The below file contains all the preliminary code you will need to work on the lab. You can copy paste instructions here to create one cohesive lab and organize it that best suits your teams workflow."
      ]
    },
    {
      "cell_type": "code",
      "execution_count": 65,
      "metadata": {
        "id": "2jDuBWTqpV83"
      },
      "outputs": [],
      "source": [
        "import random\n",
        "import timeit\n",
        "import matplotlib.pyplot as plt\n",
        "import numpy as np\n",
        "import math"
      ]
    },
    {
      "cell_type": "code",
      "execution_count": 66,
      "metadata": {
        "id": "ng0jIiPvpV84"
      },
      "outputs": [],
      "source": [
        "class GraphI:\n",
        "\n",
        "    # using hash map\n",
        "    def __init__(self, edges):\n",
        "        self.graph = {}\n",
        "        for x,y in edges:\n",
        "            if x not in self.graph.keys():\n",
        "                self.graph[x]=[]\n",
        "            self.graph[x].append(y)\n",
        "\n",
        "    def has_edge(self, src, dst):\n",
        "        return src in self.graph[dst]\n",
        "\n",
        "    def get_graph_size(self,):\n",
        "        return len(self.graph)\n",
        "\n",
        "    def get_graph(self,):\n",
        "        return self.graph"
      ]
    },
    {
      "cell_type": "code",
      "execution_count": 67,
      "metadata": {
        "id": "ekvNIaz-pV85"
      },
      "outputs": [],
      "source": [
        "class GraphII:\n",
        "\n",
        "    # using adjacency list\n",
        "    def __init__(self, nodes):\n",
        "        self.graph = []\n",
        "        # node numbered 0-1\n",
        "        for node in range(nodes):\n",
        "            self.graph.append([])\n",
        "\n",
        "    def has_edge(self, src, dst):\n",
        "        return src in self.graph[dst]\n",
        "\n",
        "    def add_edge(self,src,dst):\n",
        "        if not self.has_edge(src,dst):\n",
        "            self.graph[src].append(dst)\n",
        "            self.graph[dst].append(src)\n",
        "\n",
        "    def get_graph(self,):\n",
        "        return self.graph"
      ]
    },
    {
      "cell_type": "code",
      "execution_count": 68,
      "metadata": {
        "id": "gdlyFSfHpV86"
      },
      "outputs": [],
      "source": [
        "def depth_first_search(G,node,end_point=None):\n",
        "    stack = [node]\n",
        "    graph = G.get_graph()\n",
        "    seen=set()\n",
        "\n",
        "    while len(stack) !=0:\n",
        "        node = stack.pop()\n",
        "        # search for neighbours in graph\n",
        "        if node not in seen:\n",
        "            seen.add(node)\n",
        "            print(\"Visited node:\" + str(node))\n",
        "            # if the given node has an edge\n",
        "            if node in graph.keys():\n",
        "                # iterate over edges of node\n",
        "                for nn in graph[node]:\n",
        "\n",
        "                    # limited traversal\n",
        "                    if nn == end_point:\n",
        "                        return True\n",
        "                    # add to stack\n",
        "                    stack.append(nn)"
      ]
    },
    {
      "cell_type": "code",
      "source": [
        "def is_vertex_cover_gi(graph, subset):\n",
        "    \"\"\"Check if subset is a vertex cover for a graph represented as in GraphI.\"\"\"\n",
        "    G = graph.get_graph()\n",
        "    for node, edges in G.items():\n",
        "        if not any((edge in subset or node in subset) for edge in edges):\n",
        "            return False\n",
        "    return True"
      ],
      "metadata": {
        "id": "63AUfM-nwAam"
      },
      "execution_count": 69,
      "outputs": []
    },
    {
      "cell_type": "code",
      "source": [
        "#small graph where the correct vertex cover is {0, 2}\n",
        "edges_test = [(0, 1), (0, 2), (2, 3)]\n",
        "graph_test = GraphI(edges_test)\n",
        "\n",
        "#known vertex cover for the test graph\n",
        "known_vertex_cover = {0, 2}\n",
        "\n",
        "assert is_vertex_cover_gi(graph_test, known_vertex_cover) == True, \"is_vertex_cover_gi failed for known vertex cover\"\n",
        "print(\"is_vertex_cover_gi passed for known vertex cover.\")\n"
      ],
      "metadata": {
        "id": "b6KCsR3_HjXm",
        "outputId": "934422a4-2e71-46cc-bfd7-6759206bd27a",
        "colab": {
          "base_uri": "https://localhost:8080/"
        }
      },
      "execution_count": 70,
      "outputs": [
        {
          "output_type": "stream",
          "name": "stdout",
          "text": [
            "is_vertex_cover_gi passed for known vertex cover.\n"
          ]
        }
      ]
    },
    {
      "cell_type": "code",
      "source": [
        "def MVC_gi(graph):\n",
        "    \"\"\"Compute the minimum vertex cover for a graph represented as in GraphI.\"\"\"\n",
        "    nodes = list(graph.get_graph().keys())\n",
        "    subsets = power_set(nodes)\n",
        "    min_cover = nodes\n",
        "    for subset in subsets:\n",
        "        if is_vertex_cover_gi(graph, subset):\n",
        "            if len(subset) < len(min_cover):\n",
        "                min_cover = subset\n",
        "    return min_cover"
      ],
      "metadata": {
        "id": "rW6D3gEhwGp1"
      },
      "execution_count": 71,
      "outputs": []
    },
    {
      "cell_type": "code",
      "execution_count": 72,
      "metadata": {
        "id": "0AmAIiRVpV87"
      },
      "outputs": [],
      "source": [
        "#Breadth First Search\n",
        "def breadth_first_search(G, node):\n",
        "    stack = [node]\n",
        "    graph = G.get_graph()\n",
        "    seen=set()\n",
        "\n",
        "    seen.add(node)\n",
        "\n",
        "    while len(stack) > 0:\n",
        "        node = stack[0]\n",
        "        stack = stack[1:]\n",
        "        print(\"Visiting node: \" + str(node))\n",
        "        if node in graph.keys():\n",
        "            for nn in graph[node]:\n",
        "                #if node == node2:\n",
        "                #    return True\n",
        "                if nn not in seen:\n",
        "                    stack.append(nn)\n",
        "                    seen.add(nn)"
      ]
    },
    {
      "cell_type": "markdown",
      "source": [
        "\n",
        "Part 2: Computing minimum vertex cover is a basic combinatorial optimization problem where the goal is to determine a minimum subset of vertices that cover all edges. The jupyter notebook contains a function to compute the minimum vertex cover for an undirected graph. It works for graphs for small node sizes (<30). Implement 3 different approximation algorithms for the Vertex Cover Problem."
      ],
      "metadata": {
        "id": "s6cqcDXqnGLz"
      }
    },
    {
      "cell_type": "code",
      "source": [
        "#Use the methods below to determine minimum vertex covers\n",
        "\n",
        "def add_to_each(sets, element):\n",
        "    copy = sets.copy()\n",
        "    for set in copy:\n",
        "        set.append(element)\n",
        "    return copy\n",
        "\n",
        "def power_set(set):\n",
        "    if set == []:\n",
        "        return [[]]\n",
        "    return power_set(set[1:]) + add_to_each(power_set(set[1:]), set[0])\n",
        "\n",
        "def is_vertex_cover(G, C):\n",
        "    for start in G.adj:\n",
        "        for end in G.adj[start]:\n",
        "            if not(start in C or end in C):\n",
        "                return False\n",
        "    return True\n",
        "\n",
        "def MVC(G):\n",
        "    nodes = [i for i in range(G.get_size())]\n",
        "    subsets = power_set(nodes)\n",
        "    min_cover = nodes\n",
        "    for subset in subsets:\n",
        "        if is_vertex_cover(G, subset):\n",
        "            if len(subset) < len(min_cover):\n",
        "                min_cover = subset\n",
        "    return min_cover\n"
      ],
      "metadata": {
        "id": "rjblnpuDQzOJ"
      },
      "execution_count": 73,
      "outputs": []
    },
    {
      "cell_type": "code",
      "source": [
        "# checking for vertex cover where graph is using hash map (GraphI)\n",
        "def is_vertex_cover_hm(graph, C):\n",
        "  G = graph.get_graph()\n",
        "\n",
        "  for node in C:\n",
        "    for n, edges in G.items():\n",
        "        if node in edges:\n",
        "            G[n].remove(node)\n",
        "\n",
        "\n",
        "  for node in C:\n",
        "      G[node]=[]\n",
        "\n",
        "\n",
        "  is_vc = True\n",
        "\n",
        "  for node,edges in G.items():\n",
        "    if len(edges) != 0:\n",
        "      is_vc = False\n",
        "      break\n",
        "\n",
        "  return is_vc\n"
      ],
      "metadata": {
        "id": "FpMIU5pTQ5J0"
      },
      "execution_count": 74,
      "outputs": []
    },
    {
      "cell_type": "markdown",
      "source": [
        "Part 2.1: Approx1 (graph) takes in an object of Graph and does the following:\n",
        "1. Start with an empty set C = {}\n",
        "2. Find the vertex with the highest degree in G, call this vertex v\n",
        "3. Add v to C\n",
        "4. Remove all edges incident to node v from G\n",
        "5. If C is a Vertex Cover return C, else go to Step 2"
      ],
      "metadata": {
        "id": "GztyaGHjnPl2"
      }
    },
    {
      "cell_type": "markdown",
      "source": [
        "# Approximation Algorithm for Vertex Cover: Approx1\n"
      ],
      "metadata": {
        "id": "eQ2JNZmMcFZi"
      }
    },
    {
      "cell_type": "code",
      "source": [
        "class GraphI:\n",
        "    \"\"\"Graph representation using a hash map.\"\"\"\n",
        "    def __init__(self, edges):\n",
        "        self.graph = {}\n",
        "        for start, end in edges:\n",
        "            if start not in self.graph:\n",
        "                self.graph[start] = []\n",
        "            if end not in self.graph:\n",
        "                self.graph[end] = []\n",
        "            self.graph[start].append(end)\n",
        "            self.graph[end].append(start)\n",
        "\n",
        "    def get_graph(self):\n",
        "        \"\"\"Returns the internal graph representation.\"\"\"\n",
        "        return self.graph\n"
      ],
      "metadata": {
        "id": "5X014gF9cO4J"
      },
      "execution_count": 75,
      "outputs": []
    },
    {
      "cell_type": "markdown",
      "source": [
        "## Function Implementation\n"
      ],
      "metadata": {
        "id": "UAT7kfkncQpK"
      }
    },
    {
      "cell_type": "code",
      "source": [
        "def approx1(graph):\n",
        "    \"\"\"\n",
        "    Approximation algorithm to find a vertex cover of a graph.\n",
        "\n",
        "    Parameters:\n",
        "    - graph: An instance of GraphI, representing the graph.\n",
        "\n",
        "    Returns:\n",
        "    - A set representing the vertex cover.\n",
        "    \"\"\"\n",
        "    # Create a copy of the graph to avoid mutating the original\n",
        "    g_copy = graph.get_graph().copy()\n",
        "    C = set()  # Initialize the vertex cover set\n",
        "\n",
        "    while g_copy:\n",
        "        # Find the vertex with the highest degree\n",
        "        v = max(g_copy, key=lambda node: len(g_copy[node]))\n",
        "\n",
        "        C.add(v)  # Add this vertex to the cover\n",
        "\n",
        "        # Remove the selected vertex and its edges from the graph copy\n",
        "        for adjacent in list(g_copy[v]):\n",
        "            g_copy[adjacent].remove(v)\n",
        "            if not g_copy[adjacent]:  # Remove the vertex if it has no more edges\n",
        "                del g_copy[adjacent]\n",
        "        del g_copy[v]  # Finally, remove the selected vertex itself\n",
        "\n",
        "        if not any(g_copy.values()):  # Stop if no edges are left\n",
        "            break\n",
        "\n",
        "    return C\n"
      ],
      "metadata": {
        "id": "aMKLTDIhcUc6"
      },
      "execution_count": 76,
      "outputs": []
    },
    {
      "cell_type": "markdown",
      "source": [
        "## Example Usage\n",
        "\n"
      ],
      "metadata": {
        "id": "r_r5SGV0cXZK"
      }
    },
    {
      "cell_type": "code",
      "source": [
        "# Example graph edges\n",
        "edges_example = [(0, 1), (1, 2), (2, 3), (3, 4), (4, 0)]\n",
        "\n",
        "# Create a graph instance\n",
        "graph_example = GraphI(edges_example)\n",
        "\n",
        "# Find the vertex cover using Approx1\n",
        "vertex_cover = approx1(graph_example)\n",
        "\n",
        "print(\"Vertex Cover found by Approx1:\", vertex_cover)\n"
      ],
      "metadata": {
        "id": "NHSiw15NcWIv",
        "outputId": "d4adeabc-c833-48c0-8af4-6a1038b6eb3e",
        "colab": {
          "base_uri": "https://localhost:8080/"
        }
      },
      "execution_count": 77,
      "outputs": [
        {
          "output_type": "stream",
          "name": "stdout",
          "text": [
            "Vertex Cover found by Approx1: {0, 2, 3}\n"
          ]
        }
      ]
    },
    {
      "cell_type": "code",
      "source": [
        "'''def approx1(G):\n",
        "    working_copy = G.get_graph().copy()  # Make a copy of the graph\n",
        "    C = set()  # Start with an empty set for the vertex cover\n",
        "\n",
        "    while True:\n",
        "        # Find the vertex v with the highest degree in the graph\n",
        "        v, edges = max(working_copy.items(), key=lambda item: len(item[1]), default=(None, None))\n",
        "\n",
        "        if v is None or len(edges) == 0:\n",
        "            break  # Break if there are no more edges to cover\n",
        "\n",
        "        C.add(v)  # Add v to the vertex cover set C\n",
        "\n",
        "        # Remove all edges incident to v from the graph\n",
        "        # This involves removing v from the graph and removing v from the adjacency lists of other vertices\n",
        "        del working_copy[v]  # Remove the vertex itself\n",
        "        for edges in working_copy.values():\n",
        "            if v in edges:\n",
        "                edges.remove(v)  # Remove v from other vertices' adjacency lists\n",
        "\n",
        "    return C'''\n"
      ],
      "metadata": {
        "id": "iCGcV0y5nPAM",
        "outputId": "11d212e7-3299-44b5-9dee-9bf546ccf477",
        "colab": {
          "base_uri": "https://localhost:8080/",
          "height": 214
        }
      },
      "execution_count": 78,
      "outputs": [
        {
          "output_type": "execute_result",
          "data": {
            "text/plain": [
              "\"def approx1(G):\\n    working_copy = G.get_graph().copy()  # Make a copy of the graph\\n    C = set()  # Start with an empty set for the vertex cover\\n\\n    while True:\\n        # Find the vertex v with the highest degree in the graph\\n        v, edges = max(working_copy.items(), key=lambda item: len(item[1]), default=(None, None))\\n\\n        if v is None or len(edges) == 0:\\n            break  # Break if there are no more edges to cover\\n\\n        C.add(v)  # Add v to the vertex cover set C\\n\\n        # Remove all edges incident to v from the graph\\n        # This involves removing v from the graph and removing v from the adjacency lists of other vertices\\n        del working_copy[v]  # Remove the vertex itself\\n        for edges in working_copy.values():\\n            if v in edges:\\n                edges.remove(v)  # Remove v from other vertices' adjacency lists\\n\\n    return C\""
            ],
            "application/vnd.google.colaboratory.intrinsic+json": {
              "type": "string"
            }
          },
          "metadata": {},
          "execution_count": 78
        }
      ]
    },
    {
      "cell_type": "code",
      "source": [
        "'''# Define a small graph\n",
        "edges_small = [(0, 1), (1, 2), (2, 3), (3, 4), (4, 5)]\n",
        "graph_small = GraphI(edges_small)\n",
        "\n",
        "# Apply approx1\n",
        "vertex_cover_approx1 = approx1(graph_small)\n",
        "print(\"Vertex cover found by approx1:\", vertex_cover_approx1)\n",
        "\n",
        "# Manual verification\n",
        "# For the given graph, the expected behavior is to add the vertices with the highest degree to the cover.\n",
        "# Given the graph structure, multiple correct covers could exist depending on the order vertices are processed.\n",
        "# A valid cover for this graph could be any two consecutive vertices, as they cover all edges between them.\n",
        "'''"
      ],
      "metadata": {
        "id": "vy38wvxwSRD2",
        "outputId": "a92bd1cc-3341-4f9c-b5d9-16cc06d43ad0",
        "colab": {
          "base_uri": "https://localhost:8080/",
          "height": 143
        }
      },
      "execution_count": 79,
      "outputs": [
        {
          "output_type": "execute_result",
          "data": {
            "text/plain": [
              "'# Define a small graph\\nedges_small = [(0, 1), (1, 2), (2, 3), (3, 4), (4, 5)]\\ngraph_small = GraphI(edges_small)\\n\\n# Apply approx1\\nvertex_cover_approx1 = approx1(graph_small)\\nprint(\"Vertex cover found by approx1:\", vertex_cover_approx1)\\n\\n# Manual verification\\n# For the given graph, the expected behavior is to add the vertices with the highest degree to the cover.\\n# Given the graph structure, multiple correct covers could exist depending on the order vertices are processed.\\n# A valid cover for this graph could be any two consecutive vertices, as they cover all edges between them.\\n'"
            ],
            "application/vnd.google.colaboratory.intrinsic+json": {
              "type": "string"
            }
          },
          "metadata": {},
          "execution_count": 79
        }
      ]
    },
    {
      "cell_type": "markdown",
      "source": [
        "Part 2.2: Approx2(graph) takes as an input, an object of Graph and does the following:\n",
        "\n",
        "Start with an empty set C = {}\n",
        "Select a vertex randomly from G which is not already C, call this vertex v\n",
        "Add v to C\n",
        "If C is a Vertex Cover return C, else go to Step 2"
      ],
      "metadata": {
        "id": "cDNzfTLknXeT"
      }
    },
    {
      "cell_type": "code",
      "source": [
        "# import necessary modules\n",
        "import random\n",
        "# define the graph class to encapsulate the graph operations\n",
        "class GraphI:\n",
        "    def __init__(self, edges):\n",
        "        \"\"\"\n",
        "        Initialize the graph with edges.\n",
        "        - edges: A list of tuples (start, end) representing the edges of the graph.\n",
        "        \"\"\"\n",
        "        self.graph = {}\n",
        "        for start, end in edges:\n",
        "            if start not in self.graph:\n",
        "                self.graph[start] = []\n",
        "            self.graph[start].append(end)\n",
        "            if end not in self.graph:\n",
        "                self.graph[end] = []\n",
        "            self.graph[end].append(start)\n",
        "\n",
        "    def get_graph(self):\n",
        "        \"\"\"Return the internal graph representation.\"\"\"\n",
        "        return self.graph"
      ],
      "metadata": {
        "id": "X93kJrhTf3ka"
      },
      "execution_count": 80,
      "outputs": []
    },
    {
      "cell_type": "code",
      "source": [
        "def approx2(G):\n",
        "\n",
        "    graph = G.get_graph()  # Retrieve the graph representation\n",
        "    vertex_cover = set()  # Initialize the vertex cover set\n",
        "\n",
        "    # Continue until all edges are covered\n",
        "    while any(graph[node] for node in graph):\n",
        "        # Randomly select an uncovered vertex\n",
        "        v = random.choice(list(graph.keys()))\n",
        "\n",
        "        # Add the selected vertex to the vertex cover\n",
        "        vertex_cover.add(v)\n",
        "\n",
        "        # Remove the selected vertex and its edges from consideration\n",
        "        for adjacent in list(graph[v]):\n",
        "            graph[adjacent].remove(v)\n",
        "            if not graph[adjacent]:  # If no more connections, remove the node\n",
        "                del graph[adjacent]\n",
        "        del graph[v]\n",
        "\n",
        "    return vertex_cover"
      ],
      "metadata": {
        "id": "JjXcXIh4f7Gk"
      },
      "execution_count": 81,
      "outputs": []
    },
    {
      "cell_type": "code",
      "source": [
        "# Demonstrate the algorithm with an example\n",
        "edges_example = [(0, 1), (1, 2), (2, 3), (3, 4), (4, 0)]  # Example edges of a graph\n",
        "graph_example = GraphI(edges_example)  # Create a graph instance\n",
        "vertex_cover = approx2(graph_example)  # Find the vertex cover using the Approx2 algorithm\n",
        "\n",
        "# Output the result\n",
        "print(\"Vertex Cover found by Approx2:\", vertex_cover)"
      ],
      "metadata": {
        "id": "yvzKnOvEgKVl",
        "outputId": "647fd2d3-9ea5-4b48-8c33-57cb08f5a24c",
        "colab": {
          "base_uri": "https://localhost:8080/"
        }
      },
      "execution_count": 82,
      "outputs": [
        {
          "output_type": "stream",
          "name": "stdout",
          "text": [
            "Vertex Cover found by Approx2: {0, 2, 3, 4}\n"
          ]
        }
      ]
    },
    {
      "cell_type": "code",
      "source": [
        "'''def approx2(G):\n",
        "    working_copy = G.get_graph().copy()  # Make a copy of the graph\n",
        "    C = set()  # Start with an empty set for the vertex cover\n",
        "    vertices = list(working_copy.keys())  # List of vertices to choose from\n",
        "\n",
        "    while vertices:\n",
        "        v = random.choice(vertices)  # Randomly select a vertex v from the list of vertices\n",
        "        C.add(v)  # Add v to the vertex cover set C\n",
        "\n",
        "        # Remove all edges incident to v from the graph\n",
        "        del working_copy[v]  # Remove the vertex itself\n",
        "        for edges in working_copy.values():\n",
        "            if v in edges:\n",
        "                edges.remove(v)  # Remove v from other vertices' adjacency lists\n",
        "\n",
        "        # Update vertices list to only include vertices with remaining edges\n",
        "        vertices = [node for node in working_copy if working_copy[node]]\n",
        "\n",
        "        # Check if C is a vertex cover:\n",
        "        if is_vertex_cover_hm(G, C):\n",
        "            break\n",
        "\n",
        "    return C\n",
        "'''"
      ],
      "metadata": {
        "id": "UnRh5qIqnNwr",
        "outputId": "b0b7ca1f-e71c-4e99-a8b3-532dad283800",
        "colab": {
          "base_uri": "https://localhost:8080/",
          "height": 214
        }
      },
      "execution_count": 83,
      "outputs": [
        {
          "output_type": "execute_result",
          "data": {
            "text/plain": [
              "\"def approx2(G):\\n    working_copy = G.get_graph().copy()  # Make a copy of the graph\\n    C = set()  # Start with an empty set for the vertex cover\\n    vertices = list(working_copy.keys())  # List of vertices to choose from\\n\\n    while vertices:\\n        v = random.choice(vertices)  # Randomly select a vertex v from the list of vertices\\n        C.add(v)  # Add v to the vertex cover set C\\n\\n        # Remove all edges incident to v from the graph\\n        del working_copy[v]  # Remove the vertex itself\\n        for edges in working_copy.values():\\n            if v in edges:\\n                edges.remove(v)  # Remove v from other vertices' adjacency lists\\n\\n        # Update vertices list to only include vertices with remaining edges\\n        vertices = [node for node in working_copy if working_copy[node]]\\n\\n        # Check if C is a vertex cover:\\n        if is_vertex_cover_hm(G, C):\\n            break\\n\\n    return C\\n\""
            ],
            "application/vnd.google.colaboratory.intrinsic+json": {
              "type": "string"
            }
          },
          "metadata": {},
          "execution_count": 83
        }
      ]
    },
    {
      "cell_type": "code",
      "source": [
        " '''# Apply approx2 multiple times\n",
        "for trial in range(5):\n",
        "    vertex_cover_approx2 = approx2(graph_small)\n",
        "    print(f\"Trial {trial}: Vertex cover found by approx2:\", vertex_cover_approx2)\n",
        "\n",
        "# Manual verification\n",
        "# Ensure that the covers found in each trial are valid by manually checking that they cover all edges.\n",
        "'''"
      ],
      "metadata": {
        "id": "jGxeYxVQSU1T",
        "outputId": "950e6a83-a78a-4e1d-9fe4-c7ae6fe2074f",
        "colab": {
          "base_uri": "https://localhost:8080/",
          "height": 89
        }
      },
      "execution_count": 84,
      "outputs": [
        {
          "output_type": "execute_result",
          "data": {
            "text/plain": [
              "'# Apply approx2 multiple times\\nfor trial in range(5):\\n   vertex_cover_approx2 = approx2(graph_small)\\n   print(f\"Trial {trial}: Vertex cover found by approx2:\", vertex_cover_approx2)\\n\\n# Manual verification\\n# Ensure that the covers found in each trial are valid by manually checking that they cover all edges.\\n'"
            ],
            "application/vnd.google.colaboratory.intrinsic+json": {
              "type": "string"
            }
          },
          "metadata": {},
          "execution_count": 84
        }
      ]
    },
    {
      "cell_type": "markdown",
      "source": [
        "Part 2.3: Approx3(graph) takes as an input, an object of Graph and does the following:\n",
        "1. Start with an empty set C = {}\n",
        "2. Select an edge randomly from G, call this edge (u, v)\n",
        "3. Add u and v to C\n",
        "4. Remove all edges incident to u or v from G\n",
        "5. If C is a Vertex Cover return C, else go to Step 2\n",
        "\n",
        "Note: When you remove (or perform any other operation on) an edge, do not directly manipulate the graph, instead work on a local copy of the input graph."
      ],
      "metadata": {
        "id": "afCGiDOwp2Zl"
      }
    },
    {
      "cell_type": "code",
      "source": [
        "import random\n",
        "\n",
        "class GraphI:\n",
        "    \"\"\"\n",
        "    A class to represent a graph using adjacency sets for efficient edge removal.\n",
        "    \"\"\"\n",
        "\n",
        "    def __init__(self, edges):\n",
        "        \"\"\"\n",
        "        Initializes the graph.\n",
        "\n",
        "        Parameters:\n",
        "        - edges: A list of tuples, each representing an edge between two vertices.\n",
        "        \"\"\"\n",
        "        self.graph = {}\n",
        "        for start, end in edges:\n",
        "            if start not in self.graph:\n",
        "                self.graph[start] = set()\n",
        "            if end not in self.graph:\n",
        "                self.graph[end] = set()\n",
        "            self.graph[start].add(end)\n",
        "            self.graph[end].add(start)\n",
        "\n",
        "    def get_graph(self):\n",
        "        \"\"\"\n",
        "        Returns the internal graph representation.\n",
        "        \"\"\"\n",
        "        return self.graph"
      ],
      "metadata": {
        "id": "zr6y_6Ofheov"
      },
      "execution_count": 85,
      "outputs": []
    },
    {
      "cell_type": "code",
      "source": [
        "def approx3(G):\n",
        "    \"\"\"\n",
        "    Implements the Approx3 algorithm to find a vertex cover of a graph G.\n",
        "\n",
        "    Parameters:\n",
        "    - G: An instance of the GraphI class.\n",
        "\n",
        "    Returns:\n",
        "    - A set representing the vertices that form a vertex cover of the graph.\n",
        "    \"\"\"\n",
        "    # Copy the graph to avoid mutating the original\n",
        "    working_graph = {node: set(adj) for node, adj in G.get_graph().items()}\n",
        "\n",
        "    # Initialize an empty set for the vertex cover\n",
        "    C = set()\n",
        "\n",
        "    # Continue until no more edges can be selected\n",
        "    while any(working_graph.values()):  # Check if there's any edge left\n",
        "        edges = [(node, adj_node) for node, adj_nodes in working_graph.items() for adj_node in adj_nodes]\n",
        "        if not edges:  # If there are no edges left, break out of the loop\n",
        "            break\n",
        "\n",
        "        # Randomly select an edge\n",
        "        u, v = random.choice(edges)\n",
        "\n",
        "        # Add both vertices of the edge to the vertex cover\n",
        "        C.add(u)\n",
        "        C.add(v)\n",
        "\n",
        "        # Remove all edges incident to either u or v\n",
        "        for vertex in [u, v]:\n",
        "            for adj in list(working_graph.get(vertex, [])):\n",
        "                working_graph[adj].discard(vertex)\n",
        "                if not working_graph[adj]:  # If no more adjacent, consider removing the vertex\n",
        "                    del working_graph[adj]\n",
        "            if vertex in working_graph:\n",
        "                del working_graph[vertex]\n",
        "\n",
        "    return C\n"
      ],
      "metadata": {
        "id": "s94gpsx2hlEu"
      },
      "execution_count": 86,
      "outputs": []
    },
    {
      "cell_type": "code",
      "source": [],
      "metadata": {
        "id": "W62ITxPQiUTI"
      },
      "execution_count": 86,
      "outputs": []
    },
    {
      "cell_type": "code",
      "source": [
        "def approx3(G):\n",
        "    working_copy = G.get_graph().copy()  # Make a copy of the graph\n",
        "    C = set()  # Start with an empty set for the vertex cover\n",
        "\n",
        "    # Flatten the list of edges and remove duplicates\n",
        "    edges = [(node, adj_node) for node, adj_list in working_copy.items() for adj_node in adj_list]\n",
        "    edges = list(set([tuple(sorted(edge)) for edge in edges]))  # Ensure each edge is unique and undirected\n",
        "\n",
        "    while edges:\n",
        "        u, v = random.choice(edges)  # Randomly select an edge from the list of edges\n",
        "\n",
        "        C.add(u)  # Add both vertices of the edge to the vertex cover set C\n",
        "        C.add(v)\n",
        "\n",
        "        # Remove all edges incident to u or v from the list of edges\n",
        "        edges = [edge for edge in edges if u not in edge and v not in edge]\n",
        "\n",
        "        # Optionally, check if C is a vertex cover at this point\n",
        "        # This check can be omitted for efficiency since the loop logic ensures covering all edges\n",
        "        # if is_vertex_cover_hm(G, C):\n",
        "        #     break\n",
        "\n",
        "    return C"
      ],
      "metadata": {
        "id": "2aJCU2sip1tk"
      },
      "execution_count": 87,
      "outputs": []
    },
    {
      "cell_type": "markdown",
      "source": [
        "Part 2.4: Evaluate whether (or not) the above algorithms return the minimum vertex covers. In case they do not compute how far off the minimum is? For a given random graph with n nodes and e edges, what proportion of the minimum vertex cover is expected from approx1, approx2, approx3?\n",
        "\n",
        "One important thing that you would need is what is the “actual” minimum vertex cover against which you are comparing, what is the baseline. Be creative here.\n",
        "\n",
        "HINT: A potential experiment can be:\n",
        "- Generate 100 random graphs with 6 nodes and e edges where e = {1,5,10,15,20}\n",
        "- Find the minimum Vertex Cover (MVC) for each graph, and sum the size of all these MVCs (this can be a potential baseline).\n",
        "- Run each of your approximations on each of the same 100 graphs (do not modify the graphs within your experiment). Keep track of the sum of the sizes of each approximation’s Vertex Covers\n",
        "- Then you can measure an approximation’s expected performance by looking at that\n",
        "approximation’s size sum over the sum of all MVCs\n",
        "- Graph each of the approximation’s “expected performance” as it relates to the number of edges on the graph.\n",
        "\n",
        "In total, you should have at least three meaningful graphs in this section. This does not mean 1 graph for each approximation! You should be able to plot each of the approximation’s curves on a single graph.\n",
        "\n",
        "Some questions to consider in your experiment:\n",
        "\n",
        "- Is there a relationship between how good we would expect an approximation to be and the number of edges in a graph? In general, does the approximation get better/worse as the number of edges increases/decreases?\n",
        "- Is there a relationship between how good we would expect an approximation to be and the number of nodes in a graph? In general, does the approximation get better/worse as the number of\n",
        "nodes increases/decreases?\n",
        "- The approach described in the Potential Experiment is getting at the average performance of the approximation. What about the worst case of the approximation? To figure that out we would have to test our approximations on every single graph for approx1(). And for the other two the non-deterministic nature of the algorithms makes this even more problematic. However, we may be able to test the worst case for approx1() on very small graphs. How would you generate all graphs of size 5 for example?\n",
        "\n",
        "Discuss these in your reflection section."
      ],
      "metadata": {
        "id": "STfmvYw8qorP"
      }
    },
    {
      "cell_type": "markdown",
      "source": [
        "##2.4.1 Generate Random Graphs\n",
        "First, we'll need to generate random graphs as the foundation for our experiment. Here, we aim to understand how the approximations perform compared to the minimum vertex cover (MVC)."
      ],
      "metadata": {
        "id": "-JEer0KjkKxP"
      }
    },
    {
      "cell_type": "code",
      "source": [
        "import random\n",
        "from itertools import combinations\n",
        "\n",
        "def generate_all_edges(n):\n",
        "    return [(i, j) for i in range(n) for j in range(i + 1, n)]\n",
        "\n",
        "def generate_random_graphs(n_nodes, edge_counts, n_graphs):\n",
        "    all_edges = generate_all_edges(n_nodes)\n",
        "    # Ensure not to sample more edges than available\n",
        "    random_graphs = {e: [random.sample(all_edges, min(e, len(all_edges))) for _ in range(n_graphs)] for e in edge_counts}\n",
        "    return random_graphs\n",
        "\n",
        "n_nodes = 6\n",
        "edge_counts = [1, 5, 10, 15, 20]\n",
        "n_graphs = 100\n",
        "\n",
        "random_graphs = generate_random_graphs(n_nodes, edge_counts, n_graphs)\n",
        "\n",
        "# This adjustment ensures that the sampling process is always valid.\n"
      ],
      "metadata": {
        "id": "XhQRT1wfkKe_"
      },
      "execution_count": 89,
      "outputs": []
    },
    {
      "cell_type": "markdown",
      "source": [
        "##2.4.2 Compute Minimum Vertex Cover (MVC)\n",
        "To compare the approximation algorithms' performance, we first need to find the MVC for our generated graphs."
      ],
      "metadata": {
        "id": "a8ewdaWDlEg1"
      }
    },
    {
      "cell_type": "code",
      "source": [
        "def is_vertex_cover(graph, subset):\n",
        "    for u, v in graph:\n",
        "        if u not in subset and v not in subset:\n",
        "            return False\n",
        "    return True\n",
        "\n",
        "def MVC(graph):\n",
        "    nodes = set([u for u, v in graph] + [v for u, v in graph])\n",
        "    for r in range(len(nodes) + 1):\n",
        "        for subset in combinations(nodes, r):\n",
        "            if is_vertex_cover(graph, subset):\n",
        "                return set(subset)\n",
        "\n",
        "mvc_sizes = {e: [len(MVC(graphs)) for graphs in random_graphs[e]] for e in edge_counts}\n"
      ],
      "metadata": {
        "id": "4qdK_f2UlEHl"
      },
      "execution_count": 29,
      "outputs": []
    },
    {
      "cell_type": "markdown",
      "source": [
        "##2.4.3 Apply Approximation Algorithms\n",
        "Here, we apply approx1, approx2, and approx3 to each generated graph and compute the size of vertex covers they find."
      ],
      "metadata": {
        "id": "zJdI_QHhlPTv"
      }
    },
    {
      "cell_type": "code",
      "source": [
        "# Assuming approx1, approx2, and approx3 are defined as in previous instructions\n",
        "\n",
        "approx_results = {\n",
        "    e: {\n",
        "        'approx1': [len(approx1(GraphI(graph))) for graph in random_graphs[e]],\n",
        "        'approx2': [len(approx2(GraphI(graph))) for graph in random_graphs[e]],\n",
        "        'approx3': [len(approx3(GraphI(graph))) for graph in random_graphs[e]],\n",
        "    } for e in edge_counts\n",
        "}\n"
      ],
      "metadata": {
        "id": "aUuCrPemlSJL"
      },
      "execution_count": 30,
      "outputs": []
    },
    {
      "cell_type": "code",
      "source": [
        "# manual graph creation with a known MVC size\n",
        "known_edges = [(0, 1), (1, 2), (2, 3)]  # A simple chain graph where MVC size is 2\n",
        "known_graph = GraphI(known_edges)\n",
        "known_mvc_size = len(MVC_gi(known_graph))\n",
        "print(f\"Known graph edges: {known_edges}, Computed MVC size: {known_mvc_size}\")\n"
      ],
      "metadata": {
        "id": "IU3Nbd6xzg9e",
        "outputId": "a55b3fec-47cc-4939-ab62-a41004505094",
        "colab": {
          "base_uri": "https://localhost:8080/"
        }
      },
      "execution_count": 49,
      "outputs": [
        {
          "output_type": "stream",
          "name": "stdout",
          "text": [
            "Known graph edges: [(0, 1), (1, 2), (2, 3)], Computed MVC size: 2\n"
          ]
        }
      ]
    },
    {
      "cell_type": "code",
      "source": [
        "# 2.4.1 Generate Random Graphs\n",
        "\n",
        "# Necessary Imports\n",
        "import random\n",
        "import matplotlib.pyplot as plt\n",
        "import numpy as np\n",
        "\n",
        "# Function to generate random graphs\n",
        "def generate_random_graph(n_nodes, n_edges):\n",
        "    edges = []\n",
        "    possible_edges = [(i, j) for i in range(n_nodes) for j in range(i+1, n_nodes)]\n",
        "    selected_edges = random.sample(possible_edges, min(n_edges, len(possible_edges)))\n",
        "    return selected_edges\n",
        "\n",
        "# Parameters\n",
        "n_nodes = 6\n",
        "edge_counts = [1, 5, 10, 15, 20]\n",
        "n_graphs = 100\n",
        "\n",
        "# Generating random graphs\n",
        "random_graphs = {e: [generate_random_graph(n_nodes, e) for _ in range(n_graphs)] for e in edge_counts}\n",
        "\n",
        "# Example debug output\n",
        "for e, graphs in random_graphs.items():\n",
        "    print(f\"Edge count: {e}, Number of graphs: {len(graphs)}, First graph's edges: {graphs[0]}\")\n",
        "\n"
      ],
      "metadata": {
        "id": "_NihapHLrDkr",
        "outputId": "a11fbc87-9a93-46ff-bf52-ce0fac5a26f3",
        "colab": {
          "base_uri": "https://localhost:8080/"
        }
      },
      "execution_count": 90,
      "outputs": [
        {
          "output_type": "stream",
          "name": "stdout",
          "text": [
            "Edge count: 1, Number of graphs: 100, First graph's edges: [(1, 3)]\n",
            "Edge count: 5, Number of graphs: 100, First graph's edges: [(0, 2), (0, 5), (0, 4), (4, 5), (1, 3)]\n",
            "Edge count: 10, Number of graphs: 100, First graph's edges: [(2, 4), (1, 5), (0, 1), (0, 2), (3, 4), (4, 5), (3, 5), (0, 4), (2, 3), (2, 5)]\n",
            "Edge count: 15, Number of graphs: 100, First graph's edges: [(3, 4), (2, 4), (2, 5), (1, 2), (1, 4), (1, 5), (0, 2), (0, 4), (3, 5), (4, 5), (0, 3), (0, 5), (2, 3), (1, 3), (0, 1)]\n",
            "Edge count: 20, Number of graphs: 100, First graph's edges: [(2, 5), (1, 4), (1, 2), (0, 4), (3, 4), (0, 3), (4, 5), (3, 5), (1, 5), (0, 2), (0, 1), (2, 4), (1, 3), (0, 5), (2, 3)]\n"
          ]
        }
      ]
    },
    {
      "cell_type": "code",
      "source": [
        "# 2.4.2 Compute Minimum Vertex Cover (MVC)\n",
        "\n",
        "mvc_sizes = {e: [] for e in edge_counts}\n",
        "for e in edge_counts:\n",
        "    for edges in random_graphs[e]:\n",
        "        graph = GraphI(edges)\n",
        "        mvc_size = len(MVC_gi(graph))\n",
        "        mvc_sizes[e].append(mvc_size)\n",
        "\n",
        "# Example to print average MVC size for each edge count\n",
        "for e, sizes in mvc_sizes.items():\n",
        "    print(f\"Edge Count: {e}, Average MVC Size: {np.mean(sizes)}\")\n"
      ],
      "metadata": {
        "id": "2ZWkabY8rqpF",
        "outputId": "ac3a55eb-bf26-48be-ba36-76fcd4b69c0e",
        "colab": {
          "base_uri": "https://localhost:8080/"
        }
      },
      "execution_count": 91,
      "outputs": [
        {
          "output_type": "stream",
          "name": "stdout",
          "text": [
            "Edge Count: 1, Average MVC Size: 1.0\n",
            "Edge Count: 5, Average MVC Size: 2.03\n",
            "Edge Count: 10, Average MVC Size: 1.56\n",
            "Edge Count: 15, Average MVC Size: 1.0\n",
            "Edge Count: 20, Average MVC Size: 1.0\n"
          ]
        }
      ]
    },
    {
      "cell_type": "code",
      "source": [
        "# 2.4.3 Apply Approximation Algorithms\n",
        "\n",
        "import numpy as np\n",
        "import matplotlib.pyplot as plt\n",
        "\n",
        "\n",
        "def approx1(G):\n",
        "    working_copy = G.get_graph().copy()  # Make a copy of the graph\n",
        "    C = set()  # Start with an empty set for the vertex cover\n",
        "\n",
        "    while True:\n",
        "        # Find the vertex v with the highest degree in the graph\n",
        "        v, edges = max(working_copy.items(), key=lambda item: len(item[1]), default=(None, None))\n",
        "\n",
        "        if v is None or len(edges) == 0:\n",
        "            break  # Break if there are no more edges to cover\n",
        "\n",
        "        C.add(v)  # Add v to the vertex cover set C\n",
        "\n",
        "        del working_copy[v]  # Remove the vertex itself\n",
        "        for edges in working_copy.values():\n",
        "            if v in edges:\n",
        "                edges.remove(v)  # Remove v from other vertices' adjacency lists\n",
        "\n",
        "    return C\n",
        "    pass\n",
        "\n",
        "def approx2(G):\n",
        "    working_copy = G.get_graph().copy()\n",
        "    C = set()\n",
        "    vertices = list(working_copy.keys())\n",
        "\n",
        "    while vertices:\n",
        "        v = random.choice(vertices)  # Randomly select a vertex v from the list of vertices\n",
        "        C.add(v)  # Add v to the vertex cover set C\n",
        "\n",
        "\n",
        "        del working_copy[v]  # Remove the vertex itself\n",
        "        for edges in working_copy.values():\n",
        "            if v in edges:\n",
        "                edges.remove(v)  # Remove v from other vertices' adjacency lists\n",
        "\n",
        "        # Update vertices list to only include vertices with remaining edges\n",
        "        vertices = [node for node in working_copy if working_copy[node]]\n",
        "\n",
        "        # Check if C is a vertex cover:\n",
        "        if is_vertex_cover_hm(G, C):\n",
        "            break\n",
        "\n",
        "    return C\n",
        "    pass\n",
        "\n",
        "def approx3(G):\n",
        "    working_copy = G.get_graph().copy()\n",
        "    C = set()\n",
        "    edges = [(node, adj_node) for node, adj_list in working_copy.items() for adj_node in adj_list]\n",
        "    edges = list(set([tuple(sorted(edge)) for edge in edges]))  # Ensure each edge is unique and undirected\n",
        "\n",
        "    while edges:\n",
        "        u, v = random.choice(edges)  # Randomly select an edge from the list of edges\n",
        "\n",
        "        C.add(u)\n",
        "        C.add(v)\n",
        "\n",
        "        edges = [edge for edge in edges if u not in edge and v not in edge]\n",
        "\n",
        "    return C\n",
        "    pass\n",
        "\n",
        "# Assuming random_graphs is populated from 2.4.1\n",
        "edge_counts = [1, 5, 10, 15, 20]\n",
        "approximations = {'approx1': approx1, 'approx2': approx2, 'approx3': approx3}\n",
        "\n",
        "# Apply approximation algorithms and compute the sizes of vertex covers\n",
        "approx_results = {\n",
        "    e: {\n",
        "        algo: [len(approx_func(GraphI(edges))) for edges in random_graphs[e]]\n",
        "        for algo, approx_func in approximations.items()\n",
        "    } for e in edge_counts\n",
        "}\n",
        "\n",
        "# Calculate and print the average sizes for each approximation and edge count\n",
        "for e in edge_counts:\n",
        "    print(f\"Edge Count: {e}\")\n",
        "    for algo in approximations.keys():\n",
        "        avg_size = np.mean(approx_results[e][algo])\n",
        "        print(f\"{algo} Average Size: {avg_size}\")\n",
        "    print(\"\\n\")\n",
        "\n",
        "# Visualization of results\n",
        "plt.figure(figsize=(10, 6))\n",
        "for algo in approximations.keys():\n",
        "    avg_sizes = [np.mean(approx_results[e][algo]) for e in edge_counts]\n",
        "    plt.plot(edge_counts, avg_sizes, label=algo)\n",
        "plt.xlabel('Edge Count')\n",
        "plt.ylabel('Average Vertex Cover Size')\n",
        "plt.title('Performance of Approximation Algorithms')\n",
        "plt.legend()\n",
        "plt.grid(True)\n",
        "plt.show()\n"
      ],
      "metadata": {
        "id": "ZN0o_MzCrvIU",
        "outputId": "0318141f-12ac-4e09-d919-7f51e34d8797",
        "colab": {
          "base_uri": "https://localhost:8080/",
          "height": 1000
        }
      },
      "execution_count": 92,
      "outputs": [
        {
          "output_type": "stream",
          "name": "stdout",
          "text": [
            "Edge Count: 1\n",
            "approx1 Average Size: 1.0\n",
            "approx2 Average Size: 1.0\n",
            "approx3 Average Size: 2.0\n",
            "\n",
            "\n",
            "Edge Count: 5\n",
            "approx1 Average Size: 2.49\n",
            "approx2 Average Size: 3.46\n",
            "approx3 Average Size: 4.1\n",
            "\n",
            "\n",
            "Edge Count: 10\n",
            "approx1 Average Size: 3.68\n",
            "approx2 Average Size: 4.55\n",
            "approx3 Average Size: 5.18\n",
            "\n",
            "\n",
            "Edge Count: 15\n",
            "approx1 Average Size: 5.0\n",
            "approx2 Average Size: 5.0\n",
            "approx3 Average Size: 6.0\n",
            "\n",
            "\n",
            "Edge Count: 20\n",
            "approx1 Average Size: 5.0\n",
            "approx2 Average Size: 5.0\n",
            "approx3 Average Size: 6.0\n",
            "\n",
            "\n"
          ]
        },
        {
          "output_type": "display_data",
          "data": {
            "text/plain": [
              "<Figure size 1000x600 with 1 Axes>"
            ],
            "image/png": "[encoded data removed]"
          },
          "metadata": {}
        }
      ]
    },
    {
      "cell_type": "code",
      "source": [
        "#2.4.4 Analyze and Compare Results\n",
        "\n",
        "import matplotlib.pyplot as plt\n",
        "import numpy as np\n",
        "\n",
        "approx_ratios = {e: {algo: [] for algo in approximations.keys()} for e in edge_counts}\n",
        "\n",
        "for e in edge_counts:\n",
        "    for algo in approximations.keys():\n",
        "        for i in range(len(mvc_sizes[e])):\n",
        "            # Avoid division by zero if MVC size is 0, which shouldn't normally happen\n",
        "            if mvc_sizes[e][i] == 0:\n",
        "                ratio = float('inf')\n",
        "            else:\n",
        "                ratio = approx_results[e][algo][i] / mvc_sizes[e][i]\n",
        "            approx_ratios[e][algo].append(ratio)\n",
        "\n",
        "# Calculate the average ratio for each approximation algorithm and edge count\n",
        "avg_ratios = {e: {algo: np.mean(approx_ratios[e][algo]) for algo in approximations.keys()} for e in edge_counts}\n",
        "\n",
        "# Display the average ratios\n",
        "for e in edge_counts:\n",
        "    print(f\"Edge Count: {e}\")\n",
        "    for algo in approximations.keys():\n",
        "        print(f\"{algo} Average Ratio to MVC: {avg_ratios[e][algo]:.2f}\")\n",
        "    print(\"\\n\")\n",
        "\n",
        "# Visualization of average ratios\n",
        "plt.figure(figsize=(10, 6))\n",
        "for algo in approximations.keys():\n",
        "    ratios = [avg_ratios[e][algo] for e in edge_counts]\n",
        "    plt.plot(edge_counts, ratios, label=algo)\n",
        "plt.xlabel('Edge Count')\n",
        "plt.ylabel('Average Ratio to MVC')\n",
        "plt.title('Average Ratio of Approximation Sizes to MVC Size')\n",
        "plt.legend()\n",
        "plt.grid(True)\n",
        "plt.show()\n"
      ],
      "metadata": {
        "id": "3CP3Kig0rxVA",
        "outputId": "7a0a5a59-a601-4a5f-a30f-baf0a19a5225",
        "colab": {
          "base_uri": "https://localhost:8080/",
          "height": 1000
        }
      },
      "execution_count": 53,
      "outputs": [
        {
          "output_type": "stream",
          "name": "stdout",
          "text": [
            "Edge Count: 1\n",
            "approx1 Average Ratio to MVC: 1.00\n",
            "approx2 Average Ratio to MVC: 1.00\n",
            "approx3 Average Ratio to MVC: 2.00\n",
            "\n",
            "\n",
            "Edge Count: 5\n",
            "approx1 Average Ratio to MVC: 1.55\n",
            "approx2 Average Ratio to MVC: 1.56\n",
            "approx3 Average Ratio to MVC: 2.14\n",
            "\n",
            "\n",
            "Edge Count: 10\n",
            "approx1 Average Ratio to MVC: 2.53\n",
            "approx2 Average Ratio to MVC: 2.65\n",
            "approx3 Average Ratio to MVC: 3.24\n",
            "\n",
            "\n",
            "Edge Count: 15\n",
            "approx1 Average Ratio to MVC: 5.00\n",
            "approx2 Average Ratio to MVC: 5.00\n",
            "approx3 Average Ratio to MVC: 6.00\n",
            "\n",
            "\n",
            "Edge Count: 20\n",
            "approx1 Average Ratio to MVC: 5.00\n",
            "approx2 Average Ratio to MVC: 5.00\n",
            "approx3 Average Ratio to MVC: 6.00\n",
            "\n",
            "\n"
          ]
        },
        {
          "output_type": "display_data",
          "data": {
            "text/plain": [
              "<Figure size 1000x600 with 1 Axes>"
            ],
            "image/png": "[encoded data removed]"
          },
          "metadata": {}
        }
      ]
    },
    {
      "cell_type": "code",
      "source": [
        "# 2.4.5\n",
        "import numpy as np\n",
        "import matplotlib.pyplot as plt\n",
        "\n",
        "\n",
        "def approx1(G):\n",
        "    working_copy = G.get_graph().copy()\n",
        "    C = set()\n",
        "\n",
        "    while True:\n",
        "        v, edges = max(working_copy.items(), key=lambda item: len(item[1]), default=(None, None))\n",
        "\n",
        "        if v is None or len(edges) == 0:\n",
        "            break\n",
        "        C.add(v)  # Add v to the vertex cover set C\n",
        "\n",
        "        del working_copy[v]\n",
        "        for edges in working_copy.values():\n",
        "            if v in edges:\n",
        "                edges.remove(v)\n",
        "\n",
        "    return C\n",
        "    pass\n",
        "\n",
        "def approx2(G):\n",
        "    working_copy = G.get_graph().copy()\n",
        "    C = set()\n",
        "    vertices = list(working_copy.keys())\n",
        "\n",
        "    while vertices:\n",
        "        v = random.choice(vertices)\n",
        "        C.add(v)\n",
        "\n",
        "        # Remove all edges incident to v from the graph\n",
        "        del working_copy[v]\n",
        "        for edges in working_copy.values():\n",
        "            if v in edges:\n",
        "                edges.remove(v)\n",
        "\n",
        "        # Update vertices list to only include vertices with remaining edges\n",
        "        vertices = [node for node in working_copy if working_copy[node]]\n",
        "\n",
        "        # Check if C is a vertex cover:\n",
        "        if is_vertex_cover_hm(G, C):\n",
        "            break\n",
        "\n",
        "    return C\n",
        "    pass\n",
        "\n",
        "def approx3(G):\n",
        "    working_copy = G.get_graph().copy()\n",
        "    C = set()\n",
        "    edges = [(node, adj_node) for node, adj_list in working_copy.items() for adj_node in adj_list]\n",
        "    edges = list(set([tuple(sorted(edge)) for edge in edges]))  # Ensure each edge is unique and undirected\n",
        "\n",
        "    while edges:\n",
        "        u, v = random.choice(edges)\n",
        "\n",
        "        C.add(u)\n",
        "        C.add(v)\n",
        "\n",
        "        # Remove all edges incident to u or v from the list of edges\n",
        "        edges = [edge for edge in edges if u not in edge and v not in edge]\n",
        "\n",
        "\n",
        "    return C\n",
        "    pass\n",
        "\n",
        "# Define a function to compute the worst-case performance\n",
        "def compute_worst_case_performance(mvc_sizes, approx_sizes):\n",
        "    worst_case_ratios = {}\n",
        "    for e in edge_counts:\n",
        "        worst_case_ratios[e] = max([size / mvc_sizes[e][i] for i, size in enumerate(approx_sizes[e])])\n",
        "    return worst_case_ratios\n",
        "\n",
        "# Compute worst-case performance for each approximation algorithm\n",
        "worst_case_results = {}\n",
        "for algo in ['approx1', 'approx2', 'approx3']:\n",
        "    if algo in approx_results:\n",
        "        worst_case_results[algo] = compute_worst_case_performance(mvc_sizes, approx_results[algo])\n",
        "    else:\n",
        "        print(f\"Results for {algo} are not available in approx_results\")\n",
        "\n",
        "# Display worst-case performance\n",
        "for e in edge_counts:\n",
        "    print(f\"Edge Count: {e}\")\n",
        "    for algo, ratios in worst_case_results.items():\n",
        "        print(f\"{algo} Worst-Case Ratio: {ratios[e]}\")\n",
        "    print(\"\\n\")\n",
        "\n",
        "# Visualization of worst-case performance\n",
        "plt.figure(figsize=(10, 6))\n",
        "\n",
        "# Loop over each algorithm to plot their worst-case ratios\n",
        "for algo in ['approx1', 'approx2', 'approx3']:\n",
        "    if algo in worst_case_results:\n",
        "        if worst_case_results[algo]:\n",
        "            plt.plot(edge_counts, [worst_case_results[algo][e] for e in edge_counts], label=algo)\n",
        "\n",
        "# Only call plt.legend() if we have added any plots to the figure\n",
        "if worst_case_results:\n",
        "    plt.legend()\n",
        "\n",
        "plt.xlabel('Edge Count')\n",
        "plt.ylabel('Worst-Case Ratio to MVC Size')\n",
        "plt.title('Worst-Case Performance of Approximation Algorithms')\n",
        "plt.grid(True)\n",
        "plt.show()\n",
        "\n",
        "\n",
        "print(approx_results.keys())  # This should output dict_keys(['approx1', 'approx2', 'approx3'])\n",
        "\n"
      ],
      "metadata": {
        "id": "F0_zOUHz-YKm",
        "outputId": "fccb5364-3b46-4116-e36b-51a6c412800b",
        "colab": {
          "base_uri": "https://localhost:8080/",
          "height": 823
        }
      },
      "execution_count": 93,
      "outputs": [
        {
          "output_type": "stream",
          "name": "stdout",
          "text": [
            "Results for approx1 are not available in approx_results\n",
            "Results for approx2 are not available in approx_results\n",
            "Results for approx3 are not available in approx_results\n",
            "Edge Count: 1\n",
            "\n",
            "\n",
            "Edge Count: 5\n",
            "\n",
            "\n",
            "Edge Count: 10\n",
            "\n",
            "\n",
            "Edge Count: 15\n",
            "\n",
            "\n",
            "Edge Count: 20\n",
            "\n",
            "\n"
          ]
        },
        {
          "output_type": "display_data",
          "data": {
            "text/plain": [
              "<Figure size 1000x600 with 1 Axes>"
            ],
            "image/png": "[encoded data removed]"
          },
          "metadata": {}
        },
        {
          "output_type": "stream",
          "name": "stdout",
          "text": [
            "dict_keys([1, 5, 10, 15, 20])\n"
          ]
        }
      ]
    },
    {
      "cell_type": "markdown",
      "source": [
        "\n",
        "Another graph problem is the Independent Set problem. Given a graph G = (V, E) we say S is an Independent Set in G if and only if:\n",
        "S ⊆ V and ∀u, v ∈ S, (u, v) ∉ E\n",
        "\n",
        "Or S is an Independent Set if there are no edges in G connecting the nodes in S. In general, it is easy to find an Independent Set of G. For example, {} is trivially an Independent Set. It is much harder to find the largest Independent Set in a graph G.\n",
        "\n",
        "Implement a function MIS(G), which returns a maximum Independent Set in G. Hint, brute force this similar to how we brute forced\n",
        "the MVC problem. But you can use some logic if you want are brave."
      ],
      "metadata": {
        "id": "eqBs43U9ruiv"
      }
    },
    {
      "cell_type": "code",
      "source": [
        "# Function to check if a subset is an independent set\n",
        "def is_independent_set(graph, subset):\n",
        "    for vertex in subset:\n",
        "        for adjacent in graph[vertex]:\n",
        "            if adjacent in subset:\n",
        "                return False\n",
        "    return True\n",
        "\n",
        "# Function to generate the power set of a set\n",
        "def power_set(s):\n",
        "    if not s:\n",
        "        return [[]]\n",
        "    result = power_set(s[:-1])\n",
        "    return result + [x + [s[-1]] for x in result]\n",
        "\n",
        "# Function to find the Maximum Independent Set\n",
        "def MIS(graph):\n",
        "    vertices = list(graph.keys())\n",
        "    all_subsets = power_set(vertices)\n",
        "    max_set = []\n",
        "\n",
        "    for subset in all_subsets:\n",
        "        if is_independent_set(graph, subset) and len(subset) > len(max_set):\n",
        "            max_set = subset\n",
        "\n",
        "    return max_set\n",
        "\n",
        "# Example usage:\n",
        "# Assuming the graph is represented as an adjacency list in a dictionary format\n",
        "graph_example = {\n",
        "    0: [1, 2],\n",
        "    1: [0, 3],\n",
        "    2: [0],\n",
        "    3: [1]\n",
        "}\n",
        "\n",
        "# Compute the Maximum Independent Set\n",
        "max_independent_set = MIS(graph_example)\n",
        "print(\"The Maximum Independent Set is:\", max_independent_set)\n"
      ],
      "metadata": {
        "id": "FyQFGo3FWW0k",
        "outputId": "ba0ec7f4-5cc0-478e-9fe3-351ef4d43781",
        "colab": {
          "base_uri": "https://localhost:8080/"
        }
      },
      "execution_count": 100,
      "outputs": [
        {
          "output_type": "stream",
          "name": "stdout",
          "text": [
            "The Maximum Independent Set is: [1, 2]\n"
          ]
        }
      ]
    },
    {
      "cell_type": "markdown",
      "source": [
        "Part 2.6: Experiment with some random graphs and MIS and MVC. Is there a relationship between the minimum Vertex Cover and the Maximum Independent Set?\n",
        "\n",
        "Hint: yes. Determine what this relationship is. To get started, generate some random graphs with n nodes.\n",
        "When you sum the size of the MIS and the size of the MVC, what do you observe?"
      ],
      "metadata": {
        "id": "T4r8hLCnXzOE"
      }
    },
    {
      "cell_type": "code",
      "source": [
        "import random\n",
        "import itertools\n",
        "\n",
        "# Function to generate a random graph as an adjacency list\n",
        "def generate_random_graph(n_nodes, max_edges):\n",
        "    graph = {i: set() for i in range(n_nodes)}\n",
        "    edges = list(itertools.combinations(range(n_nodes), 2))\n",
        "    random.shuffle(edges)\n",
        "    for (u, v) in edges[:max_edges]:\n",
        "        graph[u].add(v)\n",
        "        graph[v].add(u)\n",
        "    return graph\n",
        "\n",
        "# Brute force function to find MVC\n",
        "def MVC(graph):\n",
        "    nodes = list(graph.keys())\n",
        "    subsets = power_set(nodes)\n",
        "    min_cover = nodes\n",
        "    for subset in subsets:\n",
        "        if is_vertex_cover(graph, subset):\n",
        "            if len(subset) < len(min_cover):\n",
        "                min_cover = subset\n",
        "    return min_cover\n",
        "\n",
        "# Brute force function to find MIS\n",
        "def MIS(graph):\n",
        "    nodes = list(graph.keys())\n",
        "    subsets = power_set(nodes)\n",
        "    max_independent_set = []\n",
        "    for subset in subsets:\n",
        "        if is_independent_set(graph, subset):\n",
        "            if len(subset) > len(max_independent_set):\n",
        "                max_independent_set = subset\n",
        "    return max_independent_set\n",
        "\n",
        "# Function to create the power set of a list\n",
        "def power_set(iterable):\n",
        "    \"power_set([1,2,3]) --> () (1,) (2,) (3,) (1,2,) (1,3,) (2,3,) (1,2,3)\"\n",
        "    s = list(iterable)\n",
        "    return itertools.chain.from_iterable(itertools.combinations(s, r) for r in range(len(s)+1))\n",
        "\n",
        "# Function to check if a set of nodes is a vertex cover\n",
        "def is_vertex_cover(graph, subset):\n",
        "    covered_edges = set()\n",
        "    for u in subset:\n",
        "        for v in graph[u]:\n",
        "            if u < v:  # Avoid counting both (u, v) and (v, u)\n",
        "                covered_edges.add((u, v))\n",
        "    return len(covered_edges) == sum(len(edges) for edges in graph.values()) / 2\n",
        "\n",
        "# Function to check if a set of nodes is an independent set\n",
        "def is_independent_set(graph, subset):\n",
        "    for u in subset:\n",
        "        if any(v in subset for v in graph[u]):\n",
        "            return False\n",
        "    return True\n",
        "\n",
        "# Experiment with random graphs and determine the relationship between MVC and MIS\n",
        "num_nodes = 5\n",
        "max_edges = 10\n",
        "random_graphs = [generate_random_graph(num_nodes, max_edges) for _ in range(10)]\n",
        "\n",
        "for graph in random_graphs:\n",
        "    mvc = MVC(graph)\n",
        "    mis = MIS(graph)\n",
        "    print(f\"MVC size: {len(mvc)}, MIS size: {len(mis)}, Sum: {len(mvc) + len(mis)}\")\n"
      ],
      "metadata": {
        "id": "gpCpFbD6Xpf_",
        "outputId": "ca8e4944-3a4c-4ca6-879d-a1aa419120fa",
        "colab": {
          "base_uri": "https://localhost:8080/"
        }
      },
      "execution_count": 105,
      "outputs": [
        {
          "output_type": "stream",
          "name": "stdout",
          "text": [
            "MVC size: 4, MIS size: 1, Sum: 5\n",
            "MVC size: 4, MIS size: 1, Sum: 5\n",
            "MVC size: 4, MIS size: 1, Sum: 5\n",
            "MVC size: 4, MIS size: 1, Sum: 5\n",
            "MVC size: 4, MIS size: 1, Sum: 5\n",
            "MVC size: 4, MIS size: 1, Sum: 5\n",
            "MVC size: 4, MIS size: 1, Sum: 5\n",
            "MVC size: 4, MIS size: 1, Sum: 5\n",
            "MVC size: 4, MIS size: 1, Sum: 5\n",
            "MVC size: 4, MIS size: 1, Sum: 5\n"
          ]
        }
      ]
    },
    {
      "cell_type": "markdown",
      "source": [
        "Part 2.7: Inspect the MIS and MVC directly as well. What can you empirically conclude? Provide your\n",
        "observations in the reflection section.\n",
        "\n",
        "This experiment involves generating random graphs and computing both the Maximum Independent Set (MIS) and the Minimum Vertex Cover (MVC) for each graph. The MIS is a set of vertices no two of which are adjacent, and the MVC is a set of vertices such that each edge of the graph is incident to at least one vertex of the set. We're interested in observing the relationship between the sizes of the MIS and MVC within these graphs.\n"
      ],
      "metadata": {
        "id": "pN-DjT9xZDxy"
      }
    },
    {
      "cell_type": "code",
      "source": [
        "import random\n",
        "import numpy as np\n",
        "from itertools import combinations\n",
        "\n",
        "# Ddfine a graph class\n",
        "class GraphI:\n",
        "    # initialize the graph with edges\n",
        "    def __init__(self, edges):\n",
        "        self.graph = {}\n",
        "        for x, y in edges:\n",
        "            if x not in self.graph:\n",
        "                self.graph[x] = []\n",
        "            self.graph[x].append(y)\n",
        "\n",
        "    # retrieve the graph's adjacency list representation\n",
        "    def get_graph(self):\n",
        "        return self.graph\n",
        "\n",
        "# generate all subsets of a set\n",
        "def power_set(iterable):\n",
        "    s = list(iterable)\n",
        "    return (combinations(s, r) for r in range(len(s) + 1))\n",
        "\n",
        "# determine if a subset is a vertex cover of the graph\n",
        "def is_vertex_cover(graph, subset):\n",
        "    subset = set(subset)  # Ensure subset is a set for set operations\n",
        "    if not subset:  # Skip if subset is empty\n",
        "        return False\n",
        "    for node, edges in graph.items():\n",
        "        if not subset.intersection(edges) and node not in subset:\n",
        "            return False\n",
        "    return True\n",
        "\n",
        "def is_independent_set(graph, subset):\n",
        "    for node in subset:\n",
        "        for adj_node in graph.get(node, []):\n",
        "            if adj_node in subset:\n",
        "                return False\n",
        "    return True\n",
        "\n",
        "def MIS(graph):\n",
        "    nodes = list(graph.keys())\n",
        "    max_set = set()\n",
        "    for r in range(len(nodes) + 1):\n",
        "        for subset in combinations(nodes, r):\n",
        "            subset_set = set(subset)\n",
        "            if is_independent_set(graph, subset_set) and len(subset_set) > len(max_set):\n",
        "                max_set = subset_set\n",
        "    return max_set\n",
        "\n",
        "def MVC(graph):\n",
        "    nodes = list(graph.keys())\n",
        "    min_cover = set(nodes)\n",
        "    for subset in power_set(nodes):\n",
        "        subset_set = set(subset)\n",
        "        if subset_set and is_vertex_cover(graph, subset_set) and len(subset_set) < len(min_cover):\n",
        "            min_cover = subset_set\n",
        "    return min_cover\n",
        "\n",
        "def inspect_mis_mvc(num_nodes, num_graphs):\n",
        "    for _ in range(num_graphs):\n",
        "        edges = [(i, j) for i in range(num_nodes) for j in range(i + 1, num_nodes)]\n",
        "        random_edges = random.sample(edges, random.randint(1, len(edges)))\n",
        "        graph = GraphI(random_edges).get_graph()\n",
        "        mis = MIS(graph)\n",
        "        mvc = MVC(graph)\n",
        "        print(\"Graph edges:\", random_edges)\n",
        "        print(\"MIS size:\", len(mis), \"MIS:\", mis)\n",
        "        print(\"MVC size:\", len(mvc), \"MVC:\", mvc)\n",
        "        print(\"Sum of sizes:\", len(mis) + len(mvc), \"\\n\")\n",
        "\n",
        "# Execute the experiment with 5 nodes and 10 graphs\n",
        "inspect_mis_mvc(5, 10)\n"
      ],
      "metadata": {
        "id": "LtpPzeo7ZCq6",
        "outputId": "5d357147-4e01-4db6-e623-e7c9512bd485",
        "colab": {
          "base_uri": "https://localhost:8080/"
        }
      },
      "execution_count": 115,
      "outputs": [
        {
          "output_type": "stream",
          "name": "stdout",
          "text": [
            "Graph edges: [(1, 4), (0, 1)]\n",
            "MIS size: 1 MIS: {1}\n",
            "MVC size: 2 MVC: {0, 1}\n",
            "Sum of sizes: 3 \n",
            "\n",
            "Graph edges: [(0, 3), (0, 1), (0, 4), (1, 2), (0, 2), (1, 3)]\n",
            "MIS size: 1 MIS: {0}\n",
            "MVC size: 2 MVC: {0, 1}\n",
            "Sum of sizes: 3 \n",
            "\n",
            "Graph edges: [(2, 3), (1, 4), (0, 2), (0, 3), (2, 4), (1, 2), (1, 3)]\n",
            "MIS size: 2 MIS: {0, 1}\n",
            "MVC size: 3 MVC: {0, 1, 2}\n",
            "Sum of sizes: 5 \n",
            "\n",
            "Graph edges: [(0, 3), (1, 3), (1, 2), (0, 4), (2, 3), (3, 4), (0, 1), (1, 4), (2, 4), (0, 2)]\n",
            "MIS size: 1 MIS: {0}\n",
            "MVC size: 4 MVC: {0, 1, 2, 3}\n",
            "Sum of sizes: 5 \n",
            "\n",
            "Graph edges: [(0, 2), (1, 3), (1, 4), (3, 4), (0, 4)]\n",
            "MIS size: 2 MIS: {0, 1}\n",
            "MVC size: 3 MVC: {0, 1, 3}\n",
            "Sum of sizes: 5 \n",
            "\n",
            "Graph edges: [(0, 3), (0, 4), (3, 4), (1, 4)]\n",
            "MIS size: 2 MIS: {0, 1}\n",
            "MVC size: 3 MVC: {0, 1, 3}\n",
            "Sum of sizes: 5 \n",
            "\n",
            "Graph edges: [(0, 2), (3, 4), (0, 3), (1, 4), (0, 1), (2, 3), (1, 2), (1, 3), (2, 4), (0, 4)]\n",
            "MIS size: 1 MIS: {0}\n",
            "MVC size: 4 MVC: {0, 1, 2, 3}\n",
            "Sum of sizes: 5 \n",
            "\n",
            "Graph edges: [(1, 3), (3, 4), (2, 4), (1, 4), (1, 2)]\n",
            "MIS size: 2 MIS: {2, 3}\n",
            "MVC size: 3 MVC: {1, 2, 3}\n",
            "Sum of sizes: 5 \n",
            "\n",
            "Graph edges: [(1, 4), (0, 4), (1, 3), (0, 2), (0, 1), (1, 2), (0, 3), (2, 4)]\n",
            "MIS size: 1 MIS: {1}\n",
            "MVC size: 3 MVC: {0, 1, 2}\n",
            "Sum of sizes: 4 \n",
            "\n",
            "Graph edges: [(0, 1), (1, 2), (0, 3), (0, 2), (0, 4), (3, 4), (2, 4)]\n",
            "MIS size: 2 MIS: {1, 3}\n",
            "MVC size: 4 MVC: {0, 1, 2, 3}\n",
            "Sum of sizes: 6 \n",
            "\n"
          ]
        }
      ]
    },
    {
      "cell_type": "markdown",
      "source": [
        "#### Reflections on the Experiment\n",
        "\n",
        "The experiment with random graphs has highlighted a fundamental relationship between the Maximum Independent Set (MIS) and the Minimum Vertex Cover (MVC) in graphs. Specifically, we observe that:\n",
        "\n",
        "- The sum of the sizes of the MIS and MVC varies across different graph configurations but consistently aligns with certain properties of the graph's structure.\n",
        "- In several instances, the sum of the sizes of the MIS and MVC equates to the total number of vertices or closely relates to it. This observation suggests a complementary relationship between MIS and MVC in covering the graph's vertices directly or indirectly.\n",
        "- The MIS represents a subset of vertices with no two adjacent, indicating a separation in the graph's connectivity. Conversely, the MVC represents a subset that directly or indirectly connects to all edges, ensuring full coverage.\n"
      ],
      "metadata": {
        "id": "cuwbnx-Gn7O3"
      }
    }
  ],
  "metadata": {
    "kernelspec": {
      "display_name": "base",
      "language": "python",
      "name": "python3"
    },
    "language_info": {
      "codemirror_mode": {
        "name": "ipython",
        "version": 3
      },
      "file_extension": ".py",
      "mimetype": "text/x-python",
      "name": "python",
      "nbconvert_exporter": "python",
      "pygments_lexer": "ipython3",
      "version": "3.9.12"
    },
    "colab": {
      "provenance": []
    }
  },
  "nbformat": 4,
  "nbformat_minor": 0
}