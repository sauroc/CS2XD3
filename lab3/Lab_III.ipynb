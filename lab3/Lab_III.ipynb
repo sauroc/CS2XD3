{
 "cells": [
  {
   "cell_type": "markdown",
   "metadata": {},
   "source": [
    "# Computer Science 2XC3 - Graded Lab II"
   ]
  },
  {
   "cell_type": "markdown",
   "metadata": {},
   "source": [
    "Please refer to the pdf for detailed instructions. The below file contains all the preliminary code you will need to work on the lab. You can copy paste instructions here to create one cohesive lab and organize it that best suits your teams workflow. "
   ]
  },
  {
   "cell_type": "code",
   "execution_count": 4,
   "metadata": {},
   "outputs": [],
   "source": [
    "import random\n",
    "import timeit \n",
    "import matplotlib.pyplot as plt\n",
    "import numpy as np\n",
    "import math"
   ]
  },
  {
   "cell_type": "code",
   "execution_count": 5,
   "metadata": {},
   "outputs": [],
   "source": [
    "class GraphI:\n",
    "\n",
    "    # using hash map\n",
    "    def __init__(self, edges):\n",
    "        self.graph = {}\n",
    "        for x,y in edges:\n",
    "            if x not in self.graph.keys():\n",
    "                self.graph[x]=[]\n",
    "            self.graph[x].append(y)\n",
    "\n",
    "    def has_edge(self, src, dst):\n",
    "        return src in self.graph[dst]\n",
    "\n",
    "    def get_graph_size(self,):\n",
    "        return len(self.graph)\n",
    "    \n",
    "    def get_graph(self,):\n",
    "        return self.graph"
   ]
  },
  {
   "cell_type": "code",
   "execution_count": 6,
   "metadata": {},
   "outputs": [],
   "source": [
    "class GraphII:\n",
    "\n",
    "    # using adjacency list\n",
    "    def __init__(self, nodes):\n",
    "        self.graph = []\n",
    "        # node numbered 0-1\n",
    "        for node in range(nodes):\n",
    "            self.graph.append([])\n",
    "        \n",
    "    def has_edge(self, src, dst):\n",
    "        return src in self.graph[dst]\n",
    "    \n",
    "    def add_edge(self,src,dst):\n",
    "        if not self.has_edge(src,dst):\n",
    "            self.graph[src].append(dst)\n",
    "            self.graph[dst].append(src)\n",
    "    \n",
    "    def get_graph(self,):\n",
    "        return self.graph"
   ]
  },
  {
   "cell_type": "code",
   "execution_count": 7,
   "metadata": {},
   "outputs": [],
   "source": [
    "def depth_first_search(G,node,end_point=None):\n",
    "    stack = [node]\n",
    "    graph = G.get_graph()\n",
    "    seen=set()\n",
    "\n",
    "    while len(stack) !=0:\n",
    "        node = stack.pop()\n",
    "        # search for neighbours in graph\n",
    "        if node not in seen:\n",
    "            seen.add(node)\n",
    "            print(\"Visited node:\" + str(node))\n",
    "            # if the given node has an edge\n",
    "            if node in graph.keys():\n",
    "                # iterate over edges of node\n",
    "                for nn in graph[node]: # meaning new node?\n",
    "\n",
    "                    # limited traversal\n",
    "                    if nn == end_point:\n",
    "                        return True\n",
    "                    # add to stack\n",
    "                    stack.append(nn)"
   ]
  },
  {
   "cell_type": "code",
   "execution_count": 8,
   "metadata": {},
   "outputs": [],
   "source": [
    "#Breadth First Search\n",
    "def breadth_first_search(G, node):\n",
    "    stack = [node]\n",
    "    graph = G.get_graph()\n",
    "    seen=set()\n",
    "\n",
    "    seen.add(node)\n",
    "\n",
    "    while len(stack) > 0:\n",
    "        node = stack[0]\n",
    "        stack = stack[1:]\n",
    "        print(\"Visiting node: \" + str(node))\n",
    "        if node in graph.keys():\n",
    "            for nn in graph[node]:\n",
    "                #if node == node2:\n",
    "                #    return True\n",
    "                if nn not in seen:\n",
    "                    stack.append(nn)\n",
    "                    seen.add(nn)"
   ]
  },
  {
   "cell_type": "code",
   "execution_count": 9,
   "metadata": {},
   "outputs": [],
   "source": [
    "#Use the methods below to determine minimum vertex covers\n",
    "\n",
    "def add_to_each(sets, element):\n",
    "    copy = sets.copy()\n",
    "    for set in copy:\n",
    "        set.append(element)\n",
    "    return copy\n",
    "\n",
    "def power_set(set):\n",
    "    if set == []:\n",
    "        return [[]]\n",
    "    return power_set(set[1:]) + add_to_each(power_set(set[1:]), set[0])\n",
    "\n",
    "def is_vertex_cover(G, C):\n",
    "    for start in G.adj:\n",
    "        for end in G.adj[start]:\n",
    "            if not(start in C or end in C):\n",
    "                return False\n",
    "    return True\n",
    "\n",
    "def MVC(G):\n",
    "    nodes = [i for i in range(G.get_size())]\n",
    "    subsets = power_set(nodes)\n",
    "    min_cover = nodes\n",
    "    for subset in subsets:\n",
    "        if is_vertex_cover(G, subset):\n",
    "            if len(subset) < len(min_cover):\n",
    "                min_cover = subset\n",
    "    return min_cover\n"
   ]
  },
  {
   "cell_type": "code",
   "execution_count": 19,
   "metadata": {},
   "outputs": [
    {
     "name": "stdout",
     "output_type": "stream",
     "text": [
      "Visiting node: 0\n",
      "Visiting node: 1\n",
      "Visiting node: 2\n",
      "Visiting node: 3\n"
     ]
    }
   ],
   "source": [
    "# test_graph = GraphII(4)\n",
    "# test_graph.add_edge(0, 1)\n",
    "# test_graph.add_edge(0, 2)\n",
    "# test_graph.add_edge(0, 3)\n",
    "# test_graph.add_edge(2, 3)\n",
    "\n",
    "# test_graph.get_graph()\n",
    "\n",
    "# 0 has edges 1, 2, 3. 1 has edge 0, 2 has edge 0 and 3, 3 has edge 0 and 2\n",
    "\n",
    "test_graph = GraphI([[0, 1], [0, 2], [0, 3], [2, 3]])\n",
    "test_graph.get_graph()\n",
    "breadth_first_search(test_graph, 0)"
   ]
  },
  {
   "cell_type": "markdown",
   "metadata": {},
   "source": [
    "Part 1.1: Implement BFS2 and DFS2 where the path between two nodes node1 and node2 is returned as a\n",
    "list. For instance, in a graph, if to reach node 8 from node 6, one needs to traverse the path starting at 6 to\n",
    "23, to 12, then to 5, then to 10, and finally to 8, your function BFS2(graph, 6,8) (or DFS2(graph, 6,8) )\n",
    "should return a list [6,23,12,5,10,8]. Implement both BFS2 and DFS2 for this variation."
   ]
  },
  {
   "cell_type": "code",
   "execution_count": 32,
   "metadata": {},
   "outputs": [],
   "source": [
    "# Using the given BFS code and modifying it\n",
    "\n",
    "def bfs_2(G, src, dst):\n",
    "    \n",
    "    path_list = []\n",
    "\n",
    "    stack = [src]\n",
    "    graph = G.get_graph()\n",
    "    seen = set()\n",
    "\n",
    "    seen.add(src)\n",
    "    \n",
    "    path_list.append(src)\n",
    "\n",
    "    while len(stack) > 0:\n",
    "        node = stack[0]\n",
    "        stack = stack[1:]\n",
    "        # print(\"Visiting node: \" + str(node))\n",
    "\n",
    "        # Append node to new list if it hasn't been visited before\n",
    "        if node not in path_list:\n",
    "            path_list.append(node)\n",
    "            # Return the list of nodes visited if the destination node is reached\n",
    "            if node == dst:\n",
    "                return path_list\n",
    "        \n",
    "        if node in graph.keys():\n",
    "            for new_node in graph[node]:\n",
    "                if new_node not in seen:\n",
    "                    stack.append(new_node)\n",
    "                    seen.add(new_node)\n",
    "    return path_list\n",
    "    \n",
    "# Testing\n",
    "# test_graph = GraphI([[0, 1], [1, 5], [1, 6], [5, 3], [5, 2], [5, 6], [6, 4], [6, 7]])\n",
    "# test_graph.get_graph()\n",
    "# # 0, 1, 5, 6, 2, 3, 4, 7\n",
    "# bfs_2(test_graph, 0, 2)\n",
    "\n"
   ]
  },
  {
   "cell_type": "code",
   "execution_count": 53,
   "metadata": {},
   "outputs": [
    {
     "data": {
      "text/plain": [
       "[2, 6, 4]"
      ]
     },
     "execution_count": 53,
     "metadata": {},
     "output_type": "execute_result"
    }
   ],
   "source": [
    "# Using the given DFS code and modifying it\n",
    "\n",
    "def dfs_2(G, src, dst, end_point=None):\n",
    "    stack = [src]\n",
    "    path_list = []\n",
    "    graph = G.get_graph()\n",
    "    seen = set()\n",
    "\n",
    "    \n",
    "\n",
    "    while len(stack) != 0:\n",
    "        node = stack.pop()\n",
    "\n",
    "        if node not in seen:\n",
    "            seen.add(node)\n",
    "            # print(\"Visited node: \" + str(node))\n",
    "\n",
    "            # Check if the visited node is already in path_list, and append it if not\n",
    "            if node not in path_list:\n",
    "                path_list.append(node)\n",
    "                if node == dst:\n",
    "                    return path_list\n",
    "\n",
    "            if node in graph.keys():\n",
    "                for new_node in graph[node]:\n",
    "                    # Due to the given algorithm's limited implementation, it's possible for a dst node to be given that is in the graph but unreachable by the algorithm\n",
    "                    if new_node == end_point:\n",
    "                        return True\n",
    "                    stack.append(new_node)\n",
    "\n",
    "# Testing\n",
    "# test_graph = GraphI([[1, 2], [2, 6], [6, 5], [6, 4]])\n",
    "# dfs_2(test_graph, 2, 4)\n"
   ]
  }
 ],
 "metadata": {
  "kernelspec": {
   "display_name": "base",
   "language": "python",
   "name": "python3"
  },
  "language_info": {
   "codemirror_mode": {
    "name": "ipython",
    "version": 3
   },
   "file_extension": ".py",
   "mimetype": "text/x-python",
   "name": "python",
   "nbconvert_exporter": "python",
   "pygments_lexer": "ipython3",
   "version": "3.9.12"
  }
 },
 "nbformat": 4,
 "nbformat_minor": 2
}
